{
 "cells": [
  {
   "cell_type": "markdown",
   "id": "538e8924",
   "metadata": {},
   "source": [
    "## Importación de librerías"
   ]
  },
  {
   "cell_type": "code",
   "execution_count": 93,
   "id": "e8a09754",
   "metadata": {},
   "outputs": [],
   "source": [
    "# Tratamiento de datos\n",
    "import pandas as pd\n",
    "import numpy as np\n",
    "pd.set_option('display.max_columns',None)"
   ]
  },
  {
   "cell_type": "markdown",
   "id": "ad7e138e",
   "metadata": {},
   "source": [
    "###\n",
    " CARGA DE DATOS BANK"
   ]
  },
  {
   "cell_type": "code",
   "execution_count": 94,
   "id": "c7f76979",
   "metadata": {},
   "outputs": [
    {
     "name": "stderr",
     "output_type": "stream",
     "text": [
      "/var/folders/ff/kw20mg9x5ylfh2vjn3h8xmjc0000gn/T/ipykernel_34015/2446293206.py:1: UserWarning: Could not infer format, so each element will be parsed individually, falling back to `dateutil`. To ensure parsing is consistent and as-expected, please specify a format.\n",
      "  df_bank = pd.read_csv('../data/raw/bank-additional.csv', parse_dates= ['date'])\n"
     ]
    }
   ],
   "source": [
    "df_bank = pd.read_csv('../data/raw/bank-additional.csv', parse_dates= ['date'])"
   ]
  },
  {
   "cell_type": "code",
   "execution_count": 95,
   "id": "cf93d24a",
   "metadata": {},
   "outputs": [
    {
     "data": {
      "text/html": [
       "<div>\n",
       "<style scoped>\n",
       "    .dataframe tbody tr th:only-of-type {\n",
       "        vertical-align: middle;\n",
       "    }\n",
       "\n",
       "    .dataframe tbody tr th {\n",
       "        vertical-align: top;\n",
       "    }\n",
       "\n",
       "    .dataframe thead th {\n",
       "        text-align: right;\n",
       "    }\n",
       "</style>\n",
       "<table border=\"1\" class=\"dataframe\">\n",
       "  <thead>\n",
       "    <tr style=\"text-align: right;\">\n",
       "      <th></th>\n",
       "      <th>Unnamed: 0</th>\n",
       "      <th>age</th>\n",
       "      <th>job</th>\n",
       "      <th>marital</th>\n",
       "      <th>education</th>\n",
       "      <th>default</th>\n",
       "      <th>housing</th>\n",
       "      <th>loan</th>\n",
       "      <th>contact</th>\n",
       "      <th>duration</th>\n",
       "      <th>campaign</th>\n",
       "      <th>pdays</th>\n",
       "      <th>previous</th>\n",
       "      <th>poutcome</th>\n",
       "      <th>emp.var.rate</th>\n",
       "      <th>cons.price.idx</th>\n",
       "      <th>cons.conf.idx</th>\n",
       "      <th>euribor3m</th>\n",
       "      <th>nr.employed</th>\n",
       "      <th>y</th>\n",
       "      <th>date</th>\n",
       "      <th>latitude</th>\n",
       "      <th>longitude</th>\n",
       "      <th>id_</th>\n",
       "    </tr>\n",
       "  </thead>\n",
       "  <tbody>\n",
       "    <tr>\n",
       "      <th>9013</th>\n",
       "      <td>9110</td>\n",
       "      <td>54.0</td>\n",
       "      <td>entrepreneur</td>\n",
       "      <td>MARRIED</td>\n",
       "      <td>basic.9y</td>\n",
       "      <td>0.0</td>\n",
       "      <td>0.0</td>\n",
       "      <td>1.0</td>\n",
       "      <td>telephone</td>\n",
       "      <td>249</td>\n",
       "      <td>6</td>\n",
       "      <td>999</td>\n",
       "      <td>0</td>\n",
       "      <td>NONEXISTENT</td>\n",
       "      <td>1.4</td>\n",
       "      <td>94,465</td>\n",
       "      <td>-41,8</td>\n",
       "      <td>4,967</td>\n",
       "      <td>5228,1</td>\n",
       "      <td>no</td>\n",
       "      <td>11-mayo-2015</td>\n",
       "      <td>29.451</td>\n",
       "      <td>-78.317</td>\n",
       "      <td>aafe8c06-1961-4658-9b4c-0e05c7d4ed0c</td>\n",
       "    </tr>\n",
       "    <tr>\n",
       "      <th>28098</th>\n",
       "      <td>28242</td>\n",
       "      <td>41.0</td>\n",
       "      <td>blue-collar</td>\n",
       "      <td>MARRIED</td>\n",
       "      <td>basic.9y</td>\n",
       "      <td>0.0</td>\n",
       "      <td>0.0</td>\n",
       "      <td>0.0</td>\n",
       "      <td>cellular</td>\n",
       "      <td>161</td>\n",
       "      <td>1</td>\n",
       "      <td>999</td>\n",
       "      <td>1</td>\n",
       "      <td>FAILURE</td>\n",
       "      <td>-1.8</td>\n",
       "      <td>93,075</td>\n",
       "      <td>-47,1</td>\n",
       "      <td>NaN</td>\n",
       "      <td>5099,1</td>\n",
       "      <td>no</td>\n",
       "      <td>11-septiembre-2018</td>\n",
       "      <td>25.509</td>\n",
       "      <td>-87.129</td>\n",
       "      <td>372b4291-328e-4271-b76c-9453b6e61d7a</td>\n",
       "    </tr>\n",
       "    <tr>\n",
       "      <th>13632</th>\n",
       "      <td>13729</td>\n",
       "      <td>32.0</td>\n",
       "      <td>blue-collar</td>\n",
       "      <td>MARRIED</td>\n",
       "      <td>basic.4y</td>\n",
       "      <td>NaN</td>\n",
       "      <td>0.0</td>\n",
       "      <td>0.0</td>\n",
       "      <td>cellular</td>\n",
       "      <td>360</td>\n",
       "      <td>17</td>\n",
       "      <td>999</td>\n",
       "      <td>0</td>\n",
       "      <td>NONEXISTENT</td>\n",
       "      <td>1.4</td>\n",
       "      <td>93,918</td>\n",
       "      <td>-42,7</td>\n",
       "      <td>4,963</td>\n",
       "      <td>5228,1</td>\n",
       "      <td>no</td>\n",
       "      <td>16-febrero-2015</td>\n",
       "      <td>27.730</td>\n",
       "      <td>-118.286</td>\n",
       "      <td>0e8a9961-f9e3-47ff-97de-9c1df14354b2</td>\n",
       "    </tr>\n",
       "    <tr>\n",
       "      <th>18948</th>\n",
       "      <td>19045</td>\n",
       "      <td>39.0</td>\n",
       "      <td>admin.</td>\n",
       "      <td>MARRIED</td>\n",
       "      <td>university.degree</td>\n",
       "      <td>0.0</td>\n",
       "      <td>1.0</td>\n",
       "      <td>1.0</td>\n",
       "      <td>cellular</td>\n",
       "      <td>328</td>\n",
       "      <td>1</td>\n",
       "      <td>999</td>\n",
       "      <td>0</td>\n",
       "      <td>NONEXISTENT</td>\n",
       "      <td>1.4</td>\n",
       "      <td>93,444</td>\n",
       "      <td>-36,1</td>\n",
       "      <td>4,968</td>\n",
       "      <td>5228,1</td>\n",
       "      <td>no</td>\n",
       "      <td>14-julio-2017</td>\n",
       "      <td>27.838</td>\n",
       "      <td>-109.143</td>\n",
       "      <td>b2286441-02af-4b96-873b-c2fe64802155</td>\n",
       "    </tr>\n",
       "    <tr>\n",
       "      <th>28679</th>\n",
       "      <td>28823</td>\n",
       "      <td>27.0</td>\n",
       "      <td>admin.</td>\n",
       "      <td>SINGLE</td>\n",
       "      <td>high.school</td>\n",
       "      <td>0.0</td>\n",
       "      <td>0.0</td>\n",
       "      <td>0.0</td>\n",
       "      <td>telephone</td>\n",
       "      <td>198</td>\n",
       "      <td>3</td>\n",
       "      <td>999</td>\n",
       "      <td>0</td>\n",
       "      <td>NONEXISTENT</td>\n",
       "      <td>-1.8</td>\n",
       "      <td>93,075</td>\n",
       "      <td>-47,1</td>\n",
       "      <td>1,41</td>\n",
       "      <td>5099,1</td>\n",
       "      <td>no</td>\n",
       "      <td>20-octubre-2018</td>\n",
       "      <td>31.787</td>\n",
       "      <td>-67.200</td>\n",
       "      <td>81c06aba-659d-4464-98c9-8740f1b6255a</td>\n",
       "    </tr>\n",
       "  </tbody>\n",
       "</table>\n",
       "</div>"
      ],
      "text/plain": [
       "       Unnamed: 0   age           job  marital          education  default  \\\n",
       "9013         9110  54.0  entrepreneur  MARRIED           basic.9y      0.0   \n",
       "28098       28242  41.0   blue-collar  MARRIED           basic.9y      0.0   \n",
       "13632       13729  32.0   blue-collar  MARRIED           basic.4y      NaN   \n",
       "18948       19045  39.0        admin.  MARRIED  university.degree      0.0   \n",
       "28679       28823  27.0        admin.   SINGLE        high.school      0.0   \n",
       "\n",
       "       housing  loan    contact  duration  campaign  pdays  previous  \\\n",
       "9013       0.0   1.0  telephone       249         6    999         0   \n",
       "28098      0.0   0.0   cellular       161         1    999         1   \n",
       "13632      0.0   0.0   cellular       360        17    999         0   \n",
       "18948      1.0   1.0   cellular       328         1    999         0   \n",
       "28679      0.0   0.0  telephone       198         3    999         0   \n",
       "\n",
       "          poutcome  emp.var.rate cons.price.idx cons.conf.idx euribor3m  \\\n",
       "9013   NONEXISTENT           1.4         94,465         -41,8     4,967   \n",
       "28098      FAILURE          -1.8         93,075         -47,1       NaN   \n",
       "13632  NONEXISTENT           1.4         93,918         -42,7     4,963   \n",
       "18948  NONEXISTENT           1.4         93,444         -36,1     4,968   \n",
       "28679  NONEXISTENT          -1.8         93,075         -47,1      1,41   \n",
       "\n",
       "      nr.employed   y                date  latitude  longitude  \\\n",
       "9013       5228,1  no        11-mayo-2015    29.451    -78.317   \n",
       "28098      5099,1  no  11-septiembre-2018    25.509    -87.129   \n",
       "13632      5228,1  no     16-febrero-2015    27.730   -118.286   \n",
       "18948      5228,1  no       14-julio-2017    27.838   -109.143   \n",
       "28679      5099,1  no     20-octubre-2018    31.787    -67.200   \n",
       "\n",
       "                                        id_  \n",
       "9013   aafe8c06-1961-4658-9b4c-0e05c7d4ed0c  \n",
       "28098  372b4291-328e-4271-b76c-9453b6e61d7a  \n",
       "13632  0e8a9961-f9e3-47ff-97de-9c1df14354b2  \n",
       "18948  b2286441-02af-4b96-873b-c2fe64802155  \n",
       "28679  81c06aba-659d-4464-98c9-8740f1b6255a  "
      ]
     },
     "execution_count": 95,
     "metadata": {},
     "output_type": "execute_result"
    }
   ],
   "source": [
    "df_bank.sample(5)"
   ]
  },
  {
   "cell_type": "markdown",
   "id": "2134f148",
   "metadata": {},
   "source": [
    "### Columnas del dataset\n",
    "\n",
    "- ``age``: La edad del cliente.  \n",
    "- ``job``: La ocupación o profesión del cliente.  \n",
    "- ``marital``: El estado civil del cliente.  \n",
    "- ``education``: El nivel educativo del cliente.  \n",
    "- ``default``: Indica si el cliente tiene historial de incumplimiento de pagos (1: Sí, 0: No).  \n",
    "- ``housing``: Indica si el cliente tiene un préstamo hipotecario (1: Sí, 0: No).  \n",
    "- ``loan``: Indica si el cliente tiene algún otro tipo de préstamo (1: Sí, 0: No).  \n",
    "- ``contact``: Método de contacto utilizado para comunicarse con el cliente.  \n",
    "- ``duration``: Duración en segundos de la última interacción con el cliente.  \n",
    "- ``campaign``: Número de contactos realizados durante esta campaña para este cliente.  \n",
    "- ``pdays``: Número de días desde el último contacto con el cliente en esta campaña.  \n",
    "- ``previous``: Número de contactos previos antes de esta campaña.  \n",
    "- ``poutcome``: Resultado de la campaña de marketing anterior.  \n",
    "- ``emp.var.rate``: Tasa de variación del empleo.  \n",
    "- ``cons.price.idx``: Índice de precios al consumidor.  \n",
    "- ``cons.conf.idx``: Índice de confianza del consumidor.  \n",
    "- ``euribor3m``: Tasa de interés de referencia a tres meses.  \n",
    "- ``nr.employed``: Número de empleados.  \n",
    "- ``y``: Indica si el cliente ha suscrito un producto o servicio (Sí/No).  \n",
    "- ``date``: Fecha en la que se realizó la interacción con el cliente.  \n",
    "- ``contact_month``: Mes en que se realizó la interacción con el cliente durante la campaña.  \n",
    "- ``contact_year``: Año en que se realizó la interacción con el cliente durante la campaña.  \n",
    "- ``id_``: Identificador único de cada registro en el dataset. "
   ]
  },
  {
   "cell_type": "code",
   "execution_count": 96,
   "id": "6fc36396",
   "metadata": {},
   "outputs": [
    {
     "name": "stdout",
     "output_type": "stream",
     "text": [
      "<class 'pandas.core.frame.DataFrame'>\n",
      "RangeIndex: 43000 entries, 0 to 42999\n",
      "Data columns (total 24 columns):\n",
      " #   Column          Non-Null Count  Dtype  \n",
      "---  ------          --------------  -----  \n",
      " 0   Unnamed: 0      43000 non-null  int64  \n",
      " 1   age             37880 non-null  float64\n",
      " 2   job             42655 non-null  object \n",
      " 3   marital         42915 non-null  object \n",
      " 4   education       41193 non-null  object \n",
      " 5   default         34019 non-null  float64\n",
      " 6   housing         41974 non-null  float64\n",
      " 7   loan            41974 non-null  float64\n",
      " 8   contact         43000 non-null  object \n",
      " 9   duration        43000 non-null  int64  \n",
      " 10  campaign        43000 non-null  int64  \n",
      " 11  pdays           43000 non-null  int64  \n",
      " 12  previous        43000 non-null  int64  \n",
      " 13  poutcome        43000 non-null  object \n",
      " 14  emp.var.rate    43000 non-null  float64\n",
      " 15  cons.price.idx  42529 non-null  object \n",
      " 16  cons.conf.idx   43000 non-null  object \n",
      " 17  euribor3m       33744 non-null  object \n",
      " 18  nr.employed     43000 non-null  object \n",
      " 19  y               43000 non-null  object \n",
      " 20  date            42752 non-null  object \n",
      " 21  latitude        43000 non-null  float64\n",
      " 22  longitude       43000 non-null  float64\n",
      " 23  id_             43000 non-null  object \n",
      "dtypes: float64(7), int64(5), object(12)\n",
      "memory usage: 7.9+ MB\n"
     ]
    }
   ],
   "source": [
    "df_bank.info()"
   ]
  },
  {
   "cell_type": "code",
   "execution_count": 97,
   "id": "fcf7018d",
   "metadata": {},
   "outputs": [],
   "source": [
    "# Diccionario de meses en español\n",
    "meses = {\n",
    "    \"enero\": \"01\", \"febrero\": \"02\", \"marzo\": \"03\", \"abril\": \"04\",\n",
    "    \"mayo\": \"05\", \"junio\": \"06\", \"julio\": \"07\", \"agosto\": \"08\",\n",
    "    \"septiembre\": \"09\", \"setiembre\": \"09\", \"octubre\": \"10\",\n",
    "    \"noviembre\": \"11\", \"diciembre\": \"12\"\n",
    "}\n",
    "\n",
    "# 1) Separamos la fecha en tres columnas: día, mes escrito, año\n",
    "df_bank[[\"day\", \"monthwrite\", \"year\"]] = df_bank[\"date\"].str.split(\"-\", expand=True)\n",
    "\n",
    "# 2) Limpiamos espacios y ponemos minúsculas\n",
    "df_bank[\"monthwrite\"] = df_bank[\"monthwrite\"].str.strip().str.lower()\n",
    "\n",
    "# 3) Pasamos el mes de texto a número\n",
    "df_bank[\"month\"] = df_bank[\"monthwrite\"].map(meses)\n",
    "\n",
    "# 4) Creamos la nueva columna de fecha en formato datetime\n",
    "df_bank[\"date\"] = pd.to_datetime(\n",
    "    df_bank[\"day\"] + \"-\" + df_bank[\"month\"] + \"-\" + df_bank[\"year\"],\n",
    "    format=\"%d-%m-%Y\",\n",
    "    errors=\"coerce\"\n",
    ")\n"
   ]
  },
  {
   "cell_type": "code",
   "execution_count": 99,
   "id": "85980d5e",
   "metadata": {},
   "outputs": [
    {
     "ename": "KeyError",
     "evalue": "\"['month_num', 'date_clean'] not found in axis\"",
     "output_type": "error",
     "traceback": [
      "\u001b[0;31m---------------------------------------------------------------------------\u001b[0m",
      "\u001b[0;31mKeyError\u001b[0m                                  Traceback (most recent call last)",
      "Cell \u001b[0;32mIn[99], line 1\u001b[0m\n\u001b[0;32m----> 1\u001b[0m df_bank \u001b[38;5;241m=\u001b[39m \u001b[43mdf_bank\u001b[49m\u001b[38;5;241;43m.\u001b[39;49m\u001b[43mdrop\u001b[49m\u001b[43m(\u001b[49m\u001b[43mcolumns\u001b[49m\u001b[43m \u001b[49m\u001b[38;5;241;43m=\u001b[39;49m\u001b[43m \u001b[49m\u001b[43m[\u001b[49m\u001b[38;5;124;43m\"\u001b[39;49m\u001b[38;5;124;43mday\u001b[39;49m\u001b[38;5;124;43m\"\u001b[39;49m\u001b[43m,\u001b[49m\u001b[43m \u001b[49m\u001b[38;5;124;43m\"\u001b[39;49m\u001b[38;5;124;43mmonthwrite\u001b[39;49m\u001b[38;5;124;43m\"\u001b[39;49m\u001b[43m,\u001b[49m\u001b[43m \u001b[49m\u001b[38;5;124;43m\"\u001b[39;49m\u001b[38;5;124;43myear\u001b[39;49m\u001b[38;5;124;43m\"\u001b[39;49m\u001b[43m,\u001b[49m\u001b[43m \u001b[49m\u001b[38;5;124;43m\"\u001b[39;49m\u001b[38;5;124;43mmonth\u001b[39;49m\u001b[38;5;124;43m\"\u001b[39;49m\u001b[43m,\u001b[49m\u001b[43m \u001b[49m\u001b[38;5;124;43m\"\u001b[39;49m\u001b[38;5;124;43mmonth_num\u001b[39;49m\u001b[38;5;124;43m\"\u001b[39;49m\u001b[43m,\u001b[49m\u001b[43m \u001b[49m\u001b[38;5;124;43m\"\u001b[39;49m\u001b[38;5;124;43mdate_clean\u001b[39;49m\u001b[38;5;124;43m\"\u001b[39;49m\u001b[43m]\u001b[49m\u001b[43m)\u001b[49m\n",
      "File \u001b[0;32m/Library/Frameworks/Python.framework/Versions/3.13/lib/python3.13/site-packages/pandas/core/frame.py:5581\u001b[0m, in \u001b[0;36mDataFrame.drop\u001b[0;34m(self, labels, axis, index, columns, level, inplace, errors)\u001b[0m\n\u001b[1;32m   5433\u001b[0m \u001b[38;5;28;01mdef\u001b[39;00m \u001b[38;5;21mdrop\u001b[39m(\n\u001b[1;32m   5434\u001b[0m     \u001b[38;5;28mself\u001b[39m,\n\u001b[1;32m   5435\u001b[0m     labels: IndexLabel \u001b[38;5;241m|\u001b[39m \u001b[38;5;28;01mNone\u001b[39;00m \u001b[38;5;241m=\u001b[39m \u001b[38;5;28;01mNone\u001b[39;00m,\n\u001b[0;32m   (...)\u001b[0m\n\u001b[1;32m   5442\u001b[0m     errors: IgnoreRaise \u001b[38;5;241m=\u001b[39m \u001b[38;5;124m\"\u001b[39m\u001b[38;5;124mraise\u001b[39m\u001b[38;5;124m\"\u001b[39m,\n\u001b[1;32m   5443\u001b[0m ) \u001b[38;5;241m-\u001b[39m\u001b[38;5;241m>\u001b[39m DataFrame \u001b[38;5;241m|\u001b[39m \u001b[38;5;28;01mNone\u001b[39;00m:\n\u001b[1;32m   5444\u001b[0m \u001b[38;5;250m    \u001b[39m\u001b[38;5;124;03m\"\"\"\u001b[39;00m\n\u001b[1;32m   5445\u001b[0m \u001b[38;5;124;03m    Drop specified labels from rows or columns.\u001b[39;00m\n\u001b[1;32m   5446\u001b[0m \n\u001b[0;32m   (...)\u001b[0m\n\u001b[1;32m   5579\u001b[0m \u001b[38;5;124;03m            weight  1.0     0.8\u001b[39;00m\n\u001b[1;32m   5580\u001b[0m \u001b[38;5;124;03m    \"\"\"\u001b[39;00m\n\u001b[0;32m-> 5581\u001b[0m     \u001b[38;5;28;01mreturn\u001b[39;00m \u001b[38;5;28;43msuper\u001b[39;49m\u001b[43m(\u001b[49m\u001b[43m)\u001b[49m\u001b[38;5;241;43m.\u001b[39;49m\u001b[43mdrop\u001b[49m\u001b[43m(\u001b[49m\n\u001b[1;32m   5582\u001b[0m \u001b[43m        \u001b[49m\u001b[43mlabels\u001b[49m\u001b[38;5;241;43m=\u001b[39;49m\u001b[43mlabels\u001b[49m\u001b[43m,\u001b[49m\n\u001b[1;32m   5583\u001b[0m \u001b[43m        \u001b[49m\u001b[43maxis\u001b[49m\u001b[38;5;241;43m=\u001b[39;49m\u001b[43maxis\u001b[49m\u001b[43m,\u001b[49m\n\u001b[1;32m   5584\u001b[0m \u001b[43m        \u001b[49m\u001b[43mindex\u001b[49m\u001b[38;5;241;43m=\u001b[39;49m\u001b[43mindex\u001b[49m\u001b[43m,\u001b[49m\n\u001b[1;32m   5585\u001b[0m \u001b[43m        \u001b[49m\u001b[43mcolumns\u001b[49m\u001b[38;5;241;43m=\u001b[39;49m\u001b[43mcolumns\u001b[49m\u001b[43m,\u001b[49m\n\u001b[1;32m   5586\u001b[0m \u001b[43m        \u001b[49m\u001b[43mlevel\u001b[49m\u001b[38;5;241;43m=\u001b[39;49m\u001b[43mlevel\u001b[49m\u001b[43m,\u001b[49m\n\u001b[1;32m   5587\u001b[0m \u001b[43m        \u001b[49m\u001b[43minplace\u001b[49m\u001b[38;5;241;43m=\u001b[39;49m\u001b[43minplace\u001b[49m\u001b[43m,\u001b[49m\n\u001b[1;32m   5588\u001b[0m \u001b[43m        \u001b[49m\u001b[43merrors\u001b[49m\u001b[38;5;241;43m=\u001b[39;49m\u001b[43merrors\u001b[49m\u001b[43m,\u001b[49m\n\u001b[1;32m   5589\u001b[0m \u001b[43m    \u001b[49m\u001b[43m)\u001b[49m\n",
      "File \u001b[0;32m/Library/Frameworks/Python.framework/Versions/3.13/lib/python3.13/site-packages/pandas/core/generic.py:4788\u001b[0m, in \u001b[0;36mNDFrame.drop\u001b[0;34m(self, labels, axis, index, columns, level, inplace, errors)\u001b[0m\n\u001b[1;32m   4786\u001b[0m \u001b[38;5;28;01mfor\u001b[39;00m axis, labels \u001b[38;5;129;01min\u001b[39;00m axes\u001b[38;5;241m.\u001b[39mitems():\n\u001b[1;32m   4787\u001b[0m     \u001b[38;5;28;01mif\u001b[39;00m labels \u001b[38;5;129;01mis\u001b[39;00m \u001b[38;5;129;01mnot\u001b[39;00m \u001b[38;5;28;01mNone\u001b[39;00m:\n\u001b[0;32m-> 4788\u001b[0m         obj \u001b[38;5;241m=\u001b[39m \u001b[43mobj\u001b[49m\u001b[38;5;241;43m.\u001b[39;49m\u001b[43m_drop_axis\u001b[49m\u001b[43m(\u001b[49m\u001b[43mlabels\u001b[49m\u001b[43m,\u001b[49m\u001b[43m \u001b[49m\u001b[43maxis\u001b[49m\u001b[43m,\u001b[49m\u001b[43m \u001b[49m\u001b[43mlevel\u001b[49m\u001b[38;5;241;43m=\u001b[39;49m\u001b[43mlevel\u001b[49m\u001b[43m,\u001b[49m\u001b[43m \u001b[49m\u001b[43merrors\u001b[49m\u001b[38;5;241;43m=\u001b[39;49m\u001b[43merrors\u001b[49m\u001b[43m)\u001b[49m\n\u001b[1;32m   4790\u001b[0m \u001b[38;5;28;01mif\u001b[39;00m inplace:\n\u001b[1;32m   4791\u001b[0m     \u001b[38;5;28mself\u001b[39m\u001b[38;5;241m.\u001b[39m_update_inplace(obj)\n",
      "File \u001b[0;32m/Library/Frameworks/Python.framework/Versions/3.13/lib/python3.13/site-packages/pandas/core/generic.py:4830\u001b[0m, in \u001b[0;36mNDFrame._drop_axis\u001b[0;34m(self, labels, axis, level, errors, only_slice)\u001b[0m\n\u001b[1;32m   4828\u001b[0m         new_axis \u001b[38;5;241m=\u001b[39m axis\u001b[38;5;241m.\u001b[39mdrop(labels, level\u001b[38;5;241m=\u001b[39mlevel, errors\u001b[38;5;241m=\u001b[39merrors)\n\u001b[1;32m   4829\u001b[0m     \u001b[38;5;28;01melse\u001b[39;00m:\n\u001b[0;32m-> 4830\u001b[0m         new_axis \u001b[38;5;241m=\u001b[39m \u001b[43maxis\u001b[49m\u001b[38;5;241;43m.\u001b[39;49m\u001b[43mdrop\u001b[49m\u001b[43m(\u001b[49m\u001b[43mlabels\u001b[49m\u001b[43m,\u001b[49m\u001b[43m \u001b[49m\u001b[43merrors\u001b[49m\u001b[38;5;241;43m=\u001b[39;49m\u001b[43merrors\u001b[49m\u001b[43m)\u001b[49m\n\u001b[1;32m   4831\u001b[0m     indexer \u001b[38;5;241m=\u001b[39m axis\u001b[38;5;241m.\u001b[39mget_indexer(new_axis)\n\u001b[1;32m   4833\u001b[0m \u001b[38;5;66;03m# Case for non-unique axis\u001b[39;00m\n\u001b[1;32m   4834\u001b[0m \u001b[38;5;28;01melse\u001b[39;00m:\n",
      "File \u001b[0;32m/Library/Frameworks/Python.framework/Versions/3.13/lib/python3.13/site-packages/pandas/core/indexes/base.py:7070\u001b[0m, in \u001b[0;36mIndex.drop\u001b[0;34m(self, labels, errors)\u001b[0m\n\u001b[1;32m   7068\u001b[0m \u001b[38;5;28;01mif\u001b[39;00m mask\u001b[38;5;241m.\u001b[39many():\n\u001b[1;32m   7069\u001b[0m     \u001b[38;5;28;01mif\u001b[39;00m errors \u001b[38;5;241m!=\u001b[39m \u001b[38;5;124m\"\u001b[39m\u001b[38;5;124mignore\u001b[39m\u001b[38;5;124m\"\u001b[39m:\n\u001b[0;32m-> 7070\u001b[0m         \u001b[38;5;28;01mraise\u001b[39;00m \u001b[38;5;167;01mKeyError\u001b[39;00m(\u001b[38;5;124mf\u001b[39m\u001b[38;5;124m\"\u001b[39m\u001b[38;5;132;01m{\u001b[39;00mlabels[mask]\u001b[38;5;241m.\u001b[39mtolist()\u001b[38;5;132;01m}\u001b[39;00m\u001b[38;5;124m not found in axis\u001b[39m\u001b[38;5;124m\"\u001b[39m)\n\u001b[1;32m   7071\u001b[0m     indexer \u001b[38;5;241m=\u001b[39m indexer[\u001b[38;5;241m~\u001b[39mmask]\n\u001b[1;32m   7072\u001b[0m \u001b[38;5;28;01mreturn\u001b[39;00m \u001b[38;5;28mself\u001b[39m\u001b[38;5;241m.\u001b[39mdelete(indexer)\n",
      "\u001b[0;31mKeyError\u001b[0m: \"['month_num', 'date_clean'] not found in axis\""
     ]
    }
   ],
   "source": [
    "df_bank = df_bank.drop(columns = [\"day\", \"monthwrite\", \"year\", \"month\", \"month_num\", \"date_clean\"])"
   ]
  },
  {
   "cell_type": "markdown",
   "id": "9d94fdee",
   "metadata": {},
   "source": [
    "### Análisis preliminar"
   ]
  },
  {
   "cell_type": "markdown",
   "id": "5c7a6584",
   "metadata": {},
   "source": [
    "Analizando la información, llegamos a la conclusión de:\n",
    "- Unnamed no aporta información útil, por ello podríamos eliminar la columna\n",
    "- cons.price.idx, cons.conf.idx, euribor3m, nr.employed -> hay que cambiarlas a columnas numéricas\n",
    "- age, default, housing, loan, y -> cambiar a enteros Int64 (enteros con NA)\n",
    "- date -> cambiar a datetime"
   ]
  },
  {
   "cell_type": "markdown",
   "id": "d2f41f31",
   "metadata": {},
   "source": [
    "Podemos observar que hay varias columnas con valores nulos, también varias columnas numéricas mal tipadas con object"
   ]
  },
  {
   "cell_type": "code",
   "execution_count": 100,
   "id": "c3109d93",
   "metadata": {},
   "outputs": [],
   "source": [
    "# Vamos a eliminar la columna unnamed que no nos aporta información\n",
    "df_bank = df_bank.drop(columns = [\"Unnamed: 0\"])\n"
   ]
  },
  {
   "cell_type": "code",
   "execution_count": 101,
   "id": "0ee3a654",
   "metadata": {},
   "outputs": [],
   "source": [
    "# Modificamos object por columna numérica en aquellas columnas que lo requieren. Para ello también hay que \n",
    "# modificar la coma a punto, para que Python lo lea como numérica\n",
    "colum_coma = ['cons.price.idx','cons.conf.idx','euribor3m','nr.employed']\n",
    "for col in colum_coma:\n",
    "    df_bank[col] = (\n",
    "        df_bank[col].astype(str)\n",
    "        .str.replace('.', '', regex=False)   # quitamos separador de miles\n",
    "        .str.replace(',', '.', regex=False)  # coma -> punto decimal\n",
    "        .astype(float))\n"
   ]
  },
  {
   "cell_type": "code",
   "execution_count": 102,
   "id": "6b628846",
   "metadata": {},
   "outputs": [
    {
     "data": {
      "text/html": [
       "<div>\n",
       "<style scoped>\n",
       "    .dataframe tbody tr th:only-of-type {\n",
       "        vertical-align: middle;\n",
       "    }\n",
       "\n",
       "    .dataframe tbody tr th {\n",
       "        vertical-align: top;\n",
       "    }\n",
       "\n",
       "    .dataframe thead th {\n",
       "        text-align: right;\n",
       "    }\n",
       "</style>\n",
       "<table border=\"1\" class=\"dataframe\">\n",
       "  <thead>\n",
       "    <tr style=\"text-align: right;\">\n",
       "      <th></th>\n",
       "      <th>age</th>\n",
       "      <th>job</th>\n",
       "      <th>marital</th>\n",
       "      <th>education</th>\n",
       "      <th>default</th>\n",
       "      <th>housing</th>\n",
       "      <th>loan</th>\n",
       "      <th>contact</th>\n",
       "      <th>duration</th>\n",
       "      <th>campaign</th>\n",
       "      <th>pdays</th>\n",
       "      <th>previous</th>\n",
       "      <th>poutcome</th>\n",
       "      <th>emp.var.rate</th>\n",
       "      <th>cons.price.idx</th>\n",
       "      <th>cons.conf.idx</th>\n",
       "      <th>euribor3m</th>\n",
       "      <th>nr.employed</th>\n",
       "      <th>y</th>\n",
       "      <th>date</th>\n",
       "      <th>latitude</th>\n",
       "      <th>longitude</th>\n",
       "      <th>id_</th>\n",
       "      <th>day</th>\n",
       "      <th>monthwrite</th>\n",
       "      <th>year</th>\n",
       "      <th>month</th>\n",
       "    </tr>\n",
       "  </thead>\n",
       "  <tbody>\n",
       "    <tr>\n",
       "      <th>0</th>\n",
       "      <td>NaN</td>\n",
       "      <td>housemaid</td>\n",
       "      <td>MARRIED</td>\n",
       "      <td>basic.4y</td>\n",
       "      <td>0.0</td>\n",
       "      <td>0.0</td>\n",
       "      <td>0.0</td>\n",
       "      <td>telephone</td>\n",
       "      <td>261</td>\n",
       "      <td>1</td>\n",
       "      <td>999</td>\n",
       "      <td>0</td>\n",
       "      <td>NONEXISTENT</td>\n",
       "      <td>1.1</td>\n",
       "      <td>93.994</td>\n",
       "      <td>-36.4</td>\n",
       "      <td>4.857</td>\n",
       "      <td>5191.0</td>\n",
       "      <td>no</td>\n",
       "      <td>2019-08-02</td>\n",
       "      <td>41.495</td>\n",
       "      <td>-71.233</td>\n",
       "      <td>089b39d8-e4d0-461b-87d4-814d71e0e079</td>\n",
       "      <td>2</td>\n",
       "      <td>agosto</td>\n",
       "      <td>2019</td>\n",
       "      <td>08</td>\n",
       "    </tr>\n",
       "    <tr>\n",
       "      <th>1</th>\n",
       "      <td>57.0</td>\n",
       "      <td>services</td>\n",
       "      <td>MARRIED</td>\n",
       "      <td>high.school</td>\n",
       "      <td>NaN</td>\n",
       "      <td>0.0</td>\n",
       "      <td>0.0</td>\n",
       "      <td>telephone</td>\n",
       "      <td>149</td>\n",
       "      <td>1</td>\n",
       "      <td>999</td>\n",
       "      <td>0</td>\n",
       "      <td>NONEXISTENT</td>\n",
       "      <td>1.1</td>\n",
       "      <td>93.994</td>\n",
       "      <td>-36.4</td>\n",
       "      <td>NaN</td>\n",
       "      <td>5191.0</td>\n",
       "      <td>no</td>\n",
       "      <td>2016-09-14</td>\n",
       "      <td>34.601</td>\n",
       "      <td>-83.923</td>\n",
       "      <td>e9d37224-cb6f-4942-98d7-46672963d097</td>\n",
       "      <td>14</td>\n",
       "      <td>septiembre</td>\n",
       "      <td>2016</td>\n",
       "      <td>09</td>\n",
       "    </tr>\n",
       "    <tr>\n",
       "      <th>2</th>\n",
       "      <td>37.0</td>\n",
       "      <td>services</td>\n",
       "      <td>MARRIED</td>\n",
       "      <td>high.school</td>\n",
       "      <td>0.0</td>\n",
       "      <td>1.0</td>\n",
       "      <td>0.0</td>\n",
       "      <td>telephone</td>\n",
       "      <td>226</td>\n",
       "      <td>1</td>\n",
       "      <td>999</td>\n",
       "      <td>0</td>\n",
       "      <td>NONEXISTENT</td>\n",
       "      <td>1.1</td>\n",
       "      <td>93.994</td>\n",
       "      <td>-36.4</td>\n",
       "      <td>4.857</td>\n",
       "      <td>5191.0</td>\n",
       "      <td>no</td>\n",
       "      <td>2019-02-15</td>\n",
       "      <td>34.939</td>\n",
       "      <td>-94.847</td>\n",
       "      <td>3f9f49b5-e410-4948-bf6e-f9244f04918b</td>\n",
       "      <td>15</td>\n",
       "      <td>febrero</td>\n",
       "      <td>2019</td>\n",
       "      <td>02</td>\n",
       "    </tr>\n",
       "    <tr>\n",
       "      <th>3</th>\n",
       "      <td>40.0</td>\n",
       "      <td>admin.</td>\n",
       "      <td>MARRIED</td>\n",
       "      <td>basic.6y</td>\n",
       "      <td>0.0</td>\n",
       "      <td>0.0</td>\n",
       "      <td>0.0</td>\n",
       "      <td>telephone</td>\n",
       "      <td>151</td>\n",
       "      <td>1</td>\n",
       "      <td>999</td>\n",
       "      <td>0</td>\n",
       "      <td>NONEXISTENT</td>\n",
       "      <td>1.1</td>\n",
       "      <td>93.994</td>\n",
       "      <td>-36.4</td>\n",
       "      <td>NaN</td>\n",
       "      <td>5191.0</td>\n",
       "      <td>no</td>\n",
       "      <td>2015-11-29</td>\n",
       "      <td>49.041</td>\n",
       "      <td>-70.308</td>\n",
       "      <td>9991fafb-4447-451a-8be2-b0df6098d13e</td>\n",
       "      <td>29</td>\n",
       "      <td>noviembre</td>\n",
       "      <td>2015</td>\n",
       "      <td>11</td>\n",
       "    </tr>\n",
       "    <tr>\n",
       "      <th>4</th>\n",
       "      <td>56.0</td>\n",
       "      <td>services</td>\n",
       "      <td>MARRIED</td>\n",
       "      <td>high.school</td>\n",
       "      <td>0.0</td>\n",
       "      <td>0.0</td>\n",
       "      <td>1.0</td>\n",
       "      <td>telephone</td>\n",
       "      <td>307</td>\n",
       "      <td>1</td>\n",
       "      <td>999</td>\n",
       "      <td>0</td>\n",
       "      <td>NONEXISTENT</td>\n",
       "      <td>1.1</td>\n",
       "      <td>93.994</td>\n",
       "      <td>-36.4</td>\n",
       "      <td>NaN</td>\n",
       "      <td>5191.0</td>\n",
       "      <td>no</td>\n",
       "      <td>2017-01-29</td>\n",
       "      <td>38.033</td>\n",
       "      <td>-104.463</td>\n",
       "      <td>eca60b76-70b6-4077-80ba-bc52e8ebb0eb</td>\n",
       "      <td>29</td>\n",
       "      <td>enero</td>\n",
       "      <td>2017</td>\n",
       "      <td>01</td>\n",
       "    </tr>\n",
       "  </tbody>\n",
       "</table>\n",
       "</div>"
      ],
      "text/plain": [
       "    age        job  marital    education  default  housing  loan    contact  \\\n",
       "0   NaN  housemaid  MARRIED     basic.4y      0.0      0.0   0.0  telephone   \n",
       "1  57.0   services  MARRIED  high.school      NaN      0.0   0.0  telephone   \n",
       "2  37.0   services  MARRIED  high.school      0.0      1.0   0.0  telephone   \n",
       "3  40.0     admin.  MARRIED     basic.6y      0.0      0.0   0.0  telephone   \n",
       "4  56.0   services  MARRIED  high.school      0.0      0.0   1.0  telephone   \n",
       "\n",
       "   duration  campaign  pdays  previous     poutcome  emp.var.rate  \\\n",
       "0       261         1    999         0  NONEXISTENT           1.1   \n",
       "1       149         1    999         0  NONEXISTENT           1.1   \n",
       "2       226         1    999         0  NONEXISTENT           1.1   \n",
       "3       151         1    999         0  NONEXISTENT           1.1   \n",
       "4       307         1    999         0  NONEXISTENT           1.1   \n",
       "\n",
       "   cons.price.idx  cons.conf.idx  euribor3m  nr.employed   y       date  \\\n",
       "0          93.994          -36.4      4.857       5191.0  no 2019-08-02   \n",
       "1          93.994          -36.4        NaN       5191.0  no 2016-09-14   \n",
       "2          93.994          -36.4      4.857       5191.0  no 2019-02-15   \n",
       "3          93.994          -36.4        NaN       5191.0  no 2015-11-29   \n",
       "4          93.994          -36.4        NaN       5191.0  no 2017-01-29   \n",
       "\n",
       "   latitude  longitude                                   id_ day  monthwrite  \\\n",
       "0    41.495    -71.233  089b39d8-e4d0-461b-87d4-814d71e0e079   2      agosto   \n",
       "1    34.601    -83.923  e9d37224-cb6f-4942-98d7-46672963d097  14  septiembre   \n",
       "2    34.939    -94.847  3f9f49b5-e410-4948-bf6e-f9244f04918b  15     febrero   \n",
       "3    49.041    -70.308  9991fafb-4447-451a-8be2-b0df6098d13e  29   noviembre   \n",
       "4    38.033   -104.463  eca60b76-70b6-4077-80ba-bc52e8ebb0eb  29       enero   \n",
       "\n",
       "   year month  \n",
       "0  2019    08  \n",
       "1  2016    09  \n",
       "2  2019    02  \n",
       "3  2015    11  \n",
       "4  2017    01  "
      ]
     },
     "execution_count": 102,
     "metadata": {},
     "output_type": "execute_result"
    }
   ],
   "source": [
    "df_bank.head()\n"
   ]
  },
  {
   "cell_type": "code",
   "execution_count": 103,
   "id": "8449e2eb",
   "metadata": {},
   "outputs": [
    {
     "data": {
      "text/plain": [
       "(43000, 27)"
      ]
     },
     "execution_count": 103,
     "metadata": {},
     "output_type": "execute_result"
    }
   ],
   "source": [
    "# Observamos cuantas filas y columnas tiene nuestra tabla\n",
    "df_bank.shape"
   ]
  },
  {
   "cell_type": "code",
   "execution_count": 104,
   "id": "3e96877f",
   "metadata": {},
   "outputs": [
    {
     "data": {
      "text/html": [
       "<div>\n",
       "<style scoped>\n",
       "    .dataframe tbody tr th:only-of-type {\n",
       "        vertical-align: middle;\n",
       "    }\n",
       "\n",
       "    .dataframe tbody tr th {\n",
       "        vertical-align: top;\n",
       "    }\n",
       "\n",
       "    .dataframe thead th {\n",
       "        text-align: right;\n",
       "    }\n",
       "</style>\n",
       "<table border=\"1\" class=\"dataframe\">\n",
       "  <thead>\n",
       "    <tr style=\"text-align: right;\">\n",
       "      <th></th>\n",
       "      <th>age</th>\n",
       "      <th>default</th>\n",
       "      <th>housing</th>\n",
       "      <th>loan</th>\n",
       "      <th>duration</th>\n",
       "      <th>campaign</th>\n",
       "      <th>pdays</th>\n",
       "      <th>previous</th>\n",
       "      <th>emp.var.rate</th>\n",
       "      <th>cons.price.idx</th>\n",
       "      <th>cons.conf.idx</th>\n",
       "      <th>euribor3m</th>\n",
       "      <th>nr.employed</th>\n",
       "      <th>date</th>\n",
       "      <th>latitude</th>\n",
       "      <th>longitude</th>\n",
       "    </tr>\n",
       "  </thead>\n",
       "  <tbody>\n",
       "    <tr>\n",
       "      <th>count</th>\n",
       "      <td>37880.000000</td>\n",
       "      <td>34019.000000</td>\n",
       "      <td>41974.000000</td>\n",
       "      <td>41974.000000</td>\n",
       "      <td>43000.000000</td>\n",
       "      <td>43000.000000</td>\n",
       "      <td>43000.000000</td>\n",
       "      <td>43000.000000</td>\n",
       "      <td>43000.000000</td>\n",
       "      <td>42529.000000</td>\n",
       "      <td>43000.000000</td>\n",
       "      <td>33744.000000</td>\n",
       "      <td>43000.000000</td>\n",
       "      <td>42752</td>\n",
       "      <td>43000.000000</td>\n",
       "      <td>43000.000000</td>\n",
       "    </tr>\n",
       "    <tr>\n",
       "      <th>mean</th>\n",
       "      <td>39.977112</td>\n",
       "      <td>0.000088</td>\n",
       "      <td>0.535998</td>\n",
       "      <td>0.155620</td>\n",
       "      <td>257.739279</td>\n",
       "      <td>2.567233</td>\n",
       "      <td>962.330953</td>\n",
       "      <td>0.174023</td>\n",
       "      <td>0.077128</td>\n",
       "      <td>93.574219</td>\n",
       "      <td>-40.509049</td>\n",
       "      <td>3.616521</td>\n",
       "      <td>5166.852602</td>\n",
       "      <td>2017-07-01 19:55:11.676646656</td>\n",
       "      <td>36.856697</td>\n",
       "      <td>-95.939067</td>\n",
       "    </tr>\n",
       "    <tr>\n",
       "      <th>min</th>\n",
       "      <td>17.000000</td>\n",
       "      <td>0.000000</td>\n",
       "      <td>0.000000</td>\n",
       "      <td>0.000000</td>\n",
       "      <td>0.000000</td>\n",
       "      <td>1.000000</td>\n",
       "      <td>0.000000</td>\n",
       "      <td>0.000000</td>\n",
       "      <td>-3.400000</td>\n",
       "      <td>92.201000</td>\n",
       "      <td>-50.800000</td>\n",
       "      <td>0.634000</td>\n",
       "      <td>4963.600000</td>\n",
       "      <td>2015-01-01 00:00:00</td>\n",
       "      <td>24.396000</td>\n",
       "      <td>-124.997000</td>\n",
       "    </tr>\n",
       "    <tr>\n",
       "      <th>25%</th>\n",
       "      <td>32.000000</td>\n",
       "      <td>0.000000</td>\n",
       "      <td>0.000000</td>\n",
       "      <td>0.000000</td>\n",
       "      <td>102.000000</td>\n",
       "      <td>1.000000</td>\n",
       "      <td>999.000000</td>\n",
       "      <td>0.000000</td>\n",
       "      <td>-1.800000</td>\n",
       "      <td>93.075000</td>\n",
       "      <td>-42.700000</td>\n",
       "      <td>1.344000</td>\n",
       "      <td>5099.100000</td>\n",
       "      <td>2016-04-01 00:00:00</td>\n",
       "      <td>30.614750</td>\n",
       "      <td>-110.494250</td>\n",
       "    </tr>\n",
       "    <tr>\n",
       "      <th>50%</th>\n",
       "      <td>38.000000</td>\n",
       "      <td>0.000000</td>\n",
       "      <td>1.000000</td>\n",
       "      <td>0.000000</td>\n",
       "      <td>179.000000</td>\n",
       "      <td>2.000000</td>\n",
       "      <td>999.000000</td>\n",
       "      <td>0.000000</td>\n",
       "      <td>1.100000</td>\n",
       "      <td>93.749000</td>\n",
       "      <td>-41.800000</td>\n",
       "      <td>4.857000</td>\n",
       "      <td>5191.000000</td>\n",
       "      <td>2017-07-04 00:00:00</td>\n",
       "      <td>36.761000</td>\n",
       "      <td>-95.899500</td>\n",
       "    </tr>\n",
       "    <tr>\n",
       "      <th>75%</th>\n",
       "      <td>47.000000</td>\n",
       "      <td>0.000000</td>\n",
       "      <td>1.000000</td>\n",
       "      <td>0.000000</td>\n",
       "      <td>319.000000</td>\n",
       "      <td>3.000000</td>\n",
       "      <td>999.000000</td>\n",
       "      <td>0.000000</td>\n",
       "      <td>1.400000</td>\n",
       "      <td>93.994000</td>\n",
       "      <td>-36.400000</td>\n",
       "      <td>4.961000</td>\n",
       "      <td>5228.100000</td>\n",
       "      <td>2018-10-01 06:00:00</td>\n",
       "      <td>43.113250</td>\n",
       "      <td>-81.427750</td>\n",
       "    </tr>\n",
       "    <tr>\n",
       "      <th>max</th>\n",
       "      <td>98.000000</td>\n",
       "      <td>1.000000</td>\n",
       "      <td>1.000000</td>\n",
       "      <td>1.000000</td>\n",
       "      <td>4918.000000</td>\n",
       "      <td>56.000000</td>\n",
       "      <td>999.000000</td>\n",
       "      <td>7.000000</td>\n",
       "      <td>1.400000</td>\n",
       "      <td>94.767000</td>\n",
       "      <td>-26.900000</td>\n",
       "      <td>5.045000</td>\n",
       "      <td>5228.100000</td>\n",
       "      <td>2019-12-31 00:00:00</td>\n",
       "      <td>49.384000</td>\n",
       "      <td>-66.937000</td>\n",
       "    </tr>\n",
       "    <tr>\n",
       "      <th>std</th>\n",
       "      <td>10.437957</td>\n",
       "      <td>0.009390</td>\n",
       "      <td>0.498708</td>\n",
       "      <td>0.362499</td>\n",
       "      <td>258.666033</td>\n",
       "      <td>2.772294</td>\n",
       "      <td>187.260394</td>\n",
       "      <td>0.497366</td>\n",
       "      <td>1.573898</td>\n",
       "      <td>0.579548</td>\n",
       "      <td>4.637186</td>\n",
       "      <td>1.737117</td>\n",
       "      <td>72.411125</td>\n",
       "      <td>NaN</td>\n",
       "      <td>7.225948</td>\n",
       "      <td>16.752282</td>\n",
       "    </tr>\n",
       "  </tbody>\n",
       "</table>\n",
       "</div>"
      ],
      "text/plain": [
       "                age       default       housing          loan      duration  \\\n",
       "count  37880.000000  34019.000000  41974.000000  41974.000000  43000.000000   \n",
       "mean      39.977112      0.000088      0.535998      0.155620    257.739279   \n",
       "min       17.000000      0.000000      0.000000      0.000000      0.000000   \n",
       "25%       32.000000      0.000000      0.000000      0.000000    102.000000   \n",
       "50%       38.000000      0.000000      1.000000      0.000000    179.000000   \n",
       "75%       47.000000      0.000000      1.000000      0.000000    319.000000   \n",
       "max       98.000000      1.000000      1.000000      1.000000   4918.000000   \n",
       "std       10.437957      0.009390      0.498708      0.362499    258.666033   \n",
       "\n",
       "           campaign         pdays      previous  emp.var.rate  cons.price.idx  \\\n",
       "count  43000.000000  43000.000000  43000.000000  43000.000000    42529.000000   \n",
       "mean       2.567233    962.330953      0.174023      0.077128       93.574219   \n",
       "min        1.000000      0.000000      0.000000     -3.400000       92.201000   \n",
       "25%        1.000000    999.000000      0.000000     -1.800000       93.075000   \n",
       "50%        2.000000    999.000000      0.000000      1.100000       93.749000   \n",
       "75%        3.000000    999.000000      0.000000      1.400000       93.994000   \n",
       "max       56.000000    999.000000      7.000000      1.400000       94.767000   \n",
       "std        2.772294    187.260394      0.497366      1.573898        0.579548   \n",
       "\n",
       "       cons.conf.idx     euribor3m   nr.employed  \\\n",
       "count   43000.000000  33744.000000  43000.000000   \n",
       "mean      -40.509049      3.616521   5166.852602   \n",
       "min       -50.800000      0.634000   4963.600000   \n",
       "25%       -42.700000      1.344000   5099.100000   \n",
       "50%       -41.800000      4.857000   5191.000000   \n",
       "75%       -36.400000      4.961000   5228.100000   \n",
       "max       -26.900000      5.045000   5228.100000   \n",
       "std         4.637186      1.737117     72.411125   \n",
       "\n",
       "                                date      latitude     longitude  \n",
       "count                          42752  43000.000000  43000.000000  \n",
       "mean   2017-07-01 19:55:11.676646656     36.856697    -95.939067  \n",
       "min              2015-01-01 00:00:00     24.396000   -124.997000  \n",
       "25%              2016-04-01 00:00:00     30.614750   -110.494250  \n",
       "50%              2017-07-04 00:00:00     36.761000    -95.899500  \n",
       "75%              2018-10-01 06:00:00     43.113250    -81.427750  \n",
       "max              2019-12-31 00:00:00     49.384000    -66.937000  \n",
       "std                              NaN      7.225948     16.752282  "
      ]
     },
     "execution_count": 104,
     "metadata": {},
     "output_type": "execute_result"
    }
   ],
   "source": [
    "# Visualizamos las estádisticas básicas\n",
    "df_bank.describe()"
   ]
  },
  {
   "cell_type": "code",
   "execution_count": 105,
   "id": "6bdccfde",
   "metadata": {},
   "outputs": [
    {
     "data": {
      "text/plain": [
       "np.int64(0)"
      ]
     },
     "execution_count": 105,
     "metadata": {},
     "output_type": "execute_result"
    }
   ],
   "source": [
    "# Revisamos los duplicados \n",
    "df_bank.duplicated().sum()"
   ]
  },
  {
   "cell_type": "code",
   "execution_count": 106,
   "id": "f9d41108",
   "metadata": {},
   "outputs": [
    {
     "data": {
      "text/plain": [
       "euribor3m         21.525581\n",
       "default           20.886047\n",
       "age               11.906977\n",
       "education          4.202326\n",
       "housing            2.386047\n",
       "loan               2.386047\n",
       "cons.price.idx     1.095349\n",
       "job                0.802326\n",
       "date               0.576744\n",
       "day                0.576744\n",
       "monthwrite         0.576744\n",
       "year               0.576744\n",
       "month              0.576744\n",
       "marital            0.197674\n",
       "dtype: float64"
      ]
     },
     "execution_count": 106,
     "metadata": {},
     "output_type": "execute_result"
    }
   ],
   "source": [
    "nulos_porcentaje = df_bank.isna().mean() * 100\n",
    "nulos_porcentaje[nulos_porcentaje > 0].sort_values(ascending=False)"
   ]
  },
  {
   "cell_type": "code",
   "execution_count": 107,
   "id": "c8166c64",
   "metadata": {},
   "outputs": [
    {
     "data": {
      "text/plain": [
       "date\n",
       "2015.0    8544\n",
       "2016.0    8533\n",
       "2017.0    8562\n",
       "2018.0    8549\n",
       "2019.0    8564\n",
       "Name: count, dtype: int64"
      ]
     },
     "execution_count": 107,
     "metadata": {},
     "output_type": "execute_result"
    }
   ],
   "source": [
    "# Estudiamos cuantos registros distintos hay por año\n",
    "df_bank['date'].dt.year.value_counts().sort_index()\n"
   ]
  },
  {
   "cell_type": "markdown",
   "id": "c7a81e88",
   "metadata": {},
   "source": [
    "La variable date cubre campañas desde 2015 hasta 2019, con un volumen de datos muy similar cada año (aprox. 8500 registros por año). Esto asegura que el dataset tiene una buena cobertura temporal y no está desbalanceado hacia un solo año.\n",
    "\n",
    "A continuación vamos a hacer lo mismo pero con los meses."
   ]
  },
  {
   "cell_type": "code",
   "execution_count": 108,
   "id": "c6b80a5a",
   "metadata": {},
   "outputs": [
    {
     "data": {
      "text/plain": [
       "array([ 8.,  9.,  2., 11.,  1.,  4.,  6.,  3., 10.,  7., 12.,  5., nan])"
      ]
     },
     "execution_count": 108,
     "metadata": {},
     "output_type": "execute_result"
    }
   ],
   "source": [
    "df_bank['date'].dt.month.unique()"
   ]
  },
  {
   "cell_type": "code",
   "execution_count": 109,
   "id": "1de2ab69",
   "metadata": {},
   "outputs": [
    {
     "data": {
      "text/plain": [
       "age               5120\n",
       "job                345\n",
       "marital             85\n",
       "education         1807\n",
       "default           8981\n",
       "housing           1026\n",
       "loan              1026\n",
       "contact              0\n",
       "duration             0\n",
       "campaign             0\n",
       "pdays                0\n",
       "previous             0\n",
       "poutcome             0\n",
       "emp.var.rate         0\n",
       "cons.price.idx     471\n",
       "cons.conf.idx        0\n",
       "euribor3m         9256\n",
       "nr.employed          0\n",
       "y                    0\n",
       "date               248\n",
       "latitude             0\n",
       "longitude            0\n",
       "id_                  0\n",
       "day                248\n",
       "monthwrite         248\n",
       "year               248\n",
       "month              248\n",
       "dtype: int64"
      ]
     },
     "execution_count": 109,
     "metadata": {},
     "output_type": "execute_result"
    }
   ],
   "source": [
    "# Revisamos los nulos que hay en cada columna\n",
    "df_bank.isna().sum()"
   ]
  },
  {
   "cell_type": "markdown",
   "id": "2f36bed7",
   "metadata": {},
   "source": [
    "Los porcentajes son relevantes, sobre todo en euribor3m y default. \n",
    "Haciendo un análisis para tratar los nulos, se ha realizado el siguiente análsis para tratar los datos:\n",
    "\n",
    "- age: Tiene un ~12% de valores nulos. Se imputan usando la mediana, ya que es una variable continua y la mediana es robusta frente a outliers (edades muy extremas)\n",
    "- euribor3m: Presenta un ~21% de nulos. Se decide imputar con la mediana para mantener la distribución general de la variable. No se eliminó la columna porque aporta información económica relevante.\n",
    "cons.price.idx: Con un ~1% de nulos, se imputa también con la mediana, al ser un indicador económico continuo.\n",
    "- default: Presenta un ~21% de nulos. Dado que la gran mayoría de valores son 0 y la variable aporta poca variabilidad, los nulos se imputan con la categoría \"unknown\".\n",
    "- housing y loan: Ambas con un ~2.4% de nulos. Se imputan con \"unknown\" para no eliminar filas que podrían aportar información importante.\n",
    "- education, job, marital: Los nulos son pocos (<5%). Se imputan con \"unknown\".\n",
    "- date: Con apenas un 0.5% de nulos, se decide eliminar directamente esas filas para evitar problemas en los análisis temporales.\n"
   ]
  },
  {
   "cell_type": "code",
   "execution_count": 110,
   "id": "af59c885",
   "metadata": {},
   "outputs": [
    {
     "data": {
      "text/html": [
       "<div>\n",
       "<style scoped>\n",
       "    .dataframe tbody tr th:only-of-type {\n",
       "        vertical-align: middle;\n",
       "    }\n",
       "\n",
       "    .dataframe tbody tr th {\n",
       "        vertical-align: top;\n",
       "    }\n",
       "\n",
       "    .dataframe thead th {\n",
       "        text-align: right;\n",
       "    }\n",
       "</style>\n",
       "<table border=\"1\" class=\"dataframe\">\n",
       "  <thead>\n",
       "    <tr style=\"text-align: right;\">\n",
       "      <th></th>\n",
       "      <th>age</th>\n",
       "      <th>job</th>\n",
       "      <th>marital</th>\n",
       "      <th>education</th>\n",
       "      <th>default</th>\n",
       "      <th>housing</th>\n",
       "      <th>loan</th>\n",
       "      <th>contact</th>\n",
       "      <th>duration</th>\n",
       "      <th>campaign</th>\n",
       "      <th>pdays</th>\n",
       "      <th>previous</th>\n",
       "      <th>poutcome</th>\n",
       "      <th>emp.var.rate</th>\n",
       "      <th>cons.price.idx</th>\n",
       "      <th>cons.conf.idx</th>\n",
       "      <th>euribor3m</th>\n",
       "      <th>nr.employed</th>\n",
       "      <th>y</th>\n",
       "      <th>date</th>\n",
       "      <th>latitude</th>\n",
       "      <th>longitude</th>\n",
       "      <th>id_</th>\n",
       "      <th>day</th>\n",
       "      <th>monthwrite</th>\n",
       "      <th>year</th>\n",
       "      <th>month</th>\n",
       "    </tr>\n",
       "  </thead>\n",
       "  <tbody>\n",
       "    <tr>\n",
       "      <th>32676</th>\n",
       "      <td>29.0</td>\n",
       "      <td>admin.</td>\n",
       "      <td>DIVORCED</td>\n",
       "      <td>high.school</td>\n",
       "      <td>0.0</td>\n",
       "      <td>1.0</td>\n",
       "      <td>1.0</td>\n",
       "      <td>cellular</td>\n",
       "      <td>78</td>\n",
       "      <td>2</td>\n",
       "      <td>999</td>\n",
       "      <td>1</td>\n",
       "      <td>FAILURE</td>\n",
       "      <td>-1.8</td>\n",
       "      <td>92.893</td>\n",
       "      <td>-46.2</td>\n",
       "      <td>1.299</td>\n",
       "      <td>5099.1</td>\n",
       "      <td>no</td>\n",
       "      <td>2018-12-10</td>\n",
       "      <td>34.793</td>\n",
       "      <td>-97.396</td>\n",
       "      <td>a9e6710f-9419-41d9-aefa-97a374d5369a</td>\n",
       "      <td>10</td>\n",
       "      <td>diciembre</td>\n",
       "      <td>2018</td>\n",
       "      <td>12</td>\n",
       "    </tr>\n",
       "    <tr>\n",
       "      <th>37134</th>\n",
       "      <td>19.0</td>\n",
       "      <td>student</td>\n",
       "      <td>SINGLE</td>\n",
       "      <td>basic.9y</td>\n",
       "      <td>0.0</td>\n",
       "      <td>0.0</td>\n",
       "      <td>0.0</td>\n",
       "      <td>cellular</td>\n",
       "      <td>96</td>\n",
       "      <td>1</td>\n",
       "      <td>3</td>\n",
       "      <td>1</td>\n",
       "      <td>SUCCESS</td>\n",
       "      <td>-2.9</td>\n",
       "      <td>92.201</td>\n",
       "      <td>-31.4</td>\n",
       "      <td>0.884</td>\n",
       "      <td>5076.2</td>\n",
       "      <td>no</td>\n",
       "      <td>2017-04-16</td>\n",
       "      <td>31.673</td>\n",
       "      <td>-101.016</td>\n",
       "      <td>9ad42703-6b26-4cc6-a340-ac0377c8d4cb</td>\n",
       "      <td>16</td>\n",
       "      <td>abril</td>\n",
       "      <td>2017</td>\n",
       "      <td>04</td>\n",
       "    </tr>\n",
       "    <tr>\n",
       "      <th>11821</th>\n",
       "      <td>32.0</td>\n",
       "      <td>admin.</td>\n",
       "      <td>SINGLE</td>\n",
       "      <td>university.degree</td>\n",
       "      <td>unknown</td>\n",
       "      <td>0.0</td>\n",
       "      <td>0.0</td>\n",
       "      <td>telephone</td>\n",
       "      <td>44</td>\n",
       "      <td>15</td>\n",
       "      <td>999</td>\n",
       "      <td>0</td>\n",
       "      <td>NONEXISTENT</td>\n",
       "      <td>1.4</td>\n",
       "      <td>94.465</td>\n",
       "      <td>-41.8</td>\n",
       "      <td>4.959</td>\n",
       "      <td>5228.1</td>\n",
       "      <td>no</td>\n",
       "      <td>2016-03-21</td>\n",
       "      <td>26.632</td>\n",
       "      <td>-91.018</td>\n",
       "      <td>92018f56-479c-4f30-bedf-b712e039ed07</td>\n",
       "      <td>21</td>\n",
       "      <td>marzo</td>\n",
       "      <td>2016</td>\n",
       "      <td>03</td>\n",
       "    </tr>\n",
       "  </tbody>\n",
       "</table>\n",
       "</div>"
      ],
      "text/plain": [
       "        age      job   marital          education  default housing loan  \\\n",
       "32676  29.0   admin.  DIVORCED        high.school      0.0     1.0  1.0   \n",
       "37134  19.0  student    SINGLE           basic.9y      0.0     0.0  0.0   \n",
       "11821  32.0   admin.    SINGLE  university.degree  unknown     0.0  0.0   \n",
       "\n",
       "         contact  duration  campaign  pdays  previous     poutcome  \\\n",
       "32676   cellular        78         2    999         1      FAILURE   \n",
       "37134   cellular        96         1      3         1      SUCCESS   \n",
       "11821  telephone        44        15    999         0  NONEXISTENT   \n",
       "\n",
       "       emp.var.rate  cons.price.idx  cons.conf.idx  euribor3m  nr.employed  \\\n",
       "32676          -1.8          92.893          -46.2      1.299       5099.1   \n",
       "37134          -2.9          92.201          -31.4      0.884       5076.2   \n",
       "11821           1.4          94.465          -41.8      4.959       5228.1   \n",
       "\n",
       "        y       date  latitude  longitude  \\\n",
       "32676  no 2018-12-10    34.793    -97.396   \n",
       "37134  no 2017-04-16    31.673   -101.016   \n",
       "11821  no 2016-03-21    26.632    -91.018   \n",
       "\n",
       "                                        id_ day monthwrite  year month  \n",
       "32676  a9e6710f-9419-41d9-aefa-97a374d5369a  10  diciembre  2018    12  \n",
       "37134  9ad42703-6b26-4cc6-a340-ac0377c8d4cb  16      abril  2017    04  \n",
       "11821  92018f56-479c-4f30-bedf-b712e039ed07  21      marzo  2016    03  "
      ]
     },
     "execution_count": 110,
     "metadata": {},
     "output_type": "execute_result"
    }
   ],
   "source": [
    "# Lo primero es definir las listas, una para imputar usando la mediana, y otra lista para modificar el nulo por unknown\n",
    "c_numericas = ['age', 'euribor3m', 'cons.price.idx'] # para las columnas numéricas se usa la mediana\n",
    "c_categoricas = ['job', 'marital', 'education', 'housing', 'loan', 'default'] # para las columnas categoricas se usa unknown\n",
    "\n",
    "# COLUMNAS NUMÉRICAS -> MEDIANA\n",
    "\n",
    "for colum in c_numericas:\n",
    "    mediana = df_bank[colum].median()\n",
    "    df_bank[colum] = df_bank[colum].fillna(mediana)\n",
    "\n",
    "# COLUMNAS CATEGORICAS -> UNKNOWN\n",
    "\n",
    "for colum in c_categoricas:\n",
    "    df_bank[colum] = df_bank[colum].fillna('unknown')\n",
    "\n",
    "df_bank.sample(3)\n"
   ]
  },
  {
   "cell_type": "code",
   "execution_count": 111,
   "id": "8bfd77f0",
   "metadata": {},
   "outputs": [
    {
     "name": "stdout",
     "output_type": "stream",
     "text": [
      "<class 'pandas.core.frame.DataFrame'>\n",
      "RangeIndex: 43000 entries, 0 to 42999\n",
      "Data columns (total 27 columns):\n",
      " #   Column          Non-Null Count  Dtype         \n",
      "---  ------          --------------  -----         \n",
      " 0   age             43000 non-null  float64       \n",
      " 1   job             43000 non-null  object        \n",
      " 2   marital         43000 non-null  object        \n",
      " 3   education       43000 non-null  object        \n",
      " 4   default         43000 non-null  object        \n",
      " 5   housing         43000 non-null  object        \n",
      " 6   loan            43000 non-null  object        \n",
      " 7   contact         43000 non-null  object        \n",
      " 8   duration        43000 non-null  int64         \n",
      " 9   campaign        43000 non-null  int64         \n",
      " 10  pdays           43000 non-null  int64         \n",
      " 11  previous        43000 non-null  int64         \n",
      " 12  poutcome        43000 non-null  object        \n",
      " 13  emp.var.rate    43000 non-null  float64       \n",
      " 14  cons.price.idx  43000 non-null  float64       \n",
      " 15  cons.conf.idx   43000 non-null  float64       \n",
      " 16  euribor3m       43000 non-null  float64       \n",
      " 17  nr.employed     43000 non-null  float64       \n",
      " 18  y               43000 non-null  object        \n",
      " 19  date            42752 non-null  datetime64[ns]\n",
      " 20  latitude        43000 non-null  float64       \n",
      " 21  longitude       43000 non-null  float64       \n",
      " 22  id_             43000 non-null  object        \n",
      " 23  day             42752 non-null  object        \n",
      " 24  monthwrite      42752 non-null  object        \n",
      " 25  year            42752 non-null  object        \n",
      " 26  month           42752 non-null  object        \n",
      "dtypes: datetime64[ns](1), float64(8), int64(4), object(14)\n",
      "memory usage: 8.9+ MB\n"
     ]
    }
   ],
   "source": [
    "df_bank.info()"
   ]
  },
  {
   "cell_type": "code",
   "execution_count": 112,
   "id": "0e946ad7",
   "metadata": {},
   "outputs": [
    {
     "data": {
      "text/plain": [
       "array([2019., 2016., 2015., 2017., 2018.,   nan])"
      ]
     },
     "execution_count": 112,
     "metadata": {},
     "output_type": "execute_result"
    }
   ],
   "source": [
    "# Miramos qué años tienen valores\n",
    "df_bank['date'].dt.year.unique()\n"
   ]
  },
  {
   "cell_type": "code",
   "execution_count": 113,
   "id": "17fe4979",
   "metadata": {},
   "outputs": [
    {
     "data": {
      "text/plain": [
       "date\n",
       "2015.0    8544\n",
       "2016.0    8533\n",
       "2017.0    8562\n",
       "2018.0    8549\n",
       "2019.0    8564\n",
       "Name: count, dtype: int64"
      ]
     },
     "execution_count": 113,
     "metadata": {},
     "output_type": "execute_result"
    }
   ],
   "source": [
    "df_bank['date'].dt.year.value_counts().sort_index()"
   ]
  },
  {
   "cell_type": "code",
   "execution_count": 114,
   "id": "b543f8fc",
   "metadata": {},
   "outputs": [],
   "source": [
    "df_bank['date'] = pd.to_datetime(df_bank['date'], errors='coerce')\n"
   ]
  },
  {
   "cell_type": "code",
   "execution_count": 115,
   "id": "21dc4154",
   "metadata": {},
   "outputs": [
    {
     "name": "stdout",
     "output_type": "stream",
     "text": [
      "year\n",
      "2015.0    8544\n",
      "2016.0    8533\n",
      "2017.0    8562\n",
      "2018.0    8549\n",
      "2019.0    8564\n",
      "Name: count, dtype: int64\n",
      "month\n",
      "1.0     3517\n",
      "2.0     3577\n",
      "3.0     3589\n",
      "4.0     3582\n",
      "5.0     3547\n",
      "6.0     3538\n",
      "7.0     3593\n",
      "8.0     3526\n",
      "9.0     3569\n",
      "10.0    3599\n",
      "11.0    3603\n",
      "12.0    3512\n",
      "Name: count, dtype: int64\n"
     ]
    }
   ],
   "source": [
    "#Ahora vamos a estudiar cuantos años hay por mes:\n",
    "# Creamos año y mes como nuevas columnas\n",
    "df_bank['year'] = df_bank['date'].dt.year\n",
    "df_bank['month'] = df_bank['date'].dt.month\n",
    "\n",
    "# Por año\n",
    "print(df_bank['year'].value_counts().sort_index())\n",
    "\n",
    "# Por mes (todos los años juntos)\n",
    "print(df_bank['month'].value_counts().sort_index())\n",
    "\n",
    "#Ponemos el print para que nos salga el resultado de ambas salidas\n"
   ]
  },
  {
   "cell_type": "markdown",
   "id": "0ef9b117",
   "metadata": {},
   "source": [
    "### ANÁLISIS DESCRIPTIVO Y VISUALIZACIÓN DE DATOS"
   ]
  },
  {
   "cell_type": "code",
   "execution_count": 116,
   "id": "82f33a8a",
   "metadata": {},
   "outputs": [
    {
     "name": "stdout",
     "output_type": "stream",
     "text": [
      "Requirement already satisfied: seaborn in /Library/Frameworks/Python.framework/Versions/3.13/lib/python3.13/site-packages (0.13.2)\n",
      "Requirement already satisfied: numpy!=1.24.0,>=1.20 in /Library/Frameworks/Python.framework/Versions/3.13/lib/python3.13/site-packages (from seaborn) (2.2.2)\n",
      "Requirement already satisfied: pandas>=1.2 in /Library/Frameworks/Python.framework/Versions/3.13/lib/python3.13/site-packages (from seaborn) (2.2.3)\n",
      "Requirement already satisfied: matplotlib!=3.6.1,>=3.4 in /Library/Frameworks/Python.framework/Versions/3.13/lib/python3.13/site-packages (from seaborn) (3.10.6)\n",
      "Requirement already satisfied: contourpy>=1.0.1 in /Library/Frameworks/Python.framework/Versions/3.13/lib/python3.13/site-packages (from matplotlib!=3.6.1,>=3.4->seaborn) (1.3.3)\n",
      "Requirement already satisfied: cycler>=0.10 in /Library/Frameworks/Python.framework/Versions/3.13/lib/python3.13/site-packages (from matplotlib!=3.6.1,>=3.4->seaborn) (0.12.1)\n",
      "Requirement already satisfied: fonttools>=4.22.0 in /Library/Frameworks/Python.framework/Versions/3.13/lib/python3.13/site-packages (from matplotlib!=3.6.1,>=3.4->seaborn) (4.60.0)\n",
      "Requirement already satisfied: kiwisolver>=1.3.1 in /Library/Frameworks/Python.framework/Versions/3.13/lib/python3.13/site-packages (from matplotlib!=3.6.1,>=3.4->seaborn) (1.4.9)\n",
      "Requirement already satisfied: packaging>=20.0 in /Users/sofiaoliva/Library/Python/3.13/lib/python/site-packages (from matplotlib!=3.6.1,>=3.4->seaborn) (24.2)\n",
      "Requirement already satisfied: pillow>=8 in /Library/Frameworks/Python.framework/Versions/3.13/lib/python3.13/site-packages (from matplotlib!=3.6.1,>=3.4->seaborn) (11.3.0)\n",
      "Requirement already satisfied: pyparsing>=2.3.1 in /Library/Frameworks/Python.framework/Versions/3.13/lib/python3.13/site-packages (from matplotlib!=3.6.1,>=3.4->seaborn) (3.2.5)\n",
      "Requirement already satisfied: python-dateutil>=2.7 in /Users/sofiaoliva/Library/Python/3.13/lib/python/site-packages (from matplotlib!=3.6.1,>=3.4->seaborn) (2.9.0.post0)\n",
      "Requirement already satisfied: pytz>=2020.1 in /Library/Frameworks/Python.framework/Versions/3.13/lib/python3.13/site-packages (from pandas>=1.2->seaborn) (2024.2)\n",
      "Requirement already satisfied: tzdata>=2022.7 in /Library/Frameworks/Python.framework/Versions/3.13/lib/python3.13/site-packages (from pandas>=1.2->seaborn) (2025.1)\n",
      "Requirement already satisfied: six>=1.5 in /Users/sofiaoliva/Library/Python/3.13/lib/python/site-packages (from python-dateutil>=2.7->matplotlib!=3.6.1,>=3.4->seaborn) (1.17.0)\n",
      "\n",
      "\u001b[1m[\u001b[0m\u001b[34;49mnotice\u001b[0m\u001b[1;39;49m]\u001b[0m\u001b[39;49m A new release of pip is available: \u001b[0m\u001b[31;49m24.2\u001b[0m\u001b[39;49m -> \u001b[0m\u001b[32;49m25.2\u001b[0m\n",
      "\u001b[1m[\u001b[0m\u001b[34;49mnotice\u001b[0m\u001b[1;39;49m]\u001b[0m\u001b[39;49m To update, run: \u001b[0m\u001b[32;49mpip3 install --upgrade pip\u001b[0m\n",
      "Note: you may need to restart the kernel to use updated packages.\n"
     ]
    }
   ],
   "source": [
    "pip install seaborn"
   ]
  },
  {
   "cell_type": "markdown",
   "id": "6752cae0",
   "metadata": {},
   "source": [
    "##### Variables numéricas"
   ]
  },
  {
   "cell_type": "code",
   "execution_count": 117,
   "id": "bdac24d7",
   "metadata": {},
   "outputs": [],
   "source": [
    "# importamos las extensiones necesarias\n",
    "import seaborn as sns\n",
    "import matplotlib.pyplot as plt"
   ]
  },
  {
   "cell_type": "code",
   "execution_count": 118,
   "id": "cb1211c2",
   "metadata": {},
   "outputs": [
    {
     "data": {
      "text/plain": [
       "count    43000.000000\n",
       "mean        39.741698\n",
       "std          9.817735\n",
       "min         17.000000\n",
       "25%         33.000000\n",
       "50%         38.000000\n",
       "75%         46.000000\n",
       "max         98.000000\n",
       "Name: age, dtype: float64"
      ]
     },
     "execution_count": 118,
     "metadata": {},
     "output_type": "execute_result"
    }
   ],
   "source": [
    "# Vamos a estudiar la variable age para ver como se distribuyen los valores\n",
    "df_bank['age'].describe()"
   ]
  },
  {
   "cell_type": "code",
   "execution_count": 119,
   "id": "c042cb28",
   "metadata": {},
   "outputs": [
    {
     "data": {
      "image/png": "[encoded data removed]",
      "text/plain": [
       "<Figure size 700x400 with 1 Axes>"
      ]
     },
     "metadata": {},
     "output_type": "display_data"
    }
   ],
   "source": [
    "# Realizamos el histograma, para ver los datos de manera visual\n",
    "\n",
    "plt.figure(figsize=(7,4))\n",
    "sns.histplot(df_bank['age'], bins=30)\n",
    "plt.title(\"Distribución de la edad de los clientes\")\n",
    "plt.xlabel(\"Edad\")\n",
    "plt.ylabel(\"Frecuencia\")\n",
    "plt.show()\n"
   ]
  },
  {
   "cell_type": "code",
   "execution_count": 120,
   "id": "13659d1d",
   "metadata": {},
   "outputs": [
    {
     "data": {
      "image/png": "[encoded data removed]",
      "text/plain": [
       "<Figure size 600x200 with 1 Axes>"
      ]
     },
     "metadata": {},
     "output_type": "display_data"
    }
   ],
   "source": [
    "# A continuación estudiamos los outliers con un boxplot\n",
    "plt.figure(figsize=(6,2))\n",
    "sns.boxplot(x=df_bank['age'])\n",
    "plt.title(\"Boxplot de la edad de los clientes\")\n",
    "plt.show()\n"
   ]
  },
  {
   "cell_type": "markdown",
   "id": "2100a5c9",
   "metadata": {},
   "source": [
    "Como conclusión del análisis de la columna age, la mayoria de los clientes se concentran en la edad de 39 años (sobre todo entre 30 y 50 años). Como se ve en el gráfico Boxplot, existen outliers que se muetsran como circulos, sin embargo no parecen datos erroneos, simplemente clientes fuera del rango común."
   ]
  },
  {
   "cell_type": "code",
   "execution_count": 121,
   "id": "f4ea5f14",
   "metadata": {},
   "outputs": [
    {
     "data": {
      "text/plain": [
       "count    43000.000000\n",
       "mean       257.739279\n",
       "std        258.666033\n",
       "min          0.000000\n",
       "25%        102.000000\n",
       "50%        179.000000\n",
       "75%        319.000000\n",
       "max       4918.000000\n",
       "Name: duration, dtype: float64"
      ]
     },
     "execution_count": 121,
     "metadata": {},
     "output_type": "execute_result"
    }
   ],
   "source": [
    "# A continuación estudio la variable duration\n",
    "df_bank['duration'].describe()"
   ]
  },
  {
   "cell_type": "code",
   "execution_count": 122,
   "id": "a87603d0",
   "metadata": {},
   "outputs": [
    {
     "data": {
      "image/png": "[encoded data removed]",
      "text/plain": [
       "<Figure size 600x400 with 1 Axes>"
      ]
     },
     "metadata": {},
     "output_type": "display_data"
    }
   ],
   "source": [
    "# Dibujamos el histograma\n",
    "plt.figure(figsize=(6,4))\n",
    "sns.histplot(df_bank['duration'], bins=60)\n",
    "plt.title(\"Distribución de la duración de las llamadas\")\n",
    "plt.xlabel(\"Duración (segundos)\")\n",
    "plt.ylabel(\"Frecuencia\")\n",
    "plt.show()\n"
   ]
  },
  {
   "cell_type": "code",
   "execution_count": 123,
   "id": "f7d3822e",
   "metadata": {},
   "outputs": [
    {
     "data": {
      "image/png": "[encoded data removed]",
      "text/plain": [
       "<Figure size 600x200 with 1 Axes>"
      ]
     },
     "metadata": {},
     "output_type": "display_data"
    }
   ],
   "source": [
    "# Realizamos el gráfico Boxplot para ver los outliers\n",
    "plt.figure(figsize=(6,2))\n",
    "sns.boxplot(x=df_bank['duration'])\n",
    "plt.title(\"Boxplot de la duración de las llamadas\")\n",
    "plt.show()"
   ]
  },
  {
   "cell_type": "markdown",
   "id": "1ddd1231",
   "metadata": {},
   "source": [
    "La mayoria de llamadas son cortas, solo hay casos puntuales de llamadas más largas.\n",
    "Teniendo en cuenta que los datos que estamos tratando son de una campaña de marketin, habria que tener en cuenta que a mayor duración de la llamada, más posible es la posibilidad de conversión en ella."
   ]
  },
  {
   "cell_type": "code",
   "execution_count": 124,
   "id": "350645cf",
   "metadata": {},
   "outputs": [
    {
     "data": {
      "text/plain": [
       "count    43000.000000\n",
       "mean         2.567233\n",
       "std          2.772294\n",
       "min          1.000000\n",
       "25%          1.000000\n",
       "50%          2.000000\n",
       "75%          3.000000\n",
       "max         56.000000\n",
       "Name: campaign, dtype: float64"
      ]
     },
     "execution_count": 124,
     "metadata": {},
     "output_type": "execute_result"
    }
   ],
   "source": [
    "# A continuación estudiamos otra variable numérica: variable campaign\n",
    "df_bank['campaign'].describe()"
   ]
  },
  {
   "cell_type": "code",
   "execution_count": 125,
   "id": "457ffb09",
   "metadata": {},
   "outputs": [
    {
     "data": {
      "image/png": "[encoded data removed]",
      "text/plain": [
       "<Figure size 800x400 with 1 Axes>"
      ]
     },
     "metadata": {},
     "output_type": "display_data"
    }
   ],
   "source": [
    "# Dibujamos el histograma\n",
    "plt.figure(figsize=(8,4))\n",
    "sns.histplot(df_bank['campaign'], bins=40)\n",
    "plt.title(\"Distribución del número de contactos (campaign)\")\n",
    "plt.xlabel(\"Número de contactos en la campaña\")\n",
    "plt.ylabel(\"Frecuencia\")\n",
    "plt.show()\n"
   ]
  },
  {
   "cell_type": "code",
   "execution_count": 126,
   "id": "c6023c90",
   "metadata": {},
   "outputs": [
    {
     "data": {
      "image/png": "[encoded data removed]",
      "text/plain": [
       "<Figure size 600x200 with 1 Axes>"
      ]
     },
     "metadata": {},
     "output_type": "display_data"
    }
   ],
   "source": [
    "# Realizamos el gráfico Boxplot para ver los outliers\n",
    "plt.figure(figsize=(6,2))\n",
    "sns.boxplot(x=df_bank['campaign'])\n",
    "plt.title(\"Boxplot del número de contactos (campaign)\")\n",
    "plt.show()"
   ]
  },
  {
   "cell_type": "markdown",
   "id": "77fdd809",
   "metadata": {},
   "source": [
    "La campaña suele tener pocos intentos de contacto por cliente. Sin embargo, algunos clientes fueron contactados demasiadas veces, lo que podría distorsionar el análisis o indicar prácticas poco eficientes o outliers que hay que eliminar.Por ello vamos a tratar los valores altos como outliers y tratarlos."
   ]
  },
  {
   "cell_type": "code",
   "execution_count": 127,
   "id": "89b7a71a",
   "metadata": {},
   "outputs": [
    {
     "data": {
      "image/png": "[encoded data removed]",
      "text/plain": [
       "<Figure size 1000x400 with 1 Axes>"
      ]
     },
     "metadata": {},
     "output_type": "display_data"
    }
   ],
   "source": [
    "# Ponemos un límite máximo de 10 en la variable campaign\n",
    "df_bank['campaign_edit'] = df_bank['campaign'].clip(upper=10)\n",
    "\n",
    "# Comparamos ambas distribuciones\n",
    "plt.figure(figsize=(10,4))\n",
    "sns.histplot(df_bank['campaign'], bins=30, color=\"pink\", alpha=0.5, label=\"Original\")\n",
    "sns.histplot(df_bank['campaign_edit'], bins=30, color=\"blue\", alpha=0.5, label=\"Máx=10\")\n",
    "plt.legend()\n",
    "plt.show()\n"
   ]
  },
  {
   "cell_type": "markdown",
   "id": "07b433e3",
   "metadata": {},
   "source": [
    "##### Variables categóricas"
   ]
  },
  {
   "cell_type": "code",
   "execution_count": 128,
   "id": "631c4265",
   "metadata": {},
   "outputs": [
    {
     "name": "stdout",
     "output_type": "stream",
     "text": [
      "job\n",
      "admin.           10873\n",
      "blue-collar       9654\n",
      "technician        7026\n",
      "services          4162\n",
      "management        3050\n",
      "retired           1790\n",
      "entrepreneur      1522\n",
      "self-employed     1489\n",
      "housemaid         1123\n",
      "unemployed        1063\n",
      "student            903\n",
      "unknown            345\n",
      "Name: count, dtype: int64\n",
      "marital\n",
      "MARRIED     25999\n",
      "SINGLE      12105\n",
      "DIVORCED     4811\n",
      "unknown        85\n",
      "Name: count, dtype: int64\n",
      "education\n",
      "university.degree      12722\n",
      "high.school             9925\n",
      "basic.9y                6309\n",
      "professional.course     5477\n",
      "basic.4y                4356\n",
      "basic.6y                2386\n",
      "unknown                 1807\n",
      "illiterate                18\n",
      "Name: count, dtype: int64\n"
     ]
    }
   ],
   "source": [
    "# Profesiones más frecuentes\n",
    "print(df_bank['job'].value_counts())\n",
    "\n",
    "# Estado civil\n",
    "print(df_bank['marital'].value_counts())\n",
    "\n",
    "# Educación\n",
    "print(df_bank['education'].value_counts())\n"
   ]
  },
  {
   "cell_type": "code",
   "execution_count": 129,
   "id": "b1f0794a",
   "metadata": {},
   "outputs": [
    {
     "data": {
      "image/png": "[encoded data removed]",
      "text/plain": [
       "<Figure size 1000x500 with 1 Axes>"
      ]
     },
     "metadata": {},
     "output_type": "display_data"
    },
    {
     "data": {
      "image/png": "[encoded data removed]",
      "text/plain": [
       "<Figure size 600x400 with 1 Axes>"
      ]
     },
     "metadata": {},
     "output_type": "display_data"
    },
    {
     "data": {
      "image/png": "[encoded data removed]",
      "text/plain": [
       "<Figure size 800x500 with 1 Axes>"
      ]
     },
     "metadata": {},
     "output_type": "display_data"
    }
   ],
   "source": [
    "# Profesión\n",
    "plt.figure(figsize=(10,5))\n",
    "sns.countplot(data=df_bank, x='job', order=df_bank['job'].value_counts().index)\n",
    "plt.xticks(rotation=45)\n",
    "plt.title(\"Distribución de clientes por profesión\")\n",
    "plt.show()\n",
    "\n",
    "# Estado civil\n",
    "plt.figure(figsize=(6,4))\n",
    "sns.countplot(data=df_bank, x='marital', order=df_bank['marital'].value_counts().index)\n",
    "plt.title(\"Distribución de clientes por estado civil\")\n",
    "plt.show()\n",
    "\n",
    "# Educación\n",
    "plt.figure(figsize=(8,5))\n",
    "sns.countplot(data=df_bank, x='education', order=df_bank['education'].value_counts().index)\n",
    "plt.xticks(rotation=45)\n",
    "plt.title(\"Distribución de clientes por nivel educativo\")\n",
    "plt.show()\n"
   ]
  },
  {
   "cell_type": "markdown",
   "id": "b427b84c",
   "metadata": {},
   "source": [
    "Las profesiones más comunes son:\n",
    "- admin. (~11.000 clientes)\n",
    "- blue-collar (~9.500)\n",
    "- technician (~7.000)\n",
    "\n",
    "Estado civil (marital):\n",
    "- Mayoría married (~26.000, más de la mitad)\n",
    "- Bastantes single (~12.000)\n",
    "- Menor proporción de divorced (~5.000)\n",
    "\n",
    "Nivel educativo (education):\n",
    "- Predominan university degree (~12.500) y high school (~10.000)\n",
    "- Con menor peso: basic 9y / 4y / 6y (nivel básico)\n",
    "- Muy pocos illiterate (casi despreciable)"
   ]
  },
  {
   "cell_type": "code",
   "execution_count": 144,
   "id": "af8f75a9",
   "metadata": {},
   "outputs": [
    {
     "data": {
      "text/html": [
       "<div>\n",
       "<style scoped>\n",
       "    .dataframe tbody tr th:only-of-type {\n",
       "        vertical-align: middle;\n",
       "    }\n",
       "\n",
       "    .dataframe tbody tr th {\n",
       "        vertical-align: top;\n",
       "    }\n",
       "\n",
       "    .dataframe thead th {\n",
       "        text-align: right;\n",
       "    }\n",
       "</style>\n",
       "<table border=\"1\" class=\"dataframe\">\n",
       "  <thead>\n",
       "    <tr style=\"text-align: right;\">\n",
       "      <th></th>\n",
       "      <th>age</th>\n",
       "      <th>job</th>\n",
       "      <th>marital</th>\n",
       "      <th>education</th>\n",
       "      <th>default</th>\n",
       "      <th>housing</th>\n",
       "      <th>loan</th>\n",
       "      <th>contact</th>\n",
       "      <th>duration</th>\n",
       "      <th>campaign</th>\n",
       "      <th>pdays</th>\n",
       "      <th>previous</th>\n",
       "      <th>poutcome</th>\n",
       "      <th>emp.var.rate</th>\n",
       "      <th>cons.price.idx</th>\n",
       "      <th>cons.conf.idx</th>\n",
       "      <th>euribor3m</th>\n",
       "      <th>nr.employed</th>\n",
       "      <th>y</th>\n",
       "      <th>date</th>\n",
       "      <th>latitude</th>\n",
       "      <th>longitude</th>\n",
       "      <th>id_</th>\n",
       "      <th>day</th>\n",
       "      <th>year</th>\n",
       "      <th>month</th>\n",
       "      <th>campaign_edit</th>\n",
       "    </tr>\n",
       "  </thead>\n",
       "  <tbody>\n",
       "    <tr>\n",
       "      <th>31515</th>\n",
       "      <td>35.0</td>\n",
       "      <td>blue-collar</td>\n",
       "      <td>MARRIED</td>\n",
       "      <td>basic.9y</td>\n",
       "      <td>unknown</td>\n",
       "      <td>0.0</td>\n",
       "      <td>0.0</td>\n",
       "      <td>cellular</td>\n",
       "      <td>91</td>\n",
       "      <td>1</td>\n",
       "      <td>999</td>\n",
       "      <td>1</td>\n",
       "      <td>FAILURE</td>\n",
       "      <td>-1.8</td>\n",
       "      <td>92.893</td>\n",
       "      <td>-46.2</td>\n",
       "      <td>4.857</td>\n",
       "      <td>5099.1</td>\n",
       "      <td>no</td>\n",
       "      <td>2019-12-15</td>\n",
       "      <td>30.772</td>\n",
       "      <td>-97.372</td>\n",
       "      <td>739da6af-e739-4642-8008-0981dd7b3874</td>\n",
       "      <td>15</td>\n",
       "      <td>2019.0</td>\n",
       "      <td>12.0</td>\n",
       "      <td>1</td>\n",
       "    </tr>\n",
       "    <tr>\n",
       "      <th>13589</th>\n",
       "      <td>38.0</td>\n",
       "      <td>technician</td>\n",
       "      <td>SINGLE</td>\n",
       "      <td>university.degree</td>\n",
       "      <td>0.0</td>\n",
       "      <td>1.0</td>\n",
       "      <td>1.0</td>\n",
       "      <td>cellular</td>\n",
       "      <td>328</td>\n",
       "      <td>1</td>\n",
       "      <td>999</td>\n",
       "      <td>0</td>\n",
       "      <td>NONEXISTENT</td>\n",
       "      <td>1.4</td>\n",
       "      <td>93.918</td>\n",
       "      <td>-42.7</td>\n",
       "      <td>4.963</td>\n",
       "      <td>5228.1</td>\n",
       "      <td>no</td>\n",
       "      <td>2016-05-29</td>\n",
       "      <td>44.419</td>\n",
       "      <td>-84.687</td>\n",
       "      <td>bf2bb17f-f92e-4952-b440-c84621e01c1a</td>\n",
       "      <td>29</td>\n",
       "      <td>2016.0</td>\n",
       "      <td>5.0</td>\n",
       "      <td>1</td>\n",
       "    </tr>\n",
       "  </tbody>\n",
       "</table>\n",
       "</div>"
      ],
      "text/plain": [
       "        age          job  marital          education  default housing loan  \\\n",
       "31515  35.0  blue-collar  MARRIED           basic.9y  unknown     0.0  0.0   \n",
       "13589  38.0   technician   SINGLE  university.degree      0.0     1.0  1.0   \n",
       "\n",
       "        contact  duration  campaign  pdays  previous     poutcome  \\\n",
       "31515  cellular        91         1    999         1      FAILURE   \n",
       "13589  cellular       328         1    999         0  NONEXISTENT   \n",
       "\n",
       "       emp.var.rate  cons.price.idx  cons.conf.idx  euribor3m  nr.employed  \\\n",
       "31515          -1.8          92.893          -46.2      4.857       5099.1   \n",
       "13589           1.4          93.918          -42.7      4.963       5228.1   \n",
       "\n",
       "        y       date  latitude  longitude  \\\n",
       "31515  no 2019-12-15    30.772    -97.372   \n",
       "13589  no 2016-05-29    44.419    -84.687   \n",
       "\n",
       "                                        id_ day    year  month  campaign_edit  \n",
       "31515  739da6af-e739-4642-8008-0981dd7b3874  15  2019.0   12.0              1  \n",
       "13589  bf2bb17f-f92e-4952-b440-c84621e01c1a  29  2016.0    5.0              1  "
      ]
     },
     "execution_count": 144,
     "metadata": {},
     "output_type": "execute_result"
    }
   ],
   "source": [
    "df_bank = df_bank.drop(columns=['monthwrite'])\n",
    "df_bank.sample(2)"
   ]
  },
  {
   "cell_type": "code",
   "execution_count": 147,
   "id": "2662014e",
   "metadata": {},
   "outputs": [],
   "source": [
    "# Guardamos los datos limpios\n",
    "\n",
    "df_bank.to_csv(\"../data/processed/bank-additional_clean.csv\", index=False)\n"
   ]
  }
 ],
 "metadata": {
  "kernelspec": {
   "display_name": "Python 3",
   "language": "python",
   "name": "python3"
  },
  "language_info": {
   "codemirror_mode": {
    "name": "ipython",
    "version": 3
   },
   "file_extension": ".py",
   "mimetype": "text/x-python",
   "name": "python",
   "nbconvert_exporter": "python",
   "pygments_lexer": "ipython3",
   "version": "3.13.0"
  }
 },
 "nbformat": 4,
 "nbformat_minor": 5
}
