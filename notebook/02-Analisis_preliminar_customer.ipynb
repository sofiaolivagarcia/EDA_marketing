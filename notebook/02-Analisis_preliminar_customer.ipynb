{
 "cells": [
  {
   "cell_type": "markdown",
   "id": "937a41dc",
   "metadata": {},
   "source": [
    "## Importación de librerías"
   ]
  },
  {
   "cell_type": "code",
   "execution_count": 33,
   "id": "7686e7fa",
   "metadata": {},
   "outputs": [],
   "source": [
    "import pandas as pd\n",
    "import numpy as np\n",
    "pd.set_option('display.max_columns',None)"
   ]
  },
  {
   "cell_type": "markdown",
   "id": "683a512f",
   "metadata": {},
   "source": [
    "#### CARGA DE DATOS CUSTOMER"
   ]
  },
  {
   "cell_type": "code",
   "execution_count": 34,
   "id": "db9d8cc8",
   "metadata": {},
   "outputs": [],
   "source": [
    "df_cus = pd.read_excel('../data/raw/customer-details.xlsx')"
   ]
  },
  {
   "cell_type": "code",
   "execution_count": 35,
   "id": "f2a274ff",
   "metadata": {},
   "outputs": [
    {
     "data": {
      "text/html": [
       "<div>\n",
       "<style scoped>\n",
       "    .dataframe tbody tr th:only-of-type {\n",
       "        vertical-align: middle;\n",
       "    }\n",
       "\n",
       "    .dataframe tbody tr th {\n",
       "        vertical-align: top;\n",
       "    }\n",
       "\n",
       "    .dataframe thead th {\n",
       "        text-align: right;\n",
       "    }\n",
       "</style>\n",
       "<table border=\"1\" class=\"dataframe\">\n",
       "  <thead>\n",
       "    <tr style=\"text-align: right;\">\n",
       "      <th></th>\n",
       "      <th>Unnamed: 0</th>\n",
       "      <th>Income</th>\n",
       "      <th>Kidhome</th>\n",
       "      <th>Teenhome</th>\n",
       "      <th>Dt_Customer</th>\n",
       "      <th>NumWebVisitsMonth</th>\n",
       "      <th>ID</th>\n",
       "    </tr>\n",
       "  </thead>\n",
       "  <tbody>\n",
       "    <tr>\n",
       "      <th>0</th>\n",
       "      <td>0</td>\n",
       "      <td>161770</td>\n",
       "      <td>1</td>\n",
       "      <td>0</td>\n",
       "      <td>2012-04-04</td>\n",
       "      <td>29</td>\n",
       "      <td>089b39d8-e4d0-461b-87d4-814d71e0e079</td>\n",
       "    </tr>\n",
       "    <tr>\n",
       "      <th>1</th>\n",
       "      <td>1</td>\n",
       "      <td>85477</td>\n",
       "      <td>1</td>\n",
       "      <td>1</td>\n",
       "      <td>2012-12-30</td>\n",
       "      <td>7</td>\n",
       "      <td>e9d37224-cb6f-4942-98d7-46672963d097</td>\n",
       "    </tr>\n",
       "    <tr>\n",
       "      <th>2</th>\n",
       "      <td>2</td>\n",
       "      <td>147233</td>\n",
       "      <td>1</td>\n",
       "      <td>1</td>\n",
       "      <td>2012-02-02</td>\n",
       "      <td>5</td>\n",
       "      <td>3f9f49b5-e410-4948-bf6e-f9244f04918b</td>\n",
       "    </tr>\n",
       "    <tr>\n",
       "      <th>3</th>\n",
       "      <td>3</td>\n",
       "      <td>121393</td>\n",
       "      <td>1</td>\n",
       "      <td>2</td>\n",
       "      <td>2012-12-21</td>\n",
       "      <td>29</td>\n",
       "      <td>9991fafb-4447-451a-8be2-b0df6098d13e</td>\n",
       "    </tr>\n",
       "    <tr>\n",
       "      <th>4</th>\n",
       "      <td>4</td>\n",
       "      <td>63164</td>\n",
       "      <td>1</td>\n",
       "      <td>2</td>\n",
       "      <td>2012-06-20</td>\n",
       "      <td>20</td>\n",
       "      <td>eca60b76-70b6-4077-80ba-bc52e8ebb0eb</td>\n",
       "    </tr>\n",
       "    <tr>\n",
       "      <th>...</th>\n",
       "      <td>...</td>\n",
       "      <td>...</td>\n",
       "      <td>...</td>\n",
       "      <td>...</td>\n",
       "      <td>...</td>\n",
       "      <td>...</td>\n",
       "      <td>...</td>\n",
       "    </tr>\n",
       "    <tr>\n",
       "      <th>20110</th>\n",
       "      <td>20110</td>\n",
       "      <td>114469</td>\n",
       "      <td>0</td>\n",
       "      <td>2</td>\n",
       "      <td>2012-10-28</td>\n",
       "      <td>13</td>\n",
       "      <td>25f35a3f-0fd2-4e6a-b4d5-74fa1a1f4cfc</td>\n",
       "    </tr>\n",
       "    <tr>\n",
       "      <th>20111</th>\n",
       "      <td>20111</td>\n",
       "      <td>82207</td>\n",
       "      <td>0</td>\n",
       "      <td>1</td>\n",
       "      <td>2012-02-10</td>\n",
       "      <td>27</td>\n",
       "      <td>a3d2d088-3781-44ea-9944-a4a40df51285</td>\n",
       "    </tr>\n",
       "    <tr>\n",
       "      <th>20112</th>\n",
       "      <td>20112</td>\n",
       "      <td>135009</td>\n",
       "      <td>0</td>\n",
       "      <td>0</td>\n",
       "      <td>2012-09-14</td>\n",
       "      <td>17</td>\n",
       "      <td>3769cb72-26be-40f2-9a93-f752fc96d628</td>\n",
       "    </tr>\n",
       "    <tr>\n",
       "      <th>20113</th>\n",
       "      <td>20113</td>\n",
       "      <td>8486</td>\n",
       "      <td>1</td>\n",
       "      <td>1</td>\n",
       "      <td>2012-07-04</td>\n",
       "      <td>18</td>\n",
       "      <td>d507f6b3-a030-46d7-9615-61fe3f6b8028</td>\n",
       "    </tr>\n",
       "    <tr>\n",
       "      <th>20114</th>\n",
       "      <td>20114</td>\n",
       "      <td>144419</td>\n",
       "      <td>1</td>\n",
       "      <td>0</td>\n",
       "      <td>2012-04-12</td>\n",
       "      <td>29</td>\n",
       "      <td>8299f0a6-e4c0-49fc-87ab-81308b70f80f</td>\n",
       "    </tr>\n",
       "  </tbody>\n",
       "</table>\n",
       "<p>20115 rows × 7 columns</p>\n",
       "</div>"
      ],
      "text/plain": [
       "       Unnamed: 0  Income  Kidhome  Teenhome Dt_Customer  NumWebVisitsMonth  \\\n",
       "0               0  161770        1         0  2012-04-04                 29   \n",
       "1               1   85477        1         1  2012-12-30                  7   \n",
       "2               2  147233        1         1  2012-02-02                  5   \n",
       "3               3  121393        1         2  2012-12-21                 29   \n",
       "4               4   63164        1         2  2012-06-20                 20   \n",
       "...           ...     ...      ...       ...         ...                ...   \n",
       "20110       20110  114469        0         2  2012-10-28                 13   \n",
       "20111       20111   82207        0         1  2012-02-10                 27   \n",
       "20112       20112  135009        0         0  2012-09-14                 17   \n",
       "20113       20113    8486        1         1  2012-07-04                 18   \n",
       "20114       20114  144419        1         0  2012-04-12                 29   \n",
       "\n",
       "                                         ID  \n",
       "0      089b39d8-e4d0-461b-87d4-814d71e0e079  \n",
       "1      e9d37224-cb6f-4942-98d7-46672963d097  \n",
       "2      3f9f49b5-e410-4948-bf6e-f9244f04918b  \n",
       "3      9991fafb-4447-451a-8be2-b0df6098d13e  \n",
       "4      eca60b76-70b6-4077-80ba-bc52e8ebb0eb  \n",
       "...                                     ...  \n",
       "20110  25f35a3f-0fd2-4e6a-b4d5-74fa1a1f4cfc  \n",
       "20111  a3d2d088-3781-44ea-9944-a4a40df51285  \n",
       "20112  3769cb72-26be-40f2-9a93-f752fc96d628  \n",
       "20113  d507f6b3-a030-46d7-9615-61fe3f6b8028  \n",
       "20114  8299f0a6-e4c0-49fc-87ab-81308b70f80f  \n",
       "\n",
       "[20115 rows x 7 columns]"
      ]
     },
     "execution_count": 35,
     "metadata": {},
     "output_type": "execute_result"
    }
   ],
   "source": [
    "df_cus"
   ]
  },
  {
   "cell_type": "code",
   "execution_count": 36,
   "id": "16eae5a3",
   "metadata": {},
   "outputs": [
    {
     "data": {
      "text/html": [
       "<div>\n",
       "<style scoped>\n",
       "    .dataframe tbody tr th:only-of-type {\n",
       "        vertical-align: middle;\n",
       "    }\n",
       "\n",
       "    .dataframe tbody tr th {\n",
       "        vertical-align: top;\n",
       "    }\n",
       "\n",
       "    .dataframe thead th {\n",
       "        text-align: right;\n",
       "    }\n",
       "</style>\n",
       "<table border=\"1\" class=\"dataframe\">\n",
       "  <thead>\n",
       "    <tr style=\"text-align: right;\">\n",
       "      <th></th>\n",
       "      <th>Unnamed: 0</th>\n",
       "      <th>Income</th>\n",
       "      <th>Kidhome</th>\n",
       "      <th>Teenhome</th>\n",
       "      <th>Dt_Customer</th>\n",
       "      <th>NumWebVisitsMonth</th>\n",
       "      <th>ID</th>\n",
       "    </tr>\n",
       "  </thead>\n",
       "  <tbody>\n",
       "    <tr>\n",
       "      <th>16272</th>\n",
       "      <td>16272</td>\n",
       "      <td>109724</td>\n",
       "      <td>1</td>\n",
       "      <td>2</td>\n",
       "      <td>2012-02-14</td>\n",
       "      <td>9</td>\n",
       "      <td>d1b6d799-d750-477d-868e-e0f7136dfd45</td>\n",
       "    </tr>\n",
       "    <tr>\n",
       "      <th>6111</th>\n",
       "      <td>6111</td>\n",
       "      <td>135604</td>\n",
       "      <td>2</td>\n",
       "      <td>1</td>\n",
       "      <td>2012-11-03</td>\n",
       "      <td>21</td>\n",
       "      <td>dcbe1391-d093-4dea-b507-3a5806ef103f</td>\n",
       "    </tr>\n",
       "    <tr>\n",
       "      <th>7981</th>\n",
       "      <td>7981</td>\n",
       "      <td>21756</td>\n",
       "      <td>0</td>\n",
       "      <td>1</td>\n",
       "      <td>2012-12-28</td>\n",
       "      <td>32</td>\n",
       "      <td>8d5507f4-0e0c-4e99-af05-d6b04bd8e9e5</td>\n",
       "    </tr>\n",
       "    <tr>\n",
       "      <th>15237</th>\n",
       "      <td>15237</td>\n",
       "      <td>40593</td>\n",
       "      <td>1</td>\n",
       "      <td>1</td>\n",
       "      <td>2012-01-30</td>\n",
       "      <td>21</td>\n",
       "      <td>062d543d-9c38-4573-9900-74fca06a6019</td>\n",
       "    </tr>\n",
       "    <tr>\n",
       "      <th>10061</th>\n",
       "      <td>10061</td>\n",
       "      <td>158569</td>\n",
       "      <td>1</td>\n",
       "      <td>0</td>\n",
       "      <td>2012-02-07</td>\n",
       "      <td>27</td>\n",
       "      <td>4ab31729-9091-4409-b49c-b74c71d99564</td>\n",
       "    </tr>\n",
       "  </tbody>\n",
       "</table>\n",
       "</div>"
      ],
      "text/plain": [
       "       Unnamed: 0  Income  Kidhome  Teenhome Dt_Customer  NumWebVisitsMonth  \\\n",
       "16272       16272  109724        1         2  2012-02-14                  9   \n",
       "6111         6111  135604        2         1  2012-11-03                 21   \n",
       "7981         7981   21756        0         1  2012-12-28                 32   \n",
       "15237       15237   40593        1         1  2012-01-30                 21   \n",
       "10061       10061  158569        1         0  2012-02-07                 27   \n",
       "\n",
       "                                         ID  \n",
       "16272  d1b6d799-d750-477d-868e-e0f7136dfd45  \n",
       "6111   dcbe1391-d093-4dea-b507-3a5806ef103f  \n",
       "7981   8d5507f4-0e0c-4e99-af05-d6b04bd8e9e5  \n",
       "15237  062d543d-9c38-4573-9900-74fca06a6019  \n",
       "10061  4ab31729-9091-4409-b49c-b74c71d99564  "
      ]
     },
     "execution_count": 36,
     "metadata": {},
     "output_type": "execute_result"
    }
   ],
   "source": [
    "df_cus.sample(5)"
   ]
  },
  {
   "cell_type": "code",
   "execution_count": 37,
   "id": "a15c00ca",
   "metadata": {},
   "outputs": [
    {
     "name": "stdout",
     "output_type": "stream",
     "text": [
      "['2012', '2013', '2014']\n"
     ]
    }
   ],
   "source": [
    "# Cargamos el Excel\n",
    "xls = pd.ExcelFile(\"../data/raw/customer-details.xlsx\")\n",
    "\n",
    "# Listamos las hojas\n",
    "print(xls.sheet_names)\n"
   ]
  },
  {
   "cell_type": "code",
   "execution_count": 38,
   "id": "eaad89b8",
   "metadata": {},
   "outputs": [
    {
     "name": "stdout",
     "output_type": "stream",
     "text": [
      "2012: (20115, 7)\n",
      "2013: (8965, 7)\n",
      "2014: (14090, 7)\n"
     ]
    }
   ],
   "source": [
    "# A continuación, mostramos cada una de las hojas en un DataFrame\n",
    "\n",
    "df_12 = pd.read_excel(xls, sheet_name=0)   # primera hoja\n",
    "df_13 = pd.read_excel(xls, sheet_name=1)  # segunda hoja\n",
    "df_14 = pd.read_excel(xls, sheet_name=2)  # tercera hoja\n",
    "\n",
    "# Ver un resumen rápido\n",
    "print(\"2012:\", df_12.shape)\n",
    "print(\"2013:\", df_13.shape)\n",
    "print(\"2014:\", df_14.shape)\n"
   ]
  },
  {
   "cell_type": "code",
   "execution_count": 39,
   "id": "4e608c01",
   "metadata": {},
   "outputs": [
    {
     "name": "stdout",
     "output_type": "stream",
     "text": [
      "   Unnamed: 0  Income  Kidhome  Teenhome Dt_Customer  NumWebVisitsMonth  \\\n",
      "0           0  161770        1         0  2012-04-04                 29   \n",
      "1           1   85477        1         1  2012-12-30                  7   \n",
      "2           2  147233        1         1  2012-02-02                  5   \n",
      "\n",
      "                                     ID  \n",
      "0  089b39d8-e4d0-461b-87d4-814d71e0e079  \n",
      "1  e9d37224-cb6f-4942-98d7-46672963d097  \n",
      "2  3f9f49b5-e410-4948-bf6e-f9244f04918b  \n",
      "   Unnamed: 0  Income  Kidhome  Teenhome Dt_Customer  NumWebVisitsMonth  \\\n",
      "0           0   82407        0         1  2013-10-07                 29   \n",
      "1           1   24877        0         0  2013-04-21                 32   \n",
      "2           2   78839        1         0  2013-11-25                 21   \n",
      "\n",
      "                                     ID  \n",
      "0  ef81336c-e41a-46d0-8a30-5d4ac3b836be  \n",
      "1  50b224ac-84b4-42a7-aba9-3e1d1d620479  \n",
      "2  9cb15c53-b647-464a-add9-09cdae04897c  \n",
      "   Unnamed: 0  Income  Kidhome  Teenhome Dt_Customer  NumWebVisitsMonth  \\\n",
      "0           0  168812        1         1  2014-06-10                 27   \n",
      "1           1  108615        2         1  2014-04-05                 24   \n",
      "2           2  179041        0         2  2014-09-22                  4   \n",
      "\n",
      "                                     ID  \n",
      "0  4d6c811c-0f24-4a73-b374-2ebd1f80d46e  \n",
      "1  eef0f24f-cbdb-4c67-b371-09d7bc59695e  \n",
      "2  bbfdcedd-199d-4927-94bb-5dad051ff471  \n"
     ]
    }
   ],
   "source": [
    "# Mostramos las tres primeras filas de cada tabla :\n",
    "print(df_12.head(3))\n",
    "print(df_13.head(3))\n",
    "print(df_14.head(3))\n"
   ]
  },
  {
   "cell_type": "code",
   "execution_count": 40,
   "id": "4fb7254a",
   "metadata": {},
   "outputs": [
    {
     "name": "stdout",
     "output_type": "stream",
     "text": [
      "Final: (43170, 7)\n"
     ]
    },
    {
     "data": {
      "text/html": [
       "<div>\n",
       "<style scoped>\n",
       "    .dataframe tbody tr th:only-of-type {\n",
       "        vertical-align: middle;\n",
       "    }\n",
       "\n",
       "    .dataframe tbody tr th {\n",
       "        vertical-align: top;\n",
       "    }\n",
       "\n",
       "    .dataframe thead th {\n",
       "        text-align: right;\n",
       "    }\n",
       "</style>\n",
       "<table border=\"1\" class=\"dataframe\">\n",
       "  <thead>\n",
       "    <tr style=\"text-align: right;\">\n",
       "      <th></th>\n",
       "      <th>Unnamed: 0</th>\n",
       "      <th>Income</th>\n",
       "      <th>Kidhome</th>\n",
       "      <th>Teenhome</th>\n",
       "      <th>Dt_Customer</th>\n",
       "      <th>NumWebVisitsMonth</th>\n",
       "      <th>ID</th>\n",
       "    </tr>\n",
       "  </thead>\n",
       "  <tbody>\n",
       "    <tr>\n",
       "      <th>27096</th>\n",
       "      <td>6981</td>\n",
       "      <td>145854</td>\n",
       "      <td>2</td>\n",
       "      <td>0</td>\n",
       "      <td>2013-01-10</td>\n",
       "      <td>32</td>\n",
       "      <td>258d0476-386f-4cef-8966-dd8273123d03</td>\n",
       "    </tr>\n",
       "    <tr>\n",
       "      <th>28658</th>\n",
       "      <td>8543</td>\n",
       "      <td>149802</td>\n",
       "      <td>1</td>\n",
       "      <td>1</td>\n",
       "      <td>2013-03-19</td>\n",
       "      <td>12</td>\n",
       "      <td>b37b335b-0409-4c28-ad4b-53617f11e9ed</td>\n",
       "    </tr>\n",
       "    <tr>\n",
       "      <th>16060</th>\n",
       "      <td>16060</td>\n",
       "      <td>171266</td>\n",
       "      <td>2</td>\n",
       "      <td>0</td>\n",
       "      <td>2012-04-14</td>\n",
       "      <td>20</td>\n",
       "      <td>c08db8c3-9ac2-4a1d-9906-32e5fb04433e</td>\n",
       "    </tr>\n",
       "    <tr>\n",
       "      <th>31454</th>\n",
       "      <td>2374</td>\n",
       "      <td>44498</td>\n",
       "      <td>2</td>\n",
       "      <td>1</td>\n",
       "      <td>2014-08-06</td>\n",
       "      <td>19</td>\n",
       "      <td>be849efa-781b-4eac-9af6-baeca18909ef</td>\n",
       "    </tr>\n",
       "    <tr>\n",
       "      <th>31133</th>\n",
       "      <td>2053</td>\n",
       "      <td>97342</td>\n",
       "      <td>1</td>\n",
       "      <td>1</td>\n",
       "      <td>2014-11-10</td>\n",
       "      <td>20</td>\n",
       "      <td>ce531125-9e02-422e-bb00-5ee8fac68105</td>\n",
       "    </tr>\n",
       "  </tbody>\n",
       "</table>\n",
       "</div>"
      ],
      "text/plain": [
       "       Unnamed: 0  Income  Kidhome  Teenhome Dt_Customer  NumWebVisitsMonth  \\\n",
       "27096        6981  145854        2         0  2013-01-10                 32   \n",
       "28658        8543  149802        1         1  2013-03-19                 12   \n",
       "16060       16060  171266        2         0  2012-04-14                 20   \n",
       "31454        2374   44498        2         1  2014-08-06                 19   \n",
       "31133        2053   97342        1         1  2014-11-10                 20   \n",
       "\n",
       "                                         ID  \n",
       "27096  258d0476-386f-4cef-8966-dd8273123d03  \n",
       "28658  b37b335b-0409-4c28-ad4b-53617f11e9ed  \n",
       "16060  c08db8c3-9ac2-4a1d-9906-32e5fb04433e  \n",
       "31454  be849efa-781b-4eac-9af6-baeca18909ef  \n",
       "31133  ce531125-9e02-422e-bb00-5ee8fac68105  "
      ]
     },
     "execution_count": 40,
     "metadata": {},
     "output_type": "execute_result"
    }
   ],
   "source": [
    "# Cada hoja pertenece a un año distinto, voy a unir todos los años en un mismo dataframe para hacer el análisis preliminar\n",
    "df_cus = pd.concat([df_12, df_13, df_14], ignore_index=True)\n",
    "\n",
    "print(\"Final:\", df_cus.shape)\n",
    "df_cus.sample(5)\n"
   ]
  },
  {
   "cell_type": "code",
   "execution_count": 41,
   "id": "5f85099c",
   "metadata": {},
   "outputs": [
    {
     "name": "stdout",
     "output_type": "stream",
     "text": [
      "<class 'pandas.core.frame.DataFrame'>\n",
      "RangeIndex: 43170 entries, 0 to 43169\n",
      "Data columns (total 7 columns):\n",
      " #   Column             Non-Null Count  Dtype         \n",
      "---  ------             --------------  -----         \n",
      " 0   Unnamed: 0         43170 non-null  int64         \n",
      " 1   Income             43170 non-null  int64         \n",
      " 2   Kidhome            43170 non-null  int64         \n",
      " 3   Teenhome           43170 non-null  int64         \n",
      " 4   Dt_Customer        43170 non-null  datetime64[ns]\n",
      " 5   NumWebVisitsMonth  43170 non-null  int64         \n",
      " 6   ID                 43170 non-null  object        \n",
      "dtypes: datetime64[ns](1), int64(5), object(1)\n",
      "memory usage: 2.3+ MB\n"
     ]
    }
   ],
   "source": [
    "df_cus.info()"
   ]
  },
  {
   "cell_type": "markdown",
   "id": "bb1a30b3",
   "metadata": {},
   "source": [
    "Esta todo con el formato correcto."
   ]
  },
  {
   "cell_type": "markdown",
   "id": "36523f12",
   "metadata": {},
   "source": [
    "#### Análisis preliminar\n",
    "\n",
    "Analizando los datos, podemos ver como la columna Unnamed: 0, no aporta ningún valor, y que por ello puede ser eliminada. Además, habría que revisar si en la columna de ID hay algún valor repetido, ya que en el caso del ID debería de ser único para cada cliente."
   ]
  },
  {
   "cell_type": "code",
   "execution_count": 45,
   "id": "1b4ee6f8",
   "metadata": {},
   "outputs": [
    {
     "data": {
      "text/plain": [
       "Unnamed: 0           0\n",
       "Income               0\n",
       "Kidhome              0\n",
       "Teenhome             0\n",
       "Dt_Customer          0\n",
       "NumWebVisitsMonth    0\n",
       "ID                   0\n",
       "dtype: int64"
      ]
     },
     "execution_count": 45,
     "metadata": {},
     "output_type": "execute_result"
    }
   ],
   "source": [
    "df_cus.isna().sum()"
   ]
  },
  {
   "cell_type": "code",
   "execution_count": 46,
   "id": "4b80ee8e",
   "metadata": {},
   "outputs": [
    {
     "data": {
      "text/plain": [
       "np.int64(0)"
      ]
     },
     "execution_count": 46,
     "metadata": {},
     "output_type": "execute_result"
    }
   ],
   "source": [
    "#Visualizamos si hay duplicados en la tabla\n",
    "df_cus.duplicated().sum()"
   ]
  },
  {
   "cell_type": "code",
   "execution_count": 47,
   "id": "6d4440dc",
   "metadata": {},
   "outputs": [
    {
     "data": {
      "text/plain": [
       "np.int64(0)"
      ]
     },
     "execution_count": 47,
     "metadata": {},
     "output_type": "execute_result"
    }
   ],
   "source": [
    "# Mirar si hay dublicados en la columan de ID:\n",
    "df_cus['ID'].duplicated().sum()"
   ]
  },
  {
   "cell_type": "markdown",
   "id": "88ba1bbc",
   "metadata": {},
   "source": [
    "Podemos observar como en la tabla no existen ningñun duplicado. "
   ]
  },
  {
   "cell_type": "code",
   "execution_count": 50,
   "id": "14577d4c",
   "metadata": {},
   "outputs": [
    {
     "data": {
      "text/html": [
       "<div>\n",
       "<style scoped>\n",
       "    .dataframe tbody tr th:only-of-type {\n",
       "        vertical-align: middle;\n",
       "    }\n",
       "\n",
       "    .dataframe tbody tr th {\n",
       "        vertical-align: top;\n",
       "    }\n",
       "\n",
       "    .dataframe thead th {\n",
       "        text-align: right;\n",
       "    }\n",
       "</style>\n",
       "<table border=\"1\" class=\"dataframe\">\n",
       "  <thead>\n",
       "    <tr style=\"text-align: right;\">\n",
       "      <th></th>\n",
       "      <th>Unnamed: 0</th>\n",
       "      <th>Income</th>\n",
       "      <th>Kidhome</th>\n",
       "      <th>Teenhome</th>\n",
       "      <th>Dt_Customer</th>\n",
       "      <th>NumWebVisitsMonth</th>\n",
       "    </tr>\n",
       "  </thead>\n",
       "  <tbody>\n",
       "    <tr>\n",
       "      <th>count</th>\n",
       "      <td>43170.000000</td>\n",
       "      <td>43170.000000</td>\n",
       "      <td>43170.000000</td>\n",
       "      <td>43170.000000</td>\n",
       "      <td>43170</td>\n",
       "      <td>43170.000000</td>\n",
       "    </tr>\n",
       "    <tr>\n",
       "      <th>mean</th>\n",
       "      <td>7916.022469</td>\n",
       "      <td>93227.389622</td>\n",
       "      <td>1.004749</td>\n",
       "      <td>0.998633</td>\n",
       "      <td>2013-05-11 22:09:47.407922176</td>\n",
       "      <td>16.591290</td>\n",
       "    </tr>\n",
       "    <tr>\n",
       "      <th>min</th>\n",
       "      <td>0.000000</td>\n",
       "      <td>5841.000000</td>\n",
       "      <td>0.000000</td>\n",
       "      <td>0.000000</td>\n",
       "      <td>2012-01-01 00:00:00</td>\n",
       "      <td>1.000000</td>\n",
       "    </tr>\n",
       "    <tr>\n",
       "      <th>25%</th>\n",
       "      <td>3597.000000</td>\n",
       "      <td>49608.000000</td>\n",
       "      <td>0.000000</td>\n",
       "      <td>0.000000</td>\n",
       "      <td>2012-07-16 00:00:00</td>\n",
       "      <td>9.000000</td>\n",
       "    </tr>\n",
       "    <tr>\n",
       "      <th>50%</th>\n",
       "      <td>7194.500000</td>\n",
       "      <td>93009.500000</td>\n",
       "      <td>1.000000</td>\n",
       "      <td>1.000000</td>\n",
       "      <td>2013-03-01 00:00:00</td>\n",
       "      <td>17.000000</td>\n",
       "    </tr>\n",
       "    <tr>\n",
       "      <th>75%</th>\n",
       "      <td>11705.750000</td>\n",
       "      <td>136740.500000</td>\n",
       "      <td>2.000000</td>\n",
       "      <td>2.000000</td>\n",
       "      <td>2014-03-28 00:00:00</td>\n",
       "      <td>25.000000</td>\n",
       "    </tr>\n",
       "    <tr>\n",
       "      <th>max</th>\n",
       "      <td>20114.000000</td>\n",
       "      <td>180802.000000</td>\n",
       "      <td>2.000000</td>\n",
       "      <td>2.000000</td>\n",
       "      <td>2014-12-31 00:00:00</td>\n",
       "      <td>32.000000</td>\n",
       "    </tr>\n",
       "    <tr>\n",
       "      <th>std</th>\n",
       "      <td>5228.248885</td>\n",
       "      <td>50498.181989</td>\n",
       "      <td>0.815996</td>\n",
       "      <td>0.816008</td>\n",
       "      <td>NaN</td>\n",
       "      <td>9.241769</td>\n",
       "    </tr>\n",
       "  </tbody>\n",
       "</table>\n",
       "</div>"
      ],
      "text/plain": [
       "         Unnamed: 0         Income       Kidhome      Teenhome  \\\n",
       "count  43170.000000   43170.000000  43170.000000  43170.000000   \n",
       "mean    7916.022469   93227.389622      1.004749      0.998633   \n",
       "min        0.000000    5841.000000      0.000000      0.000000   \n",
       "25%     3597.000000   49608.000000      0.000000      0.000000   \n",
       "50%     7194.500000   93009.500000      1.000000      1.000000   \n",
       "75%    11705.750000  136740.500000      2.000000      2.000000   \n",
       "max    20114.000000  180802.000000      2.000000      2.000000   \n",
       "std     5228.248885   50498.181989      0.815996      0.816008   \n",
       "\n",
       "                         Dt_Customer  NumWebVisitsMonth  \n",
       "count                          43170       43170.000000  \n",
       "mean   2013-05-11 22:09:47.407922176          16.591290  \n",
       "min              2012-01-01 00:00:00           1.000000  \n",
       "25%              2012-07-16 00:00:00           9.000000  \n",
       "50%              2013-03-01 00:00:00          17.000000  \n",
       "75%              2014-03-28 00:00:00          25.000000  \n",
       "max              2014-12-31 00:00:00          32.000000  \n",
       "std                              NaN           9.241769  "
      ]
     },
     "execution_count": 50,
     "metadata": {},
     "output_type": "execute_result"
    }
   ],
   "source": [
    "df_cus.describe()"
   ]
  },
  {
   "cell_type": "markdown",
   "id": "a82a328e",
   "metadata": {},
   "source": [
    "### Columnas del Dataset\n",
    "- ``income``: Representa el ingreso anual del cliente en términos monetarios.  \n",
    "- ``kidhome``: Indica el número de niños en el hogar del cliente.  \n",
    "- ``teenhome``: Indica el número de adolescentes en el hogar del cliente.  \n",
    "- ``dt_customer``: Representa la fecha en que el cliente se convirtió en cliente de la empresa.  \n",
    "- ``numwebvisitsmonth``: Indica la cantidad de visitas mensuales del cliente al sitio web de la empresa.  \n",
    "- ``id``: Identificador único del cliente.  "
   ]
  },
  {
   "cell_type": "markdown",
   "id": "50258042",
   "metadata": {},
   "source": [
    "### Resumen del análisis\n",
    "- **Ingreso anual (`income`)**:  \n",
    "  - valores entre 5.841 y 180.802.  \n",
    "  - media de 93.227, mediana de 93.010.  \n",
    "  - distribución razonable para representar ingresos anuales.  \n",
    "- **Número de niños (`kidhome`)**: valores de 0 a 2.  \n",
    "- **Número de adolescentes (`teenhome`)**: valores de 0 a 2.  \n",
    "- **Número de visitas web mensuales (`numwebvisitsmonth`)**:  \n",
    "  - valores entre 1 y 32.  \n",
    "  - media de 16, mediana de 17.  \n",
    "- **Fecha de alta (`dt_customer`)**:  \n",
    "  - rango comprendido entre enero de 2012 y diciembre de 2014.  \n",
    "  - permite analizar la antigüedad de los clientes.  "
   ]
  },
  {
   "cell_type": "code",
   "execution_count": 51,
   "id": "0bd7bc95",
   "metadata": {},
   "outputs": [
    {
     "data": {
      "text/html": [
       "<div>\n",
       "<style scoped>\n",
       "    .dataframe tbody tr th:only-of-type {\n",
       "        vertical-align: middle;\n",
       "    }\n",
       "\n",
       "    .dataframe tbody tr th {\n",
       "        vertical-align: top;\n",
       "    }\n",
       "\n",
       "    .dataframe thead th {\n",
       "        text-align: right;\n",
       "    }\n",
       "</style>\n",
       "<table border=\"1\" class=\"dataframe\">\n",
       "  <thead>\n",
       "    <tr style=\"text-align: right;\">\n",
       "      <th></th>\n",
       "      <th>Income</th>\n",
       "      <th>Kidhome</th>\n",
       "      <th>Teenhome</th>\n",
       "      <th>Dt_Customer</th>\n",
       "      <th>NumWebVisitsMonth</th>\n",
       "      <th>ID</th>\n",
       "    </tr>\n",
       "  </thead>\n",
       "  <tbody>\n",
       "    <tr>\n",
       "      <th>0</th>\n",
       "      <td>161770</td>\n",
       "      <td>1</td>\n",
       "      <td>0</td>\n",
       "      <td>2012-04-04</td>\n",
       "      <td>29</td>\n",
       "      <td>089b39d8-e4d0-461b-87d4-814d71e0e079</td>\n",
       "    </tr>\n",
       "    <tr>\n",
       "      <th>1</th>\n",
       "      <td>85477</td>\n",
       "      <td>1</td>\n",
       "      <td>1</td>\n",
       "      <td>2012-12-30</td>\n",
       "      <td>7</td>\n",
       "      <td>e9d37224-cb6f-4942-98d7-46672963d097</td>\n",
       "    </tr>\n",
       "    <tr>\n",
       "      <th>2</th>\n",
       "      <td>147233</td>\n",
       "      <td>1</td>\n",
       "      <td>1</td>\n",
       "      <td>2012-02-02</td>\n",
       "      <td>5</td>\n",
       "      <td>3f9f49b5-e410-4948-bf6e-f9244f04918b</td>\n",
       "    </tr>\n",
       "    <tr>\n",
       "      <th>3</th>\n",
       "      <td>121393</td>\n",
       "      <td>1</td>\n",
       "      <td>2</td>\n",
       "      <td>2012-12-21</td>\n",
       "      <td>29</td>\n",
       "      <td>9991fafb-4447-451a-8be2-b0df6098d13e</td>\n",
       "    </tr>\n",
       "    <tr>\n",
       "      <th>4</th>\n",
       "      <td>63164</td>\n",
       "      <td>1</td>\n",
       "      <td>2</td>\n",
       "      <td>2012-06-20</td>\n",
       "      <td>20</td>\n",
       "      <td>eca60b76-70b6-4077-80ba-bc52e8ebb0eb</td>\n",
       "    </tr>\n",
       "  </tbody>\n",
       "</table>\n",
       "</div>"
      ],
      "text/plain": [
       "   Income  Kidhome  Teenhome Dt_Customer  NumWebVisitsMonth  \\\n",
       "0  161770        1         0  2012-04-04                 29   \n",
       "1   85477        1         1  2012-12-30                  7   \n",
       "2  147233        1         1  2012-02-02                  5   \n",
       "3  121393        1         2  2012-12-21                 29   \n",
       "4   63164        1         2  2012-06-20                 20   \n",
       "\n",
       "                                     ID  \n",
       "0  089b39d8-e4d0-461b-87d4-814d71e0e079  \n",
       "1  e9d37224-cb6f-4942-98d7-46672963d097  \n",
       "2  3f9f49b5-e410-4948-bf6e-f9244f04918b  \n",
       "3  9991fafb-4447-451a-8be2-b0df6098d13e  \n",
       "4  eca60b76-70b6-4077-80ba-bc52e8ebb0eb  "
      ]
     },
     "execution_count": 51,
     "metadata": {},
     "output_type": "execute_result"
    }
   ],
   "source": [
    "# Eliminamos la columna Unnamed: 0\n",
    "df_cus = df_cus.drop(columns=[\"Unnamed: 0\"])\n",
    "df_cus.head()"
   ]
  },
  {
   "cell_type": "code",
   "execution_count": 54,
   "id": "937287e1",
   "metadata": {},
   "outputs": [
    {
     "name": "stdout",
     "output_type": "stream",
     "text": [
      "<class 'pandas.core.frame.DataFrame'>\n",
      "RangeIndex: 43170 entries, 0 to 43169\n",
      "Data columns (total 6 columns):\n",
      " #   Column             Non-Null Count  Dtype         \n",
      "---  ------             --------------  -----         \n",
      " 0   Income             43170 non-null  int64         \n",
      " 1   Kidhome            43170 non-null  int64         \n",
      " 2   Teenhome           43170 non-null  int64         \n",
      " 3   Dt_Customer        43170 non-null  datetime64[ns]\n",
      " 4   NumWebVisitsMonth  43170 non-null  int64         \n",
      " 5   ID                 43170 non-null  object        \n",
      "dtypes: datetime64[ns](1), int64(4), object(1)\n",
      "memory usage: 2.0+ MB\n"
     ]
    }
   ],
   "source": [
    "df_cus.info()"
   ]
  },
  {
   "cell_type": "code",
   "execution_count": 56,
   "id": "fb669103",
   "metadata": {},
   "outputs": [],
   "source": [
    "# Guardamos los datos limpios\n",
    "\n",
    "df_cus.to_csv(\"../data/processed/customer-details_clean.xlsx\", index=False)"
   ]
  }
 ],
 "metadata": {
  "kernelspec": {
   "display_name": "Python 3",
   "language": "python",
   "name": "python3"
  },
  "language_info": {
   "codemirror_mode": {
    "name": "ipython",
    "version": 3
   },
   "file_extension": ".py",
   "mimetype": "text/x-python",
   "name": "python",
   "nbconvert_exporter": "python",
   "pygments_lexer": "ipython3",
   "version": "3.13.0"
  }
 },
 "nbformat": 4,
 "nbformat_minor": 5
}
