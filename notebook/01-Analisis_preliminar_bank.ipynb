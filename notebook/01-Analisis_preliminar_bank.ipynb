{
 "cells": [
  {
   "cell_type": "markdown",
   "id": "538e8924",
   "metadata": {},
   "source": [
    "## Importación de librerías"
   ]
  },
  {
   "cell_type": "code",
   "execution_count": 3,
   "id": "e8a09754",
   "metadata": {},
   "outputs": [],
   "source": [
    "import pandas as pd\n",
    "import numpy as np\n",
    "pd.set_option('display.max_columns',None)"
   ]
  },
  {
   "cell_type": "markdown",
   "id": "ad7e138e",
   "metadata": {},
   "source": [
    "###\n",
    " CARGA DE DATOS BANK"
   ]
  },
  {
   "cell_type": "code",
   "execution_count": 4,
   "id": "c7f76979",
   "metadata": {},
   "outputs": [
    {
     "name": "stderr",
     "output_type": "stream",
     "text": [
      "/var/folders/ff/kw20mg9x5ylfh2vjn3h8xmjc0000gn/T/ipykernel_28163/2446293206.py:1: UserWarning: Could not infer format, so each element will be parsed individually, falling back to `dateutil`. To ensure parsing is consistent and as-expected, please specify a format.\n",
      "  df_bank = pd.read_csv('../data/raw/bank-additional.csv', parse_dates= ['date'])\n"
     ]
    }
   ],
   "source": [
    "df_bank = pd.read_csv('../data/raw/bank-additional.csv', parse_dates= ['date'])"
   ]
  },
  {
   "cell_type": "code",
   "execution_count": 5,
   "id": "cf93d24a",
   "metadata": {},
   "outputs": [
    {
     "data": {
      "text/html": [
       "<div>\n",
       "<style scoped>\n",
       "    .dataframe tbody tr th:only-of-type {\n",
       "        vertical-align: middle;\n",
       "    }\n",
       "\n",
       "    .dataframe tbody tr th {\n",
       "        vertical-align: top;\n",
       "    }\n",
       "\n",
       "    .dataframe thead th {\n",
       "        text-align: right;\n",
       "    }\n",
       "</style>\n",
       "<table border=\"1\" class=\"dataframe\">\n",
       "  <thead>\n",
       "    <tr style=\"text-align: right;\">\n",
       "      <th></th>\n",
       "      <th>Unnamed: 0</th>\n",
       "      <th>age</th>\n",
       "      <th>job</th>\n",
       "      <th>marital</th>\n",
       "      <th>education</th>\n",
       "      <th>default</th>\n",
       "      <th>housing</th>\n",
       "      <th>loan</th>\n",
       "      <th>contact</th>\n",
       "      <th>duration</th>\n",
       "      <th>campaign</th>\n",
       "      <th>pdays</th>\n",
       "      <th>previous</th>\n",
       "      <th>poutcome</th>\n",
       "      <th>emp.var.rate</th>\n",
       "      <th>cons.price.idx</th>\n",
       "      <th>cons.conf.idx</th>\n",
       "      <th>euribor3m</th>\n",
       "      <th>nr.employed</th>\n",
       "      <th>y</th>\n",
       "      <th>date</th>\n",
       "      <th>latitude</th>\n",
       "      <th>longitude</th>\n",
       "      <th>id_</th>\n",
       "    </tr>\n",
       "  </thead>\n",
       "  <tbody>\n",
       "    <tr>\n",
       "      <th>37067</th>\n",
       "      <td>37234</td>\n",
       "      <td>54.0</td>\n",
       "      <td>technician</td>\n",
       "      <td>MARRIED</td>\n",
       "      <td>university.degree</td>\n",
       "      <td>0.0</td>\n",
       "      <td>1.0</td>\n",
       "      <td>0.0</td>\n",
       "      <td>cellular</td>\n",
       "      <td>325</td>\n",
       "      <td>1</td>\n",
       "      <td>4</td>\n",
       "      <td>1</td>\n",
       "      <td>SUCCESS</td>\n",
       "      <td>-2.9</td>\n",
       "      <td>92,201</td>\n",
       "      <td>-31,4</td>\n",
       "      <td>0,881</td>\n",
       "      <td>5076,2</td>\n",
       "      <td>no</td>\n",
       "      <td>22-febrero-2017</td>\n",
       "      <td>34.946</td>\n",
       "      <td>-75.209</td>\n",
       "      <td>35a2493c-4c16-43c1-834c-d86177a3889f</td>\n",
       "    </tr>\n",
       "    <tr>\n",
       "      <th>24104</th>\n",
       "      <td>24226</td>\n",
       "      <td>39.0</td>\n",
       "      <td>unemployed</td>\n",
       "      <td>MARRIED</td>\n",
       "      <td>basic.9y</td>\n",
       "      <td>0.0</td>\n",
       "      <td>1.0</td>\n",
       "      <td>0.0</td>\n",
       "      <td>cellular</td>\n",
       "      <td>63</td>\n",
       "      <td>1</td>\n",
       "      <td>999</td>\n",
       "      <td>0</td>\n",
       "      <td>NONEXISTENT</td>\n",
       "      <td>-0.1</td>\n",
       "      <td>93,2</td>\n",
       "      <td>-42</td>\n",
       "      <td>4,191</td>\n",
       "      <td>5195,8</td>\n",
       "      <td>no</td>\n",
       "      <td>30-septiembre-2015</td>\n",
       "      <td>34.992</td>\n",
       "      <td>-77.764</td>\n",
       "      <td>b9121e84-27ab-46c5-a4e7-08a18783ca26</td>\n",
       "    </tr>\n",
       "    <tr>\n",
       "      <th>18612</th>\n",
       "      <td>18709</td>\n",
       "      <td>38.0</td>\n",
       "      <td>admin.</td>\n",
       "      <td>MARRIED</td>\n",
       "      <td>basic.6y</td>\n",
       "      <td>0.0</td>\n",
       "      <td>1.0</td>\n",
       "      <td>0.0</td>\n",
       "      <td>cellular</td>\n",
       "      <td>135</td>\n",
       "      <td>3</td>\n",
       "      <td>999</td>\n",
       "      <td>0</td>\n",
       "      <td>NONEXISTENT</td>\n",
       "      <td>1.4</td>\n",
       "      <td>93,918</td>\n",
       "      <td>-42,7</td>\n",
       "      <td>4,968</td>\n",
       "      <td>5228,1</td>\n",
       "      <td>no</td>\n",
       "      <td>15-noviembre-2019</td>\n",
       "      <td>38.860</td>\n",
       "      <td>-87.180</td>\n",
       "      <td>8b2fdd8f-bb45-4355-9de9-33aa87499c91</td>\n",
       "    </tr>\n",
       "    <tr>\n",
       "      <th>15091</th>\n",
       "      <td>15188</td>\n",
       "      <td>25.0</td>\n",
       "      <td>blue-collar</td>\n",
       "      <td>MARRIED</td>\n",
       "      <td>basic.4y</td>\n",
       "      <td>0.0</td>\n",
       "      <td>0.0</td>\n",
       "      <td>0.0</td>\n",
       "      <td>cellular</td>\n",
       "      <td>420</td>\n",
       "      <td>2</td>\n",
       "      <td>999</td>\n",
       "      <td>0</td>\n",
       "      <td>NONEXISTENT</td>\n",
       "      <td>1.4</td>\n",
       "      <td>93,918</td>\n",
       "      <td>-42,7</td>\n",
       "      <td>4,958</td>\n",
       "      <td>5228,1</td>\n",
       "      <td>no</td>\n",
       "      <td>2-enero-2018</td>\n",
       "      <td>34.951</td>\n",
       "      <td>-77.096</td>\n",
       "      <td>162594c3-a9d9-4c7e-ad33-5d828196e714</td>\n",
       "    </tr>\n",
       "    <tr>\n",
       "      <th>25835</th>\n",
       "      <td>25957</td>\n",
       "      <td>32.0</td>\n",
       "      <td>entrepreneur</td>\n",
       "      <td>MARRIED</td>\n",
       "      <td>university.degree</td>\n",
       "      <td>0.0</td>\n",
       "      <td>1.0</td>\n",
       "      <td>1.0</td>\n",
       "      <td>cellular</td>\n",
       "      <td>434</td>\n",
       "      <td>1</td>\n",
       "      <td>999</td>\n",
       "      <td>0</td>\n",
       "      <td>NONEXISTENT</td>\n",
       "      <td>-0.1</td>\n",
       "      <td>93,2</td>\n",
       "      <td>-42</td>\n",
       "      <td>4,12</td>\n",
       "      <td>5195,8</td>\n",
       "      <td>no</td>\n",
       "      <td>30-agosto-2019</td>\n",
       "      <td>31.313</td>\n",
       "      <td>-97.654</td>\n",
       "      <td>0e9bce5f-2035-4979-a29e-72e6656701f1</td>\n",
       "    </tr>\n",
       "  </tbody>\n",
       "</table>\n",
       "</div>"
      ],
      "text/plain": [
       "       Unnamed: 0   age           job  marital          education  default  \\\n",
       "37067       37234  54.0    technician  MARRIED  university.degree      0.0   \n",
       "24104       24226  39.0    unemployed  MARRIED           basic.9y      0.0   \n",
       "18612       18709  38.0        admin.  MARRIED           basic.6y      0.0   \n",
       "15091       15188  25.0   blue-collar  MARRIED           basic.4y      0.0   \n",
       "25835       25957  32.0  entrepreneur  MARRIED  university.degree      0.0   \n",
       "\n",
       "       housing  loan   contact  duration  campaign  pdays  previous  \\\n",
       "37067      1.0   0.0  cellular       325         1      4         1   \n",
       "24104      1.0   0.0  cellular        63         1    999         0   \n",
       "18612      1.0   0.0  cellular       135         3    999         0   \n",
       "15091      0.0   0.0  cellular       420         2    999         0   \n",
       "25835      1.0   1.0  cellular       434         1    999         0   \n",
       "\n",
       "          poutcome  emp.var.rate cons.price.idx cons.conf.idx euribor3m  \\\n",
       "37067      SUCCESS          -2.9         92,201         -31,4     0,881   \n",
       "24104  NONEXISTENT          -0.1           93,2           -42     4,191   \n",
       "18612  NONEXISTENT           1.4         93,918         -42,7     4,968   \n",
       "15091  NONEXISTENT           1.4         93,918         -42,7     4,958   \n",
       "25835  NONEXISTENT          -0.1           93,2           -42      4,12   \n",
       "\n",
       "      nr.employed   y                date  latitude  longitude  \\\n",
       "37067      5076,2  no     22-febrero-2017    34.946    -75.209   \n",
       "24104      5195,8  no  30-septiembre-2015    34.992    -77.764   \n",
       "18612      5228,1  no   15-noviembre-2019    38.860    -87.180   \n",
       "15091      5228,1  no        2-enero-2018    34.951    -77.096   \n",
       "25835      5195,8  no      30-agosto-2019    31.313    -97.654   \n",
       "\n",
       "                                        id_  \n",
       "37067  35a2493c-4c16-43c1-834c-d86177a3889f  \n",
       "24104  b9121e84-27ab-46c5-a4e7-08a18783ca26  \n",
       "18612  8b2fdd8f-bb45-4355-9de9-33aa87499c91  \n",
       "15091  162594c3-a9d9-4c7e-ad33-5d828196e714  \n",
       "25835  0e9bce5f-2035-4979-a29e-72e6656701f1  "
      ]
     },
     "execution_count": 5,
     "metadata": {},
     "output_type": "execute_result"
    }
   ],
   "source": [
    "df_bank.sample(5)"
   ]
  },
  {
   "cell_type": "markdown",
   "id": "2134f148",
   "metadata": {},
   "source": [
    "### Columnas del dataset\n",
    "\n",
    "- ``age``: La edad del cliente.  \n",
    "- ``job``: La ocupación o profesión del cliente.  \n",
    "- ``marital``: El estado civil del cliente.  \n",
    "- ``education``: El nivel educativo del cliente.  \n",
    "- ``default``: Indica si el cliente tiene historial de incumplimiento de pagos (1: Sí, 0: No).  \n",
    "- ``housing``: Indica si el cliente tiene un préstamo hipotecario (1: Sí, 0: No).  \n",
    "- ``loan``: Indica si el cliente tiene algún otro tipo de préstamo (1: Sí, 0: No).  \n",
    "- ``contact``: Método de contacto utilizado para comunicarse con el cliente.  \n",
    "- ``duration``: Duración en segundos de la última interacción con el cliente.  \n",
    "- ``campaign``: Número de contactos realizados durante esta campaña para este cliente.  \n",
    "- ``pdays``: Número de días desde el último contacto con el cliente en esta campaña.  \n",
    "- ``previous``: Número de contactos previos antes de esta campaña.  \n",
    "- ``poutcome``: Resultado de la campaña de marketing anterior.  \n",
    "- ``emp.var.rate``: Tasa de variación del empleo.  \n",
    "- ``cons.price.idx``: Índice de precios al consumidor.  \n",
    "- ``cons.conf.idx``: Índice de confianza del consumidor.  \n",
    "- ``euribor3m``: Tasa de interés de referencia a tres meses.  \n",
    "- ``nr.employed``: Número de empleados.  \n",
    "- ``y``: Indica si el cliente ha suscrito un producto o servicio (Sí/No).  \n",
    "- ``date``: Fecha en la que se realizó la interacción con el cliente.  \n",
    "- ``contact_month``: Mes en que se realizó la interacción con el cliente durante la campaña.  \n",
    "- ``contact_year``: Año en que se realizó la interacción con el cliente durante la campaña.  \n",
    "- ``id_``: Identificador único de cada registro en el dataset. "
   ]
  },
  {
   "cell_type": "code",
   "execution_count": 6,
   "id": "6fc36396",
   "metadata": {},
   "outputs": [
    {
     "name": "stdout",
     "output_type": "stream",
     "text": [
      "<class 'pandas.core.frame.DataFrame'>\n",
      "RangeIndex: 43000 entries, 0 to 42999\n",
      "Data columns (total 24 columns):\n",
      " #   Column          Non-Null Count  Dtype  \n",
      "---  ------          --------------  -----  \n",
      " 0   Unnamed: 0      43000 non-null  int64  \n",
      " 1   age             37880 non-null  float64\n",
      " 2   job             42655 non-null  object \n",
      " 3   marital         42915 non-null  object \n",
      " 4   education       41193 non-null  object \n",
      " 5   default         34019 non-null  float64\n",
      " 6   housing         41974 non-null  float64\n",
      " 7   loan            41974 non-null  float64\n",
      " 8   contact         43000 non-null  object \n",
      " 9   duration        43000 non-null  int64  \n",
      " 10  campaign        43000 non-null  int64  \n",
      " 11  pdays           43000 non-null  int64  \n",
      " 12  previous        43000 non-null  int64  \n",
      " 13  poutcome        43000 non-null  object \n",
      " 14  emp.var.rate    43000 non-null  float64\n",
      " 15  cons.price.idx  42529 non-null  object \n",
      " 16  cons.conf.idx   43000 non-null  object \n",
      " 17  euribor3m       33744 non-null  object \n",
      " 18  nr.employed     43000 non-null  object \n",
      " 19  y               43000 non-null  object \n",
      " 20  date            42752 non-null  object \n",
      " 21  latitude        43000 non-null  float64\n",
      " 22  longitude       43000 non-null  float64\n",
      " 23  id_             43000 non-null  object \n",
      "dtypes: float64(7), int64(5), object(12)\n",
      "memory usage: 7.9+ MB\n"
     ]
    }
   ],
   "source": [
    "df_bank.info()"
   ]
  },
  {
   "cell_type": "code",
   "execution_count": 28,
   "id": "fcf7018d",
   "metadata": {},
   "outputs": [
    {
     "ename": "AttributeError",
     "evalue": "Can only use .str accessor with string values!",
     "output_type": "error",
     "traceback": [
      "\u001b[0;31m---------------------------------------------------------------------------\u001b[0m",
      "\u001b[0;31mAttributeError\u001b[0m                            Traceback (most recent call last)",
      "Cell \u001b[0;32mIn[28], line 10\u001b[0m\n\u001b[1;32m      2\u001b[0m meses \u001b[38;5;241m=\u001b[39m {\n\u001b[1;32m      3\u001b[0m     \u001b[38;5;124m\"\u001b[39m\u001b[38;5;124menero\u001b[39m\u001b[38;5;124m\"\u001b[39m: \u001b[38;5;124m\"\u001b[39m\u001b[38;5;124m01\u001b[39m\u001b[38;5;124m\"\u001b[39m, \u001b[38;5;124m\"\u001b[39m\u001b[38;5;124mfebrero\u001b[39m\u001b[38;5;124m\"\u001b[39m: \u001b[38;5;124m\"\u001b[39m\u001b[38;5;124m02\u001b[39m\u001b[38;5;124m\"\u001b[39m, \u001b[38;5;124m\"\u001b[39m\u001b[38;5;124mmarzo\u001b[39m\u001b[38;5;124m\"\u001b[39m: \u001b[38;5;124m\"\u001b[39m\u001b[38;5;124m03\u001b[39m\u001b[38;5;124m\"\u001b[39m, \u001b[38;5;124m\"\u001b[39m\u001b[38;5;124mabril\u001b[39m\u001b[38;5;124m\"\u001b[39m: \u001b[38;5;124m\"\u001b[39m\u001b[38;5;124m04\u001b[39m\u001b[38;5;124m\"\u001b[39m,\n\u001b[1;32m      4\u001b[0m     \u001b[38;5;124m\"\u001b[39m\u001b[38;5;124mmayo\u001b[39m\u001b[38;5;124m\"\u001b[39m: \u001b[38;5;124m\"\u001b[39m\u001b[38;5;124m05\u001b[39m\u001b[38;5;124m\"\u001b[39m, \u001b[38;5;124m\"\u001b[39m\u001b[38;5;124mjunio\u001b[39m\u001b[38;5;124m\"\u001b[39m: \u001b[38;5;124m\"\u001b[39m\u001b[38;5;124m06\u001b[39m\u001b[38;5;124m\"\u001b[39m, \u001b[38;5;124m\"\u001b[39m\u001b[38;5;124mjulio\u001b[39m\u001b[38;5;124m\"\u001b[39m: \u001b[38;5;124m\"\u001b[39m\u001b[38;5;124m07\u001b[39m\u001b[38;5;124m\"\u001b[39m, \u001b[38;5;124m\"\u001b[39m\u001b[38;5;124magosto\u001b[39m\u001b[38;5;124m\"\u001b[39m: \u001b[38;5;124m\"\u001b[39m\u001b[38;5;124m08\u001b[39m\u001b[38;5;124m\"\u001b[39m,\n\u001b[1;32m      5\u001b[0m     \u001b[38;5;124m\"\u001b[39m\u001b[38;5;124mseptiembre\u001b[39m\u001b[38;5;124m\"\u001b[39m: \u001b[38;5;124m\"\u001b[39m\u001b[38;5;124m09\u001b[39m\u001b[38;5;124m\"\u001b[39m, \u001b[38;5;124m\"\u001b[39m\u001b[38;5;124msetiembre\u001b[39m\u001b[38;5;124m\"\u001b[39m: \u001b[38;5;124m\"\u001b[39m\u001b[38;5;124m09\u001b[39m\u001b[38;5;124m\"\u001b[39m, \u001b[38;5;124m\"\u001b[39m\u001b[38;5;124moctubre\u001b[39m\u001b[38;5;124m\"\u001b[39m: \u001b[38;5;124m\"\u001b[39m\u001b[38;5;124m10\u001b[39m\u001b[38;5;124m\"\u001b[39m,\n\u001b[1;32m      6\u001b[0m     \u001b[38;5;124m\"\u001b[39m\u001b[38;5;124mnoviembre\u001b[39m\u001b[38;5;124m\"\u001b[39m: \u001b[38;5;124m\"\u001b[39m\u001b[38;5;124m11\u001b[39m\u001b[38;5;124m\"\u001b[39m, \u001b[38;5;124m\"\u001b[39m\u001b[38;5;124mdiciembre\u001b[39m\u001b[38;5;124m\"\u001b[39m: \u001b[38;5;124m\"\u001b[39m\u001b[38;5;124m12\u001b[39m\u001b[38;5;124m\"\u001b[39m\n\u001b[1;32m      7\u001b[0m }\n\u001b[1;32m      9\u001b[0m \u001b[38;5;66;03m# 1) Separamos la fecha en tres columnas: día, mes escrito, año\u001b[39;00m\n\u001b[0;32m---> 10\u001b[0m df_bank[[\u001b[38;5;124m\"\u001b[39m\u001b[38;5;124mday\u001b[39m\u001b[38;5;124m\"\u001b[39m, \u001b[38;5;124m\"\u001b[39m\u001b[38;5;124mmonthwrite\u001b[39m\u001b[38;5;124m\"\u001b[39m, \u001b[38;5;124m\"\u001b[39m\u001b[38;5;124myear\u001b[39m\u001b[38;5;124m\"\u001b[39m]] \u001b[38;5;241m=\u001b[39m \u001b[43mdf_bank\u001b[49m\u001b[43m[\u001b[49m\u001b[38;5;124;43m\"\u001b[39;49m\u001b[38;5;124;43mdate\u001b[39;49m\u001b[38;5;124;43m\"\u001b[39;49m\u001b[43m]\u001b[49m\u001b[38;5;241;43m.\u001b[39;49m\u001b[43mstr\u001b[49m\u001b[38;5;241m.\u001b[39msplit(\u001b[38;5;124m\"\u001b[39m\u001b[38;5;124m-\u001b[39m\u001b[38;5;124m\"\u001b[39m, expand\u001b[38;5;241m=\u001b[39m\u001b[38;5;28;01mTrue\u001b[39;00m)\n\u001b[1;32m     12\u001b[0m \u001b[38;5;66;03m# 2) Limpiamos espacios y ponemos minúsculas\u001b[39;00m\n\u001b[1;32m     13\u001b[0m df_bank[\u001b[38;5;124m\"\u001b[39m\u001b[38;5;124mmonthwrite\u001b[39m\u001b[38;5;124m\"\u001b[39m] \u001b[38;5;241m=\u001b[39m df_bank[\u001b[38;5;124m\"\u001b[39m\u001b[38;5;124mmonthwrite\u001b[39m\u001b[38;5;124m\"\u001b[39m]\u001b[38;5;241m.\u001b[39mstr\u001b[38;5;241m.\u001b[39mstrip()\u001b[38;5;241m.\u001b[39mstr\u001b[38;5;241m.\u001b[39mlower()\n",
      "File \u001b[0;32m/Library/Frameworks/Python.framework/Versions/3.13/lib/python3.13/site-packages/pandas/core/generic.py:6299\u001b[0m, in \u001b[0;36mNDFrame.__getattr__\u001b[0;34m(self, name)\u001b[0m\n\u001b[1;32m   6292\u001b[0m \u001b[38;5;28;01mif\u001b[39;00m (\n\u001b[1;32m   6293\u001b[0m     name \u001b[38;5;129;01mnot\u001b[39;00m \u001b[38;5;129;01min\u001b[39;00m \u001b[38;5;28mself\u001b[39m\u001b[38;5;241m.\u001b[39m_internal_names_set\n\u001b[1;32m   6294\u001b[0m     \u001b[38;5;129;01mand\u001b[39;00m name \u001b[38;5;129;01mnot\u001b[39;00m \u001b[38;5;129;01min\u001b[39;00m \u001b[38;5;28mself\u001b[39m\u001b[38;5;241m.\u001b[39m_metadata\n\u001b[1;32m   6295\u001b[0m     \u001b[38;5;129;01mand\u001b[39;00m name \u001b[38;5;129;01mnot\u001b[39;00m \u001b[38;5;129;01min\u001b[39;00m \u001b[38;5;28mself\u001b[39m\u001b[38;5;241m.\u001b[39m_accessors\n\u001b[1;32m   6296\u001b[0m     \u001b[38;5;129;01mand\u001b[39;00m \u001b[38;5;28mself\u001b[39m\u001b[38;5;241m.\u001b[39m_info_axis\u001b[38;5;241m.\u001b[39m_can_hold_identifiers_and_holds_name(name)\n\u001b[1;32m   6297\u001b[0m ):\n\u001b[1;32m   6298\u001b[0m     \u001b[38;5;28;01mreturn\u001b[39;00m \u001b[38;5;28mself\u001b[39m[name]\n\u001b[0;32m-> 6299\u001b[0m \u001b[38;5;28;01mreturn\u001b[39;00m \u001b[38;5;28;43mobject\u001b[39;49m\u001b[38;5;241;43m.\u001b[39;49m\u001b[38;5;21;43m__getattribute__\u001b[39;49m\u001b[43m(\u001b[49m\u001b[38;5;28;43mself\u001b[39;49m\u001b[43m,\u001b[49m\u001b[43m \u001b[49m\u001b[43mname\u001b[49m\u001b[43m)\u001b[49m\n",
      "File \u001b[0;32m/Library/Frameworks/Python.framework/Versions/3.13/lib/python3.13/site-packages/pandas/core/accessor.py:224\u001b[0m, in \u001b[0;36mCachedAccessor.__get__\u001b[0;34m(self, obj, cls)\u001b[0m\n\u001b[1;32m    221\u001b[0m \u001b[38;5;28;01mif\u001b[39;00m obj \u001b[38;5;129;01mis\u001b[39;00m \u001b[38;5;28;01mNone\u001b[39;00m:\n\u001b[1;32m    222\u001b[0m     \u001b[38;5;66;03m# we're accessing the attribute of the class, i.e., Dataset.geo\u001b[39;00m\n\u001b[1;32m    223\u001b[0m     \u001b[38;5;28;01mreturn\u001b[39;00m \u001b[38;5;28mself\u001b[39m\u001b[38;5;241m.\u001b[39m_accessor\n\u001b[0;32m--> 224\u001b[0m accessor_obj \u001b[38;5;241m=\u001b[39m \u001b[38;5;28;43mself\u001b[39;49m\u001b[38;5;241;43m.\u001b[39;49m\u001b[43m_accessor\u001b[49m\u001b[43m(\u001b[49m\u001b[43mobj\u001b[49m\u001b[43m)\u001b[49m\n\u001b[1;32m    225\u001b[0m \u001b[38;5;66;03m# Replace the property with the accessor object. Inspired by:\u001b[39;00m\n\u001b[1;32m    226\u001b[0m \u001b[38;5;66;03m# https://www.pydanny.com/cached-property.html\u001b[39;00m\n\u001b[1;32m    227\u001b[0m \u001b[38;5;66;03m# We need to use object.__setattr__ because we overwrite __setattr__ on\u001b[39;00m\n\u001b[1;32m    228\u001b[0m \u001b[38;5;66;03m# NDFrame\u001b[39;00m\n\u001b[1;32m    229\u001b[0m \u001b[38;5;28mobject\u001b[39m\u001b[38;5;241m.\u001b[39m\u001b[38;5;21m__setattr__\u001b[39m(obj, \u001b[38;5;28mself\u001b[39m\u001b[38;5;241m.\u001b[39m_name, accessor_obj)\n",
      "File \u001b[0;32m/Library/Frameworks/Python.framework/Versions/3.13/lib/python3.13/site-packages/pandas/core/strings/accessor.py:191\u001b[0m, in \u001b[0;36mStringMethods.__init__\u001b[0;34m(self, data)\u001b[0m\n\u001b[1;32m    188\u001b[0m \u001b[38;5;28;01mdef\u001b[39;00m \u001b[38;5;21m__init__\u001b[39m(\u001b[38;5;28mself\u001b[39m, data) \u001b[38;5;241m-\u001b[39m\u001b[38;5;241m>\u001b[39m \u001b[38;5;28;01mNone\u001b[39;00m:\n\u001b[1;32m    189\u001b[0m     \u001b[38;5;28;01mfrom\u001b[39;00m \u001b[38;5;21;01mpandas\u001b[39;00m\u001b[38;5;21;01m.\u001b[39;00m\u001b[38;5;21;01mcore\u001b[39;00m\u001b[38;5;21;01m.\u001b[39;00m\u001b[38;5;21;01marrays\u001b[39;00m\u001b[38;5;21;01m.\u001b[39;00m\u001b[38;5;21;01mstring_\u001b[39;00m \u001b[38;5;28;01mimport\u001b[39;00m StringDtype\n\u001b[0;32m--> 191\u001b[0m     \u001b[38;5;28mself\u001b[39m\u001b[38;5;241m.\u001b[39m_inferred_dtype \u001b[38;5;241m=\u001b[39m \u001b[38;5;28;43mself\u001b[39;49m\u001b[38;5;241;43m.\u001b[39;49m\u001b[43m_validate\u001b[49m\u001b[43m(\u001b[49m\u001b[43mdata\u001b[49m\u001b[43m)\u001b[49m\n\u001b[1;32m    192\u001b[0m     \u001b[38;5;28mself\u001b[39m\u001b[38;5;241m.\u001b[39m_is_categorical \u001b[38;5;241m=\u001b[39m \u001b[38;5;28misinstance\u001b[39m(data\u001b[38;5;241m.\u001b[39mdtype, CategoricalDtype)\n\u001b[1;32m    193\u001b[0m     \u001b[38;5;28mself\u001b[39m\u001b[38;5;241m.\u001b[39m_is_string \u001b[38;5;241m=\u001b[39m \u001b[38;5;28misinstance\u001b[39m(data\u001b[38;5;241m.\u001b[39mdtype, StringDtype)\n",
      "File \u001b[0;32m/Library/Frameworks/Python.framework/Versions/3.13/lib/python3.13/site-packages/pandas/core/strings/accessor.py:245\u001b[0m, in \u001b[0;36mStringMethods._validate\u001b[0;34m(data)\u001b[0m\n\u001b[1;32m    242\u001b[0m inferred_dtype \u001b[38;5;241m=\u001b[39m lib\u001b[38;5;241m.\u001b[39minfer_dtype(values, skipna\u001b[38;5;241m=\u001b[39m\u001b[38;5;28;01mTrue\u001b[39;00m)\n\u001b[1;32m    244\u001b[0m \u001b[38;5;28;01mif\u001b[39;00m inferred_dtype \u001b[38;5;129;01mnot\u001b[39;00m \u001b[38;5;129;01min\u001b[39;00m allowed_types:\n\u001b[0;32m--> 245\u001b[0m     \u001b[38;5;28;01mraise\u001b[39;00m \u001b[38;5;167;01mAttributeError\u001b[39;00m(\u001b[38;5;124m\"\u001b[39m\u001b[38;5;124mCan only use .str accessor with string values!\u001b[39m\u001b[38;5;124m\"\u001b[39m)\n\u001b[1;32m    246\u001b[0m \u001b[38;5;28;01mreturn\u001b[39;00m inferred_dtype\n",
      "\u001b[0;31mAttributeError\u001b[0m: Can only use .str accessor with string values!"
     ]
    }
   ],
   "source": [
    "# Diccionario de meses en español\n",
    "meses = {\n",
    "    \"enero\": \"01\", \"febrero\": \"02\", \"marzo\": \"03\", \"abril\": \"04\",\n",
    "    \"mayo\": \"05\", \"junio\": \"06\", \"julio\": \"07\", \"agosto\": \"08\",\n",
    "    \"septiembre\": \"09\", \"setiembre\": \"09\", \"octubre\": \"10\",\n",
    "    \"noviembre\": \"11\", \"diciembre\": \"12\"\n",
    "}\n",
    "\n",
    "# 1) Separamos la fecha en tres columnas: día, mes escrito, año\n",
    "df_bank[[\"day\", \"monthwrite\", \"year\"]] = df_bank[\"date\"].str.split(\"-\", expand=True)\n",
    "\n",
    "# 2) Limpiamos espacios y ponemos minúsculas\n",
    "df_bank[\"monthwrite\"] = df_bank[\"monthwrite\"].str.strip().str.lower()\n",
    "\n",
    "# 3) Pasamos el mes de texto a número\n",
    "df_bank[\"month\"] = df_bank[\"monthwrite\"].map(meses)\n",
    "\n",
    "# 4) Creamos la nueva columna de fecha en formato datetime\n",
    "df_bank[\"date\"] = pd.to_datetime(\n",
    "    df_bank[\"day\"] + \"-\" + df_bank[\"month\"] + \"-\" + df_bank[\"year\"],\n",
    "    format=\"%d-%m-%Y\",\n",
    "    errors=\"coerce\"\n",
    ")\n"
   ]
  },
  {
   "cell_type": "code",
   "execution_count": 32,
   "id": "85980d5e",
   "metadata": {},
   "outputs": [
    {
     "ename": "KeyError",
     "evalue": "\"['month_num', 'date_clean'] not found in axis\"",
     "output_type": "error",
     "traceback": [
      "\u001b[0;31m---------------------------------------------------------------------------\u001b[0m",
      "\u001b[0;31mKeyError\u001b[0m                                  Traceback (most recent call last)",
      "Cell \u001b[0;32mIn[32], line 1\u001b[0m\n\u001b[0;32m----> 1\u001b[0m df_bank \u001b[38;5;241m=\u001b[39m \u001b[43mdf_bank\u001b[49m\u001b[38;5;241;43m.\u001b[39;49m\u001b[43mdrop\u001b[49m\u001b[43m(\u001b[49m\u001b[43mcolumns\u001b[49m\u001b[43m \u001b[49m\u001b[38;5;241;43m=\u001b[39;49m\u001b[43m \u001b[49m\u001b[43m[\u001b[49m\u001b[38;5;124;43m\"\u001b[39;49m\u001b[38;5;124;43mday\u001b[39;49m\u001b[38;5;124;43m\"\u001b[39;49m\u001b[43m,\u001b[49m\u001b[43m \u001b[49m\u001b[38;5;124;43m\"\u001b[39;49m\u001b[38;5;124;43mmonthwrite\u001b[39;49m\u001b[38;5;124;43m\"\u001b[39;49m\u001b[43m,\u001b[49m\u001b[43m \u001b[49m\u001b[38;5;124;43m\"\u001b[39;49m\u001b[38;5;124;43myear\u001b[39;49m\u001b[38;5;124;43m\"\u001b[39;49m\u001b[43m,\u001b[49m\u001b[43m \u001b[49m\u001b[38;5;124;43m\"\u001b[39;49m\u001b[38;5;124;43mmonth\u001b[39;49m\u001b[38;5;124;43m\"\u001b[39;49m\u001b[43m,\u001b[49m\u001b[43m \u001b[49m\u001b[38;5;124;43m\"\u001b[39;49m\u001b[38;5;124;43mmonth_num\u001b[39;49m\u001b[38;5;124;43m\"\u001b[39;49m\u001b[43m,\u001b[49m\u001b[43m \u001b[49m\u001b[38;5;124;43m\"\u001b[39;49m\u001b[38;5;124;43mdate_clean\u001b[39;49m\u001b[38;5;124;43m\"\u001b[39;49m\u001b[43m]\u001b[49m\u001b[43m)\u001b[49m\n",
      "File \u001b[0;32m/Library/Frameworks/Python.framework/Versions/3.13/lib/python3.13/site-packages/pandas/core/frame.py:5581\u001b[0m, in \u001b[0;36mDataFrame.drop\u001b[0;34m(self, labels, axis, index, columns, level, inplace, errors)\u001b[0m\n\u001b[1;32m   5433\u001b[0m \u001b[38;5;28;01mdef\u001b[39;00m \u001b[38;5;21mdrop\u001b[39m(\n\u001b[1;32m   5434\u001b[0m     \u001b[38;5;28mself\u001b[39m,\n\u001b[1;32m   5435\u001b[0m     labels: IndexLabel \u001b[38;5;241m|\u001b[39m \u001b[38;5;28;01mNone\u001b[39;00m \u001b[38;5;241m=\u001b[39m \u001b[38;5;28;01mNone\u001b[39;00m,\n\u001b[0;32m   (...)\u001b[0m\n\u001b[1;32m   5442\u001b[0m     errors: IgnoreRaise \u001b[38;5;241m=\u001b[39m \u001b[38;5;124m\"\u001b[39m\u001b[38;5;124mraise\u001b[39m\u001b[38;5;124m\"\u001b[39m,\n\u001b[1;32m   5443\u001b[0m ) \u001b[38;5;241m-\u001b[39m\u001b[38;5;241m>\u001b[39m DataFrame \u001b[38;5;241m|\u001b[39m \u001b[38;5;28;01mNone\u001b[39;00m:\n\u001b[1;32m   5444\u001b[0m \u001b[38;5;250m    \u001b[39m\u001b[38;5;124;03m\"\"\"\u001b[39;00m\n\u001b[1;32m   5445\u001b[0m \u001b[38;5;124;03m    Drop specified labels from rows or columns.\u001b[39;00m\n\u001b[1;32m   5446\u001b[0m \n\u001b[0;32m   (...)\u001b[0m\n\u001b[1;32m   5579\u001b[0m \u001b[38;5;124;03m            weight  1.0     0.8\u001b[39;00m\n\u001b[1;32m   5580\u001b[0m \u001b[38;5;124;03m    \"\"\"\u001b[39;00m\n\u001b[0;32m-> 5581\u001b[0m     \u001b[38;5;28;01mreturn\u001b[39;00m \u001b[38;5;28;43msuper\u001b[39;49m\u001b[43m(\u001b[49m\u001b[43m)\u001b[49m\u001b[38;5;241;43m.\u001b[39;49m\u001b[43mdrop\u001b[49m\u001b[43m(\u001b[49m\n\u001b[1;32m   5582\u001b[0m \u001b[43m        \u001b[49m\u001b[43mlabels\u001b[49m\u001b[38;5;241;43m=\u001b[39;49m\u001b[43mlabels\u001b[49m\u001b[43m,\u001b[49m\n\u001b[1;32m   5583\u001b[0m \u001b[43m        \u001b[49m\u001b[43maxis\u001b[49m\u001b[38;5;241;43m=\u001b[39;49m\u001b[43maxis\u001b[49m\u001b[43m,\u001b[49m\n\u001b[1;32m   5584\u001b[0m \u001b[43m        \u001b[49m\u001b[43mindex\u001b[49m\u001b[38;5;241;43m=\u001b[39;49m\u001b[43mindex\u001b[49m\u001b[43m,\u001b[49m\n\u001b[1;32m   5585\u001b[0m \u001b[43m        \u001b[49m\u001b[43mcolumns\u001b[49m\u001b[38;5;241;43m=\u001b[39;49m\u001b[43mcolumns\u001b[49m\u001b[43m,\u001b[49m\n\u001b[1;32m   5586\u001b[0m \u001b[43m        \u001b[49m\u001b[43mlevel\u001b[49m\u001b[38;5;241;43m=\u001b[39;49m\u001b[43mlevel\u001b[49m\u001b[43m,\u001b[49m\n\u001b[1;32m   5587\u001b[0m \u001b[43m        \u001b[49m\u001b[43minplace\u001b[49m\u001b[38;5;241;43m=\u001b[39;49m\u001b[43minplace\u001b[49m\u001b[43m,\u001b[49m\n\u001b[1;32m   5588\u001b[0m \u001b[43m        \u001b[49m\u001b[43merrors\u001b[49m\u001b[38;5;241;43m=\u001b[39;49m\u001b[43merrors\u001b[49m\u001b[43m,\u001b[49m\n\u001b[1;32m   5589\u001b[0m \u001b[43m    \u001b[49m\u001b[43m)\u001b[49m\n",
      "File \u001b[0;32m/Library/Frameworks/Python.framework/Versions/3.13/lib/python3.13/site-packages/pandas/core/generic.py:4788\u001b[0m, in \u001b[0;36mNDFrame.drop\u001b[0;34m(self, labels, axis, index, columns, level, inplace, errors)\u001b[0m\n\u001b[1;32m   4786\u001b[0m \u001b[38;5;28;01mfor\u001b[39;00m axis, labels \u001b[38;5;129;01min\u001b[39;00m axes\u001b[38;5;241m.\u001b[39mitems():\n\u001b[1;32m   4787\u001b[0m     \u001b[38;5;28;01mif\u001b[39;00m labels \u001b[38;5;129;01mis\u001b[39;00m \u001b[38;5;129;01mnot\u001b[39;00m \u001b[38;5;28;01mNone\u001b[39;00m:\n\u001b[0;32m-> 4788\u001b[0m         obj \u001b[38;5;241m=\u001b[39m \u001b[43mobj\u001b[49m\u001b[38;5;241;43m.\u001b[39;49m\u001b[43m_drop_axis\u001b[49m\u001b[43m(\u001b[49m\u001b[43mlabels\u001b[49m\u001b[43m,\u001b[49m\u001b[43m \u001b[49m\u001b[43maxis\u001b[49m\u001b[43m,\u001b[49m\u001b[43m \u001b[49m\u001b[43mlevel\u001b[49m\u001b[38;5;241;43m=\u001b[39;49m\u001b[43mlevel\u001b[49m\u001b[43m,\u001b[49m\u001b[43m \u001b[49m\u001b[43merrors\u001b[49m\u001b[38;5;241;43m=\u001b[39;49m\u001b[43merrors\u001b[49m\u001b[43m)\u001b[49m\n\u001b[1;32m   4790\u001b[0m \u001b[38;5;28;01mif\u001b[39;00m inplace:\n\u001b[1;32m   4791\u001b[0m     \u001b[38;5;28mself\u001b[39m\u001b[38;5;241m.\u001b[39m_update_inplace(obj)\n",
      "File \u001b[0;32m/Library/Frameworks/Python.framework/Versions/3.13/lib/python3.13/site-packages/pandas/core/generic.py:4830\u001b[0m, in \u001b[0;36mNDFrame._drop_axis\u001b[0;34m(self, labels, axis, level, errors, only_slice)\u001b[0m\n\u001b[1;32m   4828\u001b[0m         new_axis \u001b[38;5;241m=\u001b[39m axis\u001b[38;5;241m.\u001b[39mdrop(labels, level\u001b[38;5;241m=\u001b[39mlevel, errors\u001b[38;5;241m=\u001b[39merrors)\n\u001b[1;32m   4829\u001b[0m     \u001b[38;5;28;01melse\u001b[39;00m:\n\u001b[0;32m-> 4830\u001b[0m         new_axis \u001b[38;5;241m=\u001b[39m \u001b[43maxis\u001b[49m\u001b[38;5;241;43m.\u001b[39;49m\u001b[43mdrop\u001b[49m\u001b[43m(\u001b[49m\u001b[43mlabels\u001b[49m\u001b[43m,\u001b[49m\u001b[43m \u001b[49m\u001b[43merrors\u001b[49m\u001b[38;5;241;43m=\u001b[39;49m\u001b[43merrors\u001b[49m\u001b[43m)\u001b[49m\n\u001b[1;32m   4831\u001b[0m     indexer \u001b[38;5;241m=\u001b[39m axis\u001b[38;5;241m.\u001b[39mget_indexer(new_axis)\n\u001b[1;32m   4833\u001b[0m \u001b[38;5;66;03m# Case for non-unique axis\u001b[39;00m\n\u001b[1;32m   4834\u001b[0m \u001b[38;5;28;01melse\u001b[39;00m:\n",
      "File \u001b[0;32m/Library/Frameworks/Python.framework/Versions/3.13/lib/python3.13/site-packages/pandas/core/indexes/base.py:7070\u001b[0m, in \u001b[0;36mIndex.drop\u001b[0;34m(self, labels, errors)\u001b[0m\n\u001b[1;32m   7068\u001b[0m \u001b[38;5;28;01mif\u001b[39;00m mask\u001b[38;5;241m.\u001b[39many():\n\u001b[1;32m   7069\u001b[0m     \u001b[38;5;28;01mif\u001b[39;00m errors \u001b[38;5;241m!=\u001b[39m \u001b[38;5;124m\"\u001b[39m\u001b[38;5;124mignore\u001b[39m\u001b[38;5;124m\"\u001b[39m:\n\u001b[0;32m-> 7070\u001b[0m         \u001b[38;5;28;01mraise\u001b[39;00m \u001b[38;5;167;01mKeyError\u001b[39;00m(\u001b[38;5;124mf\u001b[39m\u001b[38;5;124m\"\u001b[39m\u001b[38;5;132;01m{\u001b[39;00mlabels[mask]\u001b[38;5;241m.\u001b[39mtolist()\u001b[38;5;132;01m}\u001b[39;00m\u001b[38;5;124m not found in axis\u001b[39m\u001b[38;5;124m\"\u001b[39m)\n\u001b[1;32m   7071\u001b[0m     indexer \u001b[38;5;241m=\u001b[39m indexer[\u001b[38;5;241m~\u001b[39mmask]\n\u001b[1;32m   7072\u001b[0m \u001b[38;5;28;01mreturn\u001b[39;00m \u001b[38;5;28mself\u001b[39m\u001b[38;5;241m.\u001b[39mdelete(indexer)\n",
      "\u001b[0;31mKeyError\u001b[0m: \"['month_num', 'date_clean'] not found in axis\""
     ]
    }
   ],
   "source": [
    "df_bank = df_bank.drop(columns = [\"day\", \"monthwrite\", \"year\", \"month\", \"month_num\", \"date_clean\"])"
   ]
  },
  {
   "cell_type": "markdown",
   "id": "9d94fdee",
   "metadata": {},
   "source": [
    "### Análisis preliminar"
   ]
  },
  {
   "cell_type": "markdown",
   "id": "5c7a6584",
   "metadata": {},
   "source": [
    "Analizando la información, llegamos a la conclusión de:\n",
    "- Unnamed no aporta información útil, por ello podríamos eliminar la columna\n",
    "- cons.price.idx, cons.conf.idx, euribor3m, nr.employed -> hay que cambiarlas a columnas numéricas\n",
    "- age, default, housing, loan, y -> cambiar a enteros Int64 (enteros con NA)\n",
    "- date -> cambiar a datetime\n",
    "- crear min_duration"
   ]
  },
  {
   "cell_type": "markdown",
   "id": "d2f41f31",
   "metadata": {},
   "source": [
    "Podemos observar que hay varias columnas con valores nulos, también varias columnas numéricas mal tipadas con object"
   ]
  },
  {
   "cell_type": "markdown",
   "id": "adf4d2bc",
   "metadata": {},
   "source": [
    "Podemos observar que hay varias columnas con valores nulos, también varias columnas numéricas mal tipadas con object."
   ]
  },
  {
   "cell_type": "code",
   "execution_count": null,
   "id": "c3109d93",
   "metadata": {},
   "outputs": [
    {
     "ename": "KeyError",
     "evalue": "\"['Unnamed: 0'] not found in axis\"",
     "output_type": "error",
     "traceback": [
      "\u001b[0;31m---------------------------------------------------------------------------\u001b[0m",
      "\u001b[0;31mKeyError\u001b[0m                                  Traceback (most recent call last)",
      "Cell \u001b[0;32mIn[29], line 2\u001b[0m\n\u001b[1;32m      1\u001b[0m \u001b[38;5;66;03m# Vamos a eliminar la columna unnamed que no nos aporta información\u001b[39;00m\n\u001b[0;32m----> 2\u001b[0m df_bank \u001b[38;5;241m=\u001b[39m \u001b[43mdf_bank\u001b[49m\u001b[38;5;241;43m.\u001b[39;49m\u001b[43mdrop\u001b[49m\u001b[43m(\u001b[49m\u001b[43mcolumns\u001b[49m\u001b[43m \u001b[49m\u001b[38;5;241;43m=\u001b[39;49m\u001b[43m \u001b[49m\u001b[43m[\u001b[49m\u001b[38;5;124;43m\"\u001b[39;49m\u001b[38;5;124;43mUnnamed: 0\u001b[39;49m\u001b[38;5;124;43m\"\u001b[39;49m\u001b[43m]\u001b[49m\u001b[43m)\u001b[49m\n",
      "File \u001b[0;32m/Library/Frameworks/Python.framework/Versions/3.13/lib/python3.13/site-packages/pandas/core/frame.py:5581\u001b[0m, in \u001b[0;36mDataFrame.drop\u001b[0;34m(self, labels, axis, index, columns, level, inplace, errors)\u001b[0m\n\u001b[1;32m   5433\u001b[0m \u001b[38;5;28;01mdef\u001b[39;00m \u001b[38;5;21mdrop\u001b[39m(\n\u001b[1;32m   5434\u001b[0m     \u001b[38;5;28mself\u001b[39m,\n\u001b[1;32m   5435\u001b[0m     labels: IndexLabel \u001b[38;5;241m|\u001b[39m \u001b[38;5;28;01mNone\u001b[39;00m \u001b[38;5;241m=\u001b[39m \u001b[38;5;28;01mNone\u001b[39;00m,\n\u001b[0;32m   (...)\u001b[0m\n\u001b[1;32m   5442\u001b[0m     errors: IgnoreRaise \u001b[38;5;241m=\u001b[39m \u001b[38;5;124m\"\u001b[39m\u001b[38;5;124mraise\u001b[39m\u001b[38;5;124m\"\u001b[39m,\n\u001b[1;32m   5443\u001b[0m ) \u001b[38;5;241m-\u001b[39m\u001b[38;5;241m>\u001b[39m DataFrame \u001b[38;5;241m|\u001b[39m \u001b[38;5;28;01mNone\u001b[39;00m:\n\u001b[1;32m   5444\u001b[0m \u001b[38;5;250m    \u001b[39m\u001b[38;5;124;03m\"\"\"\u001b[39;00m\n\u001b[1;32m   5445\u001b[0m \u001b[38;5;124;03m    Drop specified labels from rows or columns.\u001b[39;00m\n\u001b[1;32m   5446\u001b[0m \n\u001b[0;32m   (...)\u001b[0m\n\u001b[1;32m   5579\u001b[0m \u001b[38;5;124;03m            weight  1.0     0.8\u001b[39;00m\n\u001b[1;32m   5580\u001b[0m \u001b[38;5;124;03m    \"\"\"\u001b[39;00m\n\u001b[0;32m-> 5581\u001b[0m     \u001b[38;5;28;01mreturn\u001b[39;00m \u001b[38;5;28;43msuper\u001b[39;49m\u001b[43m(\u001b[49m\u001b[43m)\u001b[49m\u001b[38;5;241;43m.\u001b[39;49m\u001b[43mdrop\u001b[49m\u001b[43m(\u001b[49m\n\u001b[1;32m   5582\u001b[0m \u001b[43m        \u001b[49m\u001b[43mlabels\u001b[49m\u001b[38;5;241;43m=\u001b[39;49m\u001b[43mlabels\u001b[49m\u001b[43m,\u001b[49m\n\u001b[1;32m   5583\u001b[0m \u001b[43m        \u001b[49m\u001b[43maxis\u001b[49m\u001b[38;5;241;43m=\u001b[39;49m\u001b[43maxis\u001b[49m\u001b[43m,\u001b[49m\n\u001b[1;32m   5584\u001b[0m \u001b[43m        \u001b[49m\u001b[43mindex\u001b[49m\u001b[38;5;241;43m=\u001b[39;49m\u001b[43mindex\u001b[49m\u001b[43m,\u001b[49m\n\u001b[1;32m   5585\u001b[0m \u001b[43m        \u001b[49m\u001b[43mcolumns\u001b[49m\u001b[38;5;241;43m=\u001b[39;49m\u001b[43mcolumns\u001b[49m\u001b[43m,\u001b[49m\n\u001b[1;32m   5586\u001b[0m \u001b[43m        \u001b[49m\u001b[43mlevel\u001b[49m\u001b[38;5;241;43m=\u001b[39;49m\u001b[43mlevel\u001b[49m\u001b[43m,\u001b[49m\n\u001b[1;32m   5587\u001b[0m \u001b[43m        \u001b[49m\u001b[43minplace\u001b[49m\u001b[38;5;241;43m=\u001b[39;49m\u001b[43minplace\u001b[49m\u001b[43m,\u001b[49m\n\u001b[1;32m   5588\u001b[0m \u001b[43m        \u001b[49m\u001b[43merrors\u001b[49m\u001b[38;5;241;43m=\u001b[39;49m\u001b[43merrors\u001b[49m\u001b[43m,\u001b[49m\n\u001b[1;32m   5589\u001b[0m \u001b[43m    \u001b[49m\u001b[43m)\u001b[49m\n",
      "File \u001b[0;32m/Library/Frameworks/Python.framework/Versions/3.13/lib/python3.13/site-packages/pandas/core/generic.py:4788\u001b[0m, in \u001b[0;36mNDFrame.drop\u001b[0;34m(self, labels, axis, index, columns, level, inplace, errors)\u001b[0m\n\u001b[1;32m   4786\u001b[0m \u001b[38;5;28;01mfor\u001b[39;00m axis, labels \u001b[38;5;129;01min\u001b[39;00m axes\u001b[38;5;241m.\u001b[39mitems():\n\u001b[1;32m   4787\u001b[0m     \u001b[38;5;28;01mif\u001b[39;00m labels \u001b[38;5;129;01mis\u001b[39;00m \u001b[38;5;129;01mnot\u001b[39;00m \u001b[38;5;28;01mNone\u001b[39;00m:\n\u001b[0;32m-> 4788\u001b[0m         obj \u001b[38;5;241m=\u001b[39m \u001b[43mobj\u001b[49m\u001b[38;5;241;43m.\u001b[39;49m\u001b[43m_drop_axis\u001b[49m\u001b[43m(\u001b[49m\u001b[43mlabels\u001b[49m\u001b[43m,\u001b[49m\u001b[43m \u001b[49m\u001b[43maxis\u001b[49m\u001b[43m,\u001b[49m\u001b[43m \u001b[49m\u001b[43mlevel\u001b[49m\u001b[38;5;241;43m=\u001b[39;49m\u001b[43mlevel\u001b[49m\u001b[43m,\u001b[49m\u001b[43m \u001b[49m\u001b[43merrors\u001b[49m\u001b[38;5;241;43m=\u001b[39;49m\u001b[43merrors\u001b[49m\u001b[43m)\u001b[49m\n\u001b[1;32m   4790\u001b[0m \u001b[38;5;28;01mif\u001b[39;00m inplace:\n\u001b[1;32m   4791\u001b[0m     \u001b[38;5;28mself\u001b[39m\u001b[38;5;241m.\u001b[39m_update_inplace(obj)\n",
      "File \u001b[0;32m/Library/Frameworks/Python.framework/Versions/3.13/lib/python3.13/site-packages/pandas/core/generic.py:4830\u001b[0m, in \u001b[0;36mNDFrame._drop_axis\u001b[0;34m(self, labels, axis, level, errors, only_slice)\u001b[0m\n\u001b[1;32m   4828\u001b[0m         new_axis \u001b[38;5;241m=\u001b[39m axis\u001b[38;5;241m.\u001b[39mdrop(labels, level\u001b[38;5;241m=\u001b[39mlevel, errors\u001b[38;5;241m=\u001b[39merrors)\n\u001b[1;32m   4829\u001b[0m     \u001b[38;5;28;01melse\u001b[39;00m:\n\u001b[0;32m-> 4830\u001b[0m         new_axis \u001b[38;5;241m=\u001b[39m \u001b[43maxis\u001b[49m\u001b[38;5;241;43m.\u001b[39;49m\u001b[43mdrop\u001b[49m\u001b[43m(\u001b[49m\u001b[43mlabels\u001b[49m\u001b[43m,\u001b[49m\u001b[43m \u001b[49m\u001b[43merrors\u001b[49m\u001b[38;5;241;43m=\u001b[39;49m\u001b[43merrors\u001b[49m\u001b[43m)\u001b[49m\n\u001b[1;32m   4831\u001b[0m     indexer \u001b[38;5;241m=\u001b[39m axis\u001b[38;5;241m.\u001b[39mget_indexer(new_axis)\n\u001b[1;32m   4833\u001b[0m \u001b[38;5;66;03m# Case for non-unique axis\u001b[39;00m\n\u001b[1;32m   4834\u001b[0m \u001b[38;5;28;01melse\u001b[39;00m:\n",
      "File \u001b[0;32m/Library/Frameworks/Python.framework/Versions/3.13/lib/python3.13/site-packages/pandas/core/indexes/base.py:7070\u001b[0m, in \u001b[0;36mIndex.drop\u001b[0;34m(self, labels, errors)\u001b[0m\n\u001b[1;32m   7068\u001b[0m \u001b[38;5;28;01mif\u001b[39;00m mask\u001b[38;5;241m.\u001b[39many():\n\u001b[1;32m   7069\u001b[0m     \u001b[38;5;28;01mif\u001b[39;00m errors \u001b[38;5;241m!=\u001b[39m \u001b[38;5;124m\"\u001b[39m\u001b[38;5;124mignore\u001b[39m\u001b[38;5;124m\"\u001b[39m:\n\u001b[0;32m-> 7070\u001b[0m         \u001b[38;5;28;01mraise\u001b[39;00m \u001b[38;5;167;01mKeyError\u001b[39;00m(\u001b[38;5;124mf\u001b[39m\u001b[38;5;124m\"\u001b[39m\u001b[38;5;132;01m{\u001b[39;00mlabels[mask]\u001b[38;5;241m.\u001b[39mtolist()\u001b[38;5;132;01m}\u001b[39;00m\u001b[38;5;124m not found in axis\u001b[39m\u001b[38;5;124m\"\u001b[39m)\n\u001b[1;32m   7071\u001b[0m     indexer \u001b[38;5;241m=\u001b[39m indexer[\u001b[38;5;241m~\u001b[39mmask]\n\u001b[1;32m   7072\u001b[0m \u001b[38;5;28;01mreturn\u001b[39;00m \u001b[38;5;28mself\u001b[39m\u001b[38;5;241m.\u001b[39mdelete(indexer)\n",
      "\u001b[0;31mKeyError\u001b[0m: \"['Unnamed: 0'] not found in axis\""
     ]
    }
   ],
   "source": [
    "# Vamos a eliminar la columna unnamed que no nos aporta información\n",
    "df_bank = df_bank.drop(columns = [\"Unnamed: 0\"])\n"
   ]
  },
  {
   "cell_type": "code",
   "execution_count": null,
   "id": "0ee3a654",
   "metadata": {},
   "outputs": [
    {
     "name": "stderr",
     "output_type": "stream",
     "text": [
      "/var/folders/ff/kw20mg9x5ylfh2vjn3h8xmjc0000gn/T/ipykernel_28163/3774187622.py:5: SettingWithCopyWarning: \n",
      "A value is trying to be set on a copy of a slice from a DataFrame.\n",
      "Try using .loc[row_indexer,col_indexer] = value instead\n",
      "\n",
      "See the caveats in the documentation: https://pandas.pydata.org/pandas-docs/stable/user_guide/indexing.html#returning-a-view-versus-a-copy\n",
      "  df_bank[col] = (\n",
      "/var/folders/ff/kw20mg9x5ylfh2vjn3h8xmjc0000gn/T/ipykernel_28163/3774187622.py:5: SettingWithCopyWarning: \n",
      "A value is trying to be set on a copy of a slice from a DataFrame.\n",
      "Try using .loc[row_indexer,col_indexer] = value instead\n",
      "\n",
      "See the caveats in the documentation: https://pandas.pydata.org/pandas-docs/stable/user_guide/indexing.html#returning-a-view-versus-a-copy\n",
      "  df_bank[col] = (\n",
      "/var/folders/ff/kw20mg9x5ylfh2vjn3h8xmjc0000gn/T/ipykernel_28163/3774187622.py:5: SettingWithCopyWarning: \n",
      "A value is trying to be set on a copy of a slice from a DataFrame.\n",
      "Try using .loc[row_indexer,col_indexer] = value instead\n",
      "\n",
      "See the caveats in the documentation: https://pandas.pydata.org/pandas-docs/stable/user_guide/indexing.html#returning-a-view-versus-a-copy\n",
      "  df_bank[col] = (\n",
      "/var/folders/ff/kw20mg9x5ylfh2vjn3h8xmjc0000gn/T/ipykernel_28163/3774187622.py:5: SettingWithCopyWarning: \n",
      "A value is trying to be set on a copy of a slice from a DataFrame.\n",
      "Try using .loc[row_indexer,col_indexer] = value instead\n",
      "\n",
      "See the caveats in the documentation: https://pandas.pydata.org/pandas-docs/stable/user_guide/indexing.html#returning-a-view-versus-a-copy\n",
      "  df_bank[col] = (\n"
     ]
    }
   ],
   "source": [
    "# Modificamos object por columna numérica en aquellas columnas que lo requieren. Para ello también hay que \n",
    "# modificar la coma a punto, para que Python lo lea como numérica\n",
    "colum_coma = ['cons.price.idx','cons.conf.idx','euribor3m','nr.employed']\n",
    "for col in colum_coma:\n",
    "    df_bank[col] = (\n",
    "        df_bank[col].astype(str)\n",
    "        .str.replace('.', '', regex=False)   # quitamos separador de miles\n",
    "        .str.replace(',', '.', regex=False)  # coma -> punto decimal\n",
    "        .astype(float))\n"
   ]
  },
  {
   "cell_type": "code",
   "execution_count": null,
   "id": "6b628846",
   "metadata": {},
   "outputs": [
    {
     "data": {
      "text/html": [
       "<div>\n",
       "<style scoped>\n",
       "    .dataframe tbody tr th:only-of-type {\n",
       "        vertical-align: middle;\n",
       "    }\n",
       "\n",
       "    .dataframe tbody tr th {\n",
       "        vertical-align: top;\n",
       "    }\n",
       "\n",
       "    .dataframe thead th {\n",
       "        text-align: right;\n",
       "    }\n",
       "</style>\n",
       "<table border=\"1\" class=\"dataframe\">\n",
       "  <thead>\n",
       "    <tr style=\"text-align: right;\">\n",
       "      <th></th>\n",
       "      <th>age</th>\n",
       "      <th>job</th>\n",
       "      <th>marital</th>\n",
       "      <th>education</th>\n",
       "      <th>default</th>\n",
       "      <th>housing</th>\n",
       "      <th>loan</th>\n",
       "      <th>contact</th>\n",
       "      <th>duration</th>\n",
       "      <th>campaign</th>\n",
       "      <th>pdays</th>\n",
       "      <th>previous</th>\n",
       "      <th>poutcome</th>\n",
       "      <th>emp.var.rate</th>\n",
       "      <th>cons.price.idx</th>\n",
       "      <th>cons.conf.idx</th>\n",
       "      <th>euribor3m</th>\n",
       "      <th>nr.employed</th>\n",
       "      <th>y</th>\n",
       "      <th>date</th>\n",
       "      <th>latitude</th>\n",
       "      <th>longitude</th>\n",
       "      <th>id_</th>\n",
       "      <th>day</th>\n",
       "      <th>monthwrite</th>\n",
       "      <th>year</th>\n",
       "      <th>month</th>\n",
       "    </tr>\n",
       "  </thead>\n",
       "  <tbody>\n",
       "    <tr>\n",
       "      <th>42996</th>\n",
       "      <td>34.0</td>\n",
       "      <td>technician</td>\n",
       "      <td>MARRIED</td>\n",
       "      <td>professional.course</td>\n",
       "      <td>0.0</td>\n",
       "      <td>1.0</td>\n",
       "      <td>1.0</td>\n",
       "      <td>cellular</td>\n",
       "      <td>42</td>\n",
       "      <td>7</td>\n",
       "      <td>999</td>\n",
       "      <td>0</td>\n",
       "      <td>NONEXISTENT</td>\n",
       "      <td>-0.1</td>\n",
       "      <td>932.0</td>\n",
       "      <td>-420.0</td>\n",
       "      <td>4857.0</td>\n",
       "      <td>51958.0</td>\n",
       "      <td>no</td>\n",
       "      <td>2018-03-17</td>\n",
       "      <td>49.235</td>\n",
       "      <td>-112.201</td>\n",
       "      <td>0f0aca88-4088-4fe2-905f-44fb675d9493</td>\n",
       "      <td>17</td>\n",
       "      <td>marzo</td>\n",
       "      <td>2018</td>\n",
       "      <td>03</td>\n",
       "    </tr>\n",
       "    <tr>\n",
       "      <th>42997</th>\n",
       "      <td>38.0</td>\n",
       "      <td>blue-collar</td>\n",
       "      <td>SINGLE</td>\n",
       "      <td>basic.6y</td>\n",
       "      <td>0.0</td>\n",
       "      <td>1.0</td>\n",
       "      <td>0.0</td>\n",
       "      <td>cellular</td>\n",
       "      <td>391</td>\n",
       "      <td>2</td>\n",
       "      <td>999</td>\n",
       "      <td>0</td>\n",
       "      <td>NONEXISTENT</td>\n",
       "      <td>1.4</td>\n",
       "      <td>93918.0</td>\n",
       "      <td>-427.0</td>\n",
       "      <td>4857.0</td>\n",
       "      <td>52281.0</td>\n",
       "      <td>no</td>\n",
       "      <td>2016-09-15</td>\n",
       "      <td>40.679</td>\n",
       "      <td>-120.015</td>\n",
       "      <td>cadadd4b-7ee5-4019-b13a-ca01bb67ca5b</td>\n",
       "      <td>15</td>\n",
       "      <td>septiembre</td>\n",
       "      <td>2016</td>\n",
       "      <td>09</td>\n",
       "    </tr>\n",
       "    <tr>\n",
       "      <th>42998</th>\n",
       "      <td>38.0</td>\n",
       "      <td>admin.</td>\n",
       "      <td>MARRIED</td>\n",
       "      <td>university.degree</td>\n",
       "      <td>unknown</td>\n",
       "      <td>0.0</td>\n",
       "      <td>0.0</td>\n",
       "      <td>cellular</td>\n",
       "      <td>674</td>\n",
       "      <td>3</td>\n",
       "      <td>999</td>\n",
       "      <td>0</td>\n",
       "      <td>NONEXISTENT</td>\n",
       "      <td>1.4</td>\n",
       "      <td>93918.0</td>\n",
       "      <td>-427.0</td>\n",
       "      <td>4958.0</td>\n",
       "      <td>52281.0</td>\n",
       "      <td>no</td>\n",
       "      <td>2019-09-23</td>\n",
       "      <td>27.772</td>\n",
       "      <td>-117.518</td>\n",
       "      <td>5f432048-d515-4bb5-9c94-62db451f88d4</td>\n",
       "      <td>23</td>\n",
       "      <td>septiembre</td>\n",
       "      <td>2019</td>\n",
       "      <td>09</td>\n",
       "    </tr>\n",
       "    <tr>\n",
       "      <th>42999</th>\n",
       "      <td>38.0</td>\n",
       "      <td>unemployed</td>\n",
       "      <td>SINGLE</td>\n",
       "      <td>university.degree</td>\n",
       "      <td>0.0</td>\n",
       "      <td>0.0</td>\n",
       "      <td>1.0</td>\n",
       "      <td>cellular</td>\n",
       "      <td>104</td>\n",
       "      <td>2</td>\n",
       "      <td>999</td>\n",
       "      <td>0</td>\n",
       "      <td>NONEXISTENT</td>\n",
       "      <td>-0.1</td>\n",
       "      <td>932.0</td>\n",
       "      <td>-420.0</td>\n",
       "      <td>4021.0</td>\n",
       "      <td>51958.0</td>\n",
       "      <td>no</td>\n",
       "      <td>2019-11-06</td>\n",
       "      <td>41.146</td>\n",
       "      <td>-105.026</td>\n",
       "      <td>993bbbd6-4dbc-4a40-a408-f91f8462bee6</td>\n",
       "      <td>6</td>\n",
       "      <td>noviembre</td>\n",
       "      <td>2019</td>\n",
       "      <td>11</td>\n",
       "    </tr>\n",
       "  </tbody>\n",
       "</table>\n",
       "</div>"
      ],
      "text/plain": [
       "        age          job  marital            education  default housing loan  \\\n",
       "42996  34.0   technician  MARRIED  professional.course      0.0     1.0  1.0   \n",
       "42997  38.0  blue-collar   SINGLE             basic.6y      0.0     1.0  0.0   \n",
       "42998  38.0       admin.  MARRIED    university.degree  unknown     0.0  0.0   \n",
       "42999  38.0   unemployed   SINGLE    university.degree      0.0     0.0  1.0   \n",
       "\n",
       "        contact  duration  campaign  pdays  previous     poutcome  \\\n",
       "42996  cellular        42         7    999         0  NONEXISTENT   \n",
       "42997  cellular       391         2    999         0  NONEXISTENT   \n",
       "42998  cellular       674         3    999         0  NONEXISTENT   \n",
       "42999  cellular       104         2    999         0  NONEXISTENT   \n",
       "\n",
       "       emp.var.rate  cons.price.idx  cons.conf.idx  euribor3m  nr.employed  \\\n",
       "42996          -0.1           932.0         -420.0     4857.0      51958.0   \n",
       "42997           1.4         93918.0         -427.0     4857.0      52281.0   \n",
       "42998           1.4         93918.0         -427.0     4958.0      52281.0   \n",
       "42999          -0.1           932.0         -420.0     4021.0      51958.0   \n",
       "\n",
       "        y       date  latitude  longitude  \\\n",
       "42996  no 2018-03-17    49.235   -112.201   \n",
       "42997  no 2016-09-15    40.679   -120.015   \n",
       "42998  no 2019-09-23    27.772   -117.518   \n",
       "42999  no 2019-11-06    41.146   -105.026   \n",
       "\n",
       "                                        id_ day  monthwrite  year month  \n",
       "42996  0f0aca88-4088-4fe2-905f-44fb675d9493  17       marzo  2018    03  \n",
       "42997  cadadd4b-7ee5-4019-b13a-ca01bb67ca5b  15  septiembre  2016    09  \n",
       "42998  5f432048-d515-4bb5-9c94-62db451f88d4  23  septiembre  2019    09  \n",
       "42999  993bbbd6-4dbc-4a40-a408-f91f8462bee6   6   noviembre  2019    11  "
      ]
     },
     "execution_count": 31,
     "metadata": {},
     "output_type": "execute_result"
    }
   ],
   "source": [
    "df_bank.tail(4)\n"
   ]
  },
  {
   "cell_type": "code",
   "execution_count": null,
   "id": "8449e2eb",
   "metadata": {},
   "outputs": [
    {
     "data": {
      "text/plain": [
       "(42752, 23)"
      ]
     },
     "execution_count": 21,
     "metadata": {},
     "output_type": "execute_result"
    }
   ],
   "source": [
    "# Observamos cuantas filas y columnas tiene nuestra tabla\n",
    "df_bank.shape"
   ]
  },
  {
   "cell_type": "code",
   "execution_count": null,
   "id": "3e96877f",
   "metadata": {},
   "outputs": [
    {
     "data": {
      "text/html": [
       "<div>\n",
       "<style scoped>\n",
       "    .dataframe tbody tr th:only-of-type {\n",
       "        vertical-align: middle;\n",
       "    }\n",
       "\n",
       "    .dataframe tbody tr th {\n",
       "        vertical-align: top;\n",
       "    }\n",
       "\n",
       "    .dataframe thead th {\n",
       "        text-align: right;\n",
       "    }\n",
       "</style>\n",
       "<table border=\"1\" class=\"dataframe\">\n",
       "  <thead>\n",
       "    <tr style=\"text-align: right;\">\n",
       "      <th></th>\n",
       "      <th>age</th>\n",
       "      <th>duration</th>\n",
       "      <th>campaign</th>\n",
       "      <th>pdays</th>\n",
       "      <th>previous</th>\n",
       "      <th>emp.var.rate</th>\n",
       "      <th>cons.price.idx</th>\n",
       "      <th>cons.conf.idx</th>\n",
       "      <th>euribor3m</th>\n",
       "      <th>nr.employed</th>\n",
       "      <th>latitude</th>\n",
       "      <th>longitude</th>\n",
       "    </tr>\n",
       "  </thead>\n",
       "  <tbody>\n",
       "    <tr>\n",
       "      <th>count</th>\n",
       "      <td>42752.000000</td>\n",
       "      <td>42752.000000</td>\n",
       "      <td>42752.000000</td>\n",
       "      <td>42752.000000</td>\n",
       "      <td>42752.000000</td>\n",
       "      <td>42752.000000</td>\n",
       "      <td>42752.000000</td>\n",
       "      <td>42752.000000</td>\n",
       "      <td>42752.000000</td>\n",
       "      <td>42752.000000</td>\n",
       "      <td>42752.000000</td>\n",
       "      <td>42752.000000</td>\n",
       "    </tr>\n",
       "    <tr>\n",
       "      <th>mean</th>\n",
       "      <td>39.745018</td>\n",
       "      <td>257.766186</td>\n",
       "      <td>2.566383</td>\n",
       "      <td>962.373877</td>\n",
       "      <td>0.174237</td>\n",
       "      <td>0.077330</td>\n",
       "      <td>93.576226</td>\n",
       "      <td>-40.510100</td>\n",
       "      <td>3.883822</td>\n",
       "      <td>5166.866537</td>\n",
       "      <td>36.857781</td>\n",
       "      <td>-95.939502</td>\n",
       "    </tr>\n",
       "    <tr>\n",
       "      <th>std</th>\n",
       "      <td>9.822489</td>\n",
       "      <td>258.778698</td>\n",
       "      <td>2.770606</td>\n",
       "      <td>187.154560</td>\n",
       "      <td>0.497828</td>\n",
       "      <td>1.573703</td>\n",
       "      <td>0.576815</td>\n",
       "      <td>4.637412</td>\n",
       "      <td>1.620777</td>\n",
       "      <td>72.392792</td>\n",
       "      <td>7.225806</td>\n",
       "      <td>16.747650</td>\n",
       "    </tr>\n",
       "    <tr>\n",
       "      <th>min</th>\n",
       "      <td>17.000000</td>\n",
       "      <td>0.000000</td>\n",
       "      <td>1.000000</td>\n",
       "      <td>0.000000</td>\n",
       "      <td>0.000000</td>\n",
       "      <td>-3.400000</td>\n",
       "      <td>92.201000</td>\n",
       "      <td>-50.800000</td>\n",
       "      <td>0.634000</td>\n",
       "      <td>4963.600000</td>\n",
       "      <td>24.396000</td>\n",
       "      <td>-124.997000</td>\n",
       "    </tr>\n",
       "    <tr>\n",
       "      <th>25%</th>\n",
       "      <td>33.000000</td>\n",
       "      <td>102.000000</td>\n",
       "      <td>1.000000</td>\n",
       "      <td>999.000000</td>\n",
       "      <td>0.000000</td>\n",
       "      <td>-1.800000</td>\n",
       "      <td>93.075000</td>\n",
       "      <td>-42.700000</td>\n",
       "      <td>1.479000</td>\n",
       "      <td>5099.100000</td>\n",
       "      <td>30.616000</td>\n",
       "      <td>-110.490000</td>\n",
       "    </tr>\n",
       "    <tr>\n",
       "      <th>50%</th>\n",
       "      <td>38.000000</td>\n",
       "      <td>179.000000</td>\n",
       "      <td>2.000000</td>\n",
       "      <td>999.000000</td>\n",
       "      <td>0.000000</td>\n",
       "      <td>1.100000</td>\n",
       "      <td>93.749000</td>\n",
       "      <td>-41.800000</td>\n",
       "      <td>4.857000</td>\n",
       "      <td>5191.000000</td>\n",
       "      <td>36.763000</td>\n",
       "      <td>-95.902000</td>\n",
       "    </tr>\n",
       "    <tr>\n",
       "      <th>75%</th>\n",
       "      <td>46.000000</td>\n",
       "      <td>319.000000</td>\n",
       "      <td>3.000000</td>\n",
       "      <td>999.000000</td>\n",
       "      <td>0.000000</td>\n",
       "      <td>1.400000</td>\n",
       "      <td>93.994000</td>\n",
       "      <td>-36.400000</td>\n",
       "      <td>4.959000</td>\n",
       "      <td>5228.100000</td>\n",
       "      <td>43.113000</td>\n",
       "      <td>-81.437000</td>\n",
       "    </tr>\n",
       "    <tr>\n",
       "      <th>max</th>\n",
       "      <td>98.000000</td>\n",
       "      <td>4918.000000</td>\n",
       "      <td>56.000000</td>\n",
       "      <td>999.000000</td>\n",
       "      <td>7.000000</td>\n",
       "      <td>1.400000</td>\n",
       "      <td>94.767000</td>\n",
       "      <td>-26.900000</td>\n",
       "      <td>5.045000</td>\n",
       "      <td>5228.100000</td>\n",
       "      <td>49.384000</td>\n",
       "      <td>-66.937000</td>\n",
       "    </tr>\n",
       "  </tbody>\n",
       "</table>\n",
       "</div>"
      ],
      "text/plain": [
       "                age      duration      campaign         pdays      previous  \\\n",
       "count  42752.000000  42752.000000  42752.000000  42752.000000  42752.000000   \n",
       "mean      39.745018    257.766186      2.566383    962.373877      0.174237   \n",
       "std        9.822489    258.778698      2.770606    187.154560      0.497828   \n",
       "min       17.000000      0.000000      1.000000      0.000000      0.000000   \n",
       "25%       33.000000    102.000000      1.000000    999.000000      0.000000   \n",
       "50%       38.000000    179.000000      2.000000    999.000000      0.000000   \n",
       "75%       46.000000    319.000000      3.000000    999.000000      0.000000   \n",
       "max       98.000000   4918.000000     56.000000    999.000000      7.000000   \n",
       "\n",
       "       emp.var.rate  cons.price.idx  cons.conf.idx     euribor3m  \\\n",
       "count  42752.000000    42752.000000   42752.000000  42752.000000   \n",
       "mean       0.077330       93.576226     -40.510100      3.883822   \n",
       "std        1.573703        0.576815       4.637412      1.620777   \n",
       "min       -3.400000       92.201000     -50.800000      0.634000   \n",
       "25%       -1.800000       93.075000     -42.700000      1.479000   \n",
       "50%        1.100000       93.749000     -41.800000      4.857000   \n",
       "75%        1.400000       93.994000     -36.400000      4.959000   \n",
       "max        1.400000       94.767000     -26.900000      5.045000   \n",
       "\n",
       "        nr.employed      latitude     longitude  \n",
       "count  42752.000000  42752.000000  42752.000000  \n",
       "mean    5166.866537     36.857781    -95.939502  \n",
       "std       72.392792      7.225806     16.747650  \n",
       "min     4963.600000     24.396000   -124.997000  \n",
       "25%     5099.100000     30.616000   -110.490000  \n",
       "50%     5191.000000     36.763000    -95.902000  \n",
       "75%     5228.100000     43.113000    -81.437000  \n",
       "max     5228.100000     49.384000    -66.937000  "
      ]
     },
     "execution_count": 22,
     "metadata": {},
     "output_type": "execute_result"
    }
   ],
   "source": [
    "# Visualizamos las estádisticas básicas\n",
    "df_bank.describe()"
   ]
  },
  {
   "cell_type": "code",
   "execution_count": null,
   "id": "6bdccfde",
   "metadata": {},
   "outputs": [
    {
     "data": {
      "text/plain": [
       "np.int64(0)"
      ]
     },
     "execution_count": 23,
     "metadata": {},
     "output_type": "execute_result"
    }
   ],
   "source": [
    "# Revisamos los duplicados \n",
    "df_bank.duplicated().sum()"
   ]
  },
  {
   "cell_type": "code",
   "execution_count": null,
   "id": "f9d41108",
   "metadata": {},
   "outputs": [
    {
     "data": {
      "text/plain": [
       "Series([], dtype: float64)"
      ]
     },
     "execution_count": 24,
     "metadata": {},
     "output_type": "execute_result"
    }
   ],
   "source": [
    "nulos_porcentaje = df_bank.isna().mean() * 100\n",
    "nulos_porcentaje[nulos_porcentaje > 0].sort_values(ascending=False)"
   ]
  },
  {
   "cell_type": "code",
   "execution_count": 33,
   "id": "c8166c64",
   "metadata": {},
   "outputs": [
    {
     "data": {
      "text/plain": [
       "date\n",
       "2015    8544\n",
       "2016    8533\n",
       "2017    8562\n",
       "2018    8549\n",
       "2019    8564\n",
       "Name: count, dtype: int64"
      ]
     },
     "execution_count": 33,
     "metadata": {},
     "output_type": "execute_result"
    }
   ],
   "source": [
    "# Estudiamos cuantos registros distintos hay por año\n",
    "df_bank['date'].dt.year.value_counts().sort_index()\n"
   ]
  },
  {
   "cell_type": "markdown",
   "id": "c7a81e88",
   "metadata": {},
   "source": [
    "La variable date cubre campañas desde 2015 hasta 2019, con un volumen de datos muy similar cada año (aprox. 8500 registros por año). Esto asegura que el dataset tiene una buena cobertura temporal y no está desbalanceado hacia un solo año.\n",
    "\n",
    "A continuación vamos a hacer lo mismo pero con los meses."
   ]
  },
  {
   "cell_type": "code",
   "execution_count": 34,
   "id": "c6b80a5a",
   "metadata": {},
   "outputs": [
    {
     "data": {
      "text/plain": [
       "array([ 8,  9,  2, 11,  1,  4,  6,  3, 10,  7, 12,  5], dtype=int32)"
      ]
     },
     "execution_count": 34,
     "metadata": {},
     "output_type": "execute_result"
    }
   ],
   "source": [
    "df_bank['date'].dt.month.unique()"
   ]
  },
  {
   "cell_type": "code",
   "execution_count": 35,
   "id": "1de2ab69",
   "metadata": {},
   "outputs": [
    {
     "data": {
      "text/plain": [
       "age               0\n",
       "job               0\n",
       "marital           0\n",
       "education         0\n",
       "default           0\n",
       "housing           0\n",
       "loan              0\n",
       "contact           0\n",
       "duration          0\n",
       "campaign          0\n",
       "pdays             0\n",
       "previous          0\n",
       "poutcome          0\n",
       "emp.var.rate      0\n",
       "cons.price.idx    0\n",
       "cons.conf.idx     0\n",
       "euribor3m         0\n",
       "nr.employed       0\n",
       "y                 0\n",
       "date              0\n",
       "latitude          0\n",
       "longitude         0\n",
       "id_               0\n",
       "day               0\n",
       "monthwrite        0\n",
       "year              0\n",
       "month             0\n",
       "dtype: int64"
      ]
     },
     "execution_count": 35,
     "metadata": {},
     "output_type": "execute_result"
    }
   ],
   "source": [
    "# Revisamos los nulos que hay en cada columna\n",
    "df_bank.isna().sum()"
   ]
  },
  {
   "cell_type": "markdown",
   "id": "2f36bed7",
   "metadata": {},
   "source": [
    "Los porcentajes son relevantes, sobre todo en euribor3m y default. \n",
    "Haciendo un análisis para tratar los nulos, se ha realizado el siguiente análsis para tratar los datos:\n",
    "\n",
    "- age: Tenía un ~12% de valores nulos. Se imputaron usando la mediana, ya que es una variable continua y la mediana es robusta frente a outliers (edades muy extremas).\n",
    "- euribor3m: Presentaba un ~21% de nulos. Se decidió imputar con la mediana para mantener la distribución general de la variable. No se eliminó la columna porque aporta información económica relevante.\n",
    "cons.price.idx: Con un ~1% de nulos, se imputó también con la mediana, al ser un indicador económico continuo.\n",
    "- default: Presentaba un ~21% de nulos. Dado que la gran mayoría de valores son 0 y la variable aporta poca variabilidad, los nulos se imputaron con la categoría \"unknown\".\n",
    "- housing y loan: Ambas con un ~2.4% de nulos. Se imputaron con \"unknown\" para no eliminar filas que podrían aportar información importante.\n",
    "- education, job, marital: Los nulos eran pocos (<5%). Se imputaron con \"unknown\".\n",
    "- date: Con apenas un 0.5% de nulos, se decidió eliminar directamente esas filas para evitar problemas en los análisis temporales.\n"
   ]
  },
  {
   "cell_type": "code",
   "execution_count": 36,
   "id": "af59c885",
   "metadata": {},
   "outputs": [
    {
     "name": "stderr",
     "output_type": "stream",
     "text": [
      "/var/folders/ff/kw20mg9x5ylfh2vjn3h8xmjc0000gn/T/ipykernel_28163/1715459072.py:9: SettingWithCopyWarning: \n",
      "A value is trying to be set on a copy of a slice from a DataFrame.\n",
      "Try using .loc[row_indexer,col_indexer] = value instead\n",
      "\n",
      "See the caveats in the documentation: https://pandas.pydata.org/pandas-docs/stable/user_guide/indexing.html#returning-a-view-versus-a-copy\n",
      "  df_bank[colum] = df_bank[colum].fillna(mediana)\n",
      "/var/folders/ff/kw20mg9x5ylfh2vjn3h8xmjc0000gn/T/ipykernel_28163/1715459072.py:9: SettingWithCopyWarning: \n",
      "A value is trying to be set on a copy of a slice from a DataFrame.\n",
      "Try using .loc[row_indexer,col_indexer] = value instead\n",
      "\n",
      "See the caveats in the documentation: https://pandas.pydata.org/pandas-docs/stable/user_guide/indexing.html#returning-a-view-versus-a-copy\n",
      "  df_bank[colum] = df_bank[colum].fillna(mediana)\n",
      "/var/folders/ff/kw20mg9x5ylfh2vjn3h8xmjc0000gn/T/ipykernel_28163/1715459072.py:9: SettingWithCopyWarning: \n",
      "A value is trying to be set on a copy of a slice from a DataFrame.\n",
      "Try using .loc[row_indexer,col_indexer] = value instead\n",
      "\n",
      "See the caveats in the documentation: https://pandas.pydata.org/pandas-docs/stable/user_guide/indexing.html#returning-a-view-versus-a-copy\n",
      "  df_bank[colum] = df_bank[colum].fillna(mediana)\n",
      "/var/folders/ff/kw20mg9x5ylfh2vjn3h8xmjc0000gn/T/ipykernel_28163/1715459072.py:14: SettingWithCopyWarning: \n",
      "A value is trying to be set on a copy of a slice from a DataFrame.\n",
      "Try using .loc[row_indexer,col_indexer] = value instead\n",
      "\n",
      "See the caveats in the documentation: https://pandas.pydata.org/pandas-docs/stable/user_guide/indexing.html#returning-a-view-versus-a-copy\n",
      "  df_bank[colum] = df_bank[colum].fillna('unknown')\n"
     ]
    },
    {
     "data": {
      "text/html": [
       "<div>\n",
       "<style scoped>\n",
       "    .dataframe tbody tr th:only-of-type {\n",
       "        vertical-align: middle;\n",
       "    }\n",
       "\n",
       "    .dataframe tbody tr th {\n",
       "        vertical-align: top;\n",
       "    }\n",
       "\n",
       "    .dataframe thead th {\n",
       "        text-align: right;\n",
       "    }\n",
       "</style>\n",
       "<table border=\"1\" class=\"dataframe\">\n",
       "  <thead>\n",
       "    <tr style=\"text-align: right;\">\n",
       "      <th></th>\n",
       "      <th>age</th>\n",
       "      <th>job</th>\n",
       "      <th>marital</th>\n",
       "      <th>education</th>\n",
       "      <th>default</th>\n",
       "      <th>housing</th>\n",
       "      <th>loan</th>\n",
       "      <th>contact</th>\n",
       "      <th>duration</th>\n",
       "      <th>campaign</th>\n",
       "      <th>pdays</th>\n",
       "      <th>previous</th>\n",
       "      <th>poutcome</th>\n",
       "      <th>emp.var.rate</th>\n",
       "      <th>cons.price.idx</th>\n",
       "      <th>cons.conf.idx</th>\n",
       "      <th>euribor3m</th>\n",
       "      <th>nr.employed</th>\n",
       "      <th>y</th>\n",
       "      <th>date</th>\n",
       "      <th>latitude</th>\n",
       "      <th>longitude</th>\n",
       "      <th>id_</th>\n",
       "      <th>day</th>\n",
       "      <th>monthwrite</th>\n",
       "      <th>year</th>\n",
       "      <th>month</th>\n",
       "    </tr>\n",
       "  </thead>\n",
       "  <tbody>\n",
       "    <tr>\n",
       "      <th>20637</th>\n",
       "      <td>55.0</td>\n",
       "      <td>technician</td>\n",
       "      <td>MARRIED</td>\n",
       "      <td>university.degree</td>\n",
       "      <td>unknown</td>\n",
       "      <td>1.0</td>\n",
       "      <td>0.0</td>\n",
       "      <td>cellular</td>\n",
       "      <td>150</td>\n",
       "      <td>2</td>\n",
       "      <td>999</td>\n",
       "      <td>0</td>\n",
       "      <td>NONEXISTENT</td>\n",
       "      <td>1.4</td>\n",
       "      <td>93444.0</td>\n",
       "      <td>-361.0</td>\n",
       "      <td>4965.0</td>\n",
       "      <td>52281.0</td>\n",
       "      <td>no</td>\n",
       "      <td>2015-12-14</td>\n",
       "      <td>31.256</td>\n",
       "      <td>-108.186</td>\n",
       "      <td>40a32c05-b7be-486f-af55-afd4f8e909ce</td>\n",
       "      <td>14</td>\n",
       "      <td>diciembre</td>\n",
       "      <td>2015</td>\n",
       "      <td>12</td>\n",
       "    </tr>\n",
       "    <tr>\n",
       "      <th>11149</th>\n",
       "      <td>39.0</td>\n",
       "      <td>blue-collar</td>\n",
       "      <td>MARRIED</td>\n",
       "      <td>basic.6y</td>\n",
       "      <td>unknown</td>\n",
       "      <td>1.0</td>\n",
       "      <td>0.0</td>\n",
       "      <td>telephone</td>\n",
       "      <td>453</td>\n",
       "      <td>1</td>\n",
       "      <td>999</td>\n",
       "      <td>0</td>\n",
       "      <td>NONEXISTENT</td>\n",
       "      <td>1.4</td>\n",
       "      <td>94465.0</td>\n",
       "      <td>-418.0</td>\n",
       "      <td>4961.0</td>\n",
       "      <td>52281.0</td>\n",
       "      <td>no</td>\n",
       "      <td>2016-04-16</td>\n",
       "      <td>37.262</td>\n",
       "      <td>-81.258</td>\n",
       "      <td>78667fba-1d1d-45b8-8930-347a48b4dbef</td>\n",
       "      <td>16</td>\n",
       "      <td>abril</td>\n",
       "      <td>2016</td>\n",
       "      <td>04</td>\n",
       "    </tr>\n",
       "    <tr>\n",
       "      <th>22983</th>\n",
       "      <td>37.0</td>\n",
       "      <td>technician</td>\n",
       "      <td>DIVORCED</td>\n",
       "      <td>professional.course</td>\n",
       "      <td>0.0</td>\n",
       "      <td>0.0</td>\n",
       "      <td>0.0</td>\n",
       "      <td>cellular</td>\n",
       "      <td>65</td>\n",
       "      <td>2</td>\n",
       "      <td>999</td>\n",
       "      <td>0</td>\n",
       "      <td>NONEXISTENT</td>\n",
       "      <td>1.4</td>\n",
       "      <td>93444.0</td>\n",
       "      <td>-361.0</td>\n",
       "      <td>4857.0</td>\n",
       "      <td>52281.0</td>\n",
       "      <td>no</td>\n",
       "      <td>2019-09-30</td>\n",
       "      <td>45.269</td>\n",
       "      <td>-96.121</td>\n",
       "      <td>6537ae22-bcda-445b-b998-b16724fdc8b0</td>\n",
       "      <td>30</td>\n",
       "      <td>septiembre</td>\n",
       "      <td>2019</td>\n",
       "      <td>09</td>\n",
       "    </tr>\n",
       "  </tbody>\n",
       "</table>\n",
       "</div>"
      ],
      "text/plain": [
       "        age          job   marital            education  default housing loan  \\\n",
       "20637  55.0   technician   MARRIED    university.degree  unknown     1.0  0.0   \n",
       "11149  39.0  blue-collar   MARRIED             basic.6y  unknown     1.0  0.0   \n",
       "22983  37.0   technician  DIVORCED  professional.course      0.0     0.0  0.0   \n",
       "\n",
       "         contact  duration  campaign  pdays  previous     poutcome  \\\n",
       "20637   cellular       150         2    999         0  NONEXISTENT   \n",
       "11149  telephone       453         1    999         0  NONEXISTENT   \n",
       "22983   cellular        65         2    999         0  NONEXISTENT   \n",
       "\n",
       "       emp.var.rate  cons.price.idx  cons.conf.idx  euribor3m  nr.employed  \\\n",
       "20637           1.4         93444.0         -361.0     4965.0      52281.0   \n",
       "11149           1.4         94465.0         -418.0     4961.0      52281.0   \n",
       "22983           1.4         93444.0         -361.0     4857.0      52281.0   \n",
       "\n",
       "        y       date  latitude  longitude  \\\n",
       "20637  no 2015-12-14    31.256   -108.186   \n",
       "11149  no 2016-04-16    37.262    -81.258   \n",
       "22983  no 2019-09-30    45.269    -96.121   \n",
       "\n",
       "                                        id_ day  monthwrite  year month  \n",
       "20637  40a32c05-b7be-486f-af55-afd4f8e909ce  14   diciembre  2015    12  \n",
       "11149  78667fba-1d1d-45b8-8930-347a48b4dbef  16       abril  2016    04  \n",
       "22983  6537ae22-bcda-445b-b998-b16724fdc8b0  30  septiembre  2019    09  "
      ]
     },
     "execution_count": 36,
     "metadata": {},
     "output_type": "execute_result"
    }
   ],
   "source": [
    "# Lo primero es definir las listas, una para imputar usando la mediana, y otra lista para modificar el nulo por unknown\n",
    "c_numericas = ['age', 'euribor3m', 'cons.price.idx'] # para las columnas numéricas se usa la mediana\n",
    "c_categoricas = ['job', 'marital', 'education', 'housing', 'loan', 'default'] # para las columnas categoricas se usa unknown\n",
    "\n",
    "# COLUMNAS NUMÉRICAS -> MEDIANA\n",
    "\n",
    "for colum in c_numericas:\n",
    "    mediana = df_bank[colum].median()\n",
    "    df_bank[colum] = df_bank[colum].fillna(mediana)\n",
    "\n",
    "# COLUMNAS CATEGORICAS -> UNKNOWN\n",
    "\n",
    "for colum in c_categoricas:\n",
    "    df_bank[colum] = df_bank[colum].fillna('unknown')\n",
    "\n",
    "df_bank.sample(3)\n"
   ]
  },
  {
   "cell_type": "code",
   "execution_count": null,
   "id": "8bfd77f0",
   "metadata": {},
   "outputs": [
    {
     "name": "stdout",
     "output_type": "stream",
     "text": [
      "<class 'pandas.core.frame.DataFrame'>\n",
      "RangeIndex: 43000 entries, 0 to 42999\n",
      "Data columns (total 24 columns):\n",
      " #   Column          Non-Null Count  Dtype  \n",
      "---  ------          --------------  -----  \n",
      " 0   age             43000 non-null  float64\n",
      " 1   job             43000 non-null  object \n",
      " 2   marital         43000 non-null  object \n",
      " 3   education       43000 non-null  object \n",
      " 4   default         43000 non-null  object \n",
      " 5   housing         43000 non-null  object \n",
      " 6   loan            43000 non-null  object \n",
      " 7   contact         43000 non-null  object \n",
      " 8   duration        43000 non-null  int64  \n",
      " 9   campaign        43000 non-null  int64  \n",
      " 10  pdays           43000 non-null  int64  \n",
      " 11  previous        43000 non-null  int64  \n",
      " 12  poutcome        43000 non-null  object \n",
      " 13  emp.var.rate    43000 non-null  float64\n",
      " 14  cons.price.idx  43000 non-null  float64\n",
      " 15  cons.conf.idx   43000 non-null  float64\n",
      " 16  euribor3m       43000 non-null  float64\n",
      " 17  nr.employed     43000 non-null  float64\n",
      " 18  y               43000 non-null  object \n",
      " 19  date            42752 non-null  object \n",
      " 20  latitude        43000 non-null  float64\n",
      " 21  longitude       43000 non-null  float64\n",
      " 22  id_             43000 non-null  object \n",
      " 23  campaign_edit   43000 non-null  int64  \n",
      "dtypes: float64(8), int64(5), object(11)\n",
      "memory usage: 7.9+ MB\n"
     ]
    }
   ],
   "source": [
    "df_bank.info()"
   ]
  },
  {
   "cell_type": "code",
   "execution_count": 37,
   "id": "0e946ad7",
   "metadata": {},
   "outputs": [
    {
     "data": {
      "text/plain": [
       "array([2019, 2016, 2015, 2017, 2018], dtype=int32)"
      ]
     },
     "execution_count": 37,
     "metadata": {},
     "output_type": "execute_result"
    }
   ],
   "source": [
    "# Miramos qué años tienen valores\n",
    "df_bank['date'].dt.year.unique()\n"
   ]
  },
  {
   "cell_type": "code",
   "execution_count": 38,
   "id": "17fe4979",
   "metadata": {},
   "outputs": [
    {
     "data": {
      "text/plain": [
       "date\n",
       "2015    8544\n",
       "2016    8533\n",
       "2017    8562\n",
       "2018    8549\n",
       "2019    8564\n",
       "Name: count, dtype: int64"
      ]
     },
     "execution_count": 38,
     "metadata": {},
     "output_type": "execute_result"
    }
   ],
   "source": [
    "df_bank['date'].dt.year.value_counts().sort_index()"
   ]
  },
  {
   "cell_type": "code",
   "execution_count": 39,
   "id": "b543f8fc",
   "metadata": {},
   "outputs": [
    {
     "name": "stderr",
     "output_type": "stream",
     "text": [
      "/var/folders/ff/kw20mg9x5ylfh2vjn3h8xmjc0000gn/T/ipykernel_28163/684472998.py:1: SettingWithCopyWarning: \n",
      "A value is trying to be set on a copy of a slice from a DataFrame.\n",
      "Try using .loc[row_indexer,col_indexer] = value instead\n",
      "\n",
      "See the caveats in the documentation: https://pandas.pydata.org/pandas-docs/stable/user_guide/indexing.html#returning-a-view-versus-a-copy\n",
      "  df_bank['date'] = pd.to_datetime(df_bank['date'], errors='coerce')\n"
     ]
    }
   ],
   "source": [
    "df_bank['date'] = pd.to_datetime(df_bank['date'], errors='coerce')\n"
   ]
  },
  {
   "cell_type": "code",
   "execution_count": 40,
   "id": "21dc4154",
   "metadata": {},
   "outputs": [
    {
     "name": "stdout",
     "output_type": "stream",
     "text": [
      "year\n",
      "2015    8544\n",
      "2016    8533\n",
      "2017    8562\n",
      "2018    8549\n",
      "2019    8564\n",
      "Name: count, dtype: int64\n",
      "month\n",
      "1     3517\n",
      "2     3577\n",
      "3     3589\n",
      "4     3582\n",
      "5     3547\n",
      "6     3538\n",
      "7     3593\n",
      "8     3526\n",
      "9     3569\n",
      "10    3599\n",
      "11    3603\n",
      "12    3512\n",
      "Name: count, dtype: int64\n"
     ]
    },
    {
     "name": "stderr",
     "output_type": "stream",
     "text": [
      "/var/folders/ff/kw20mg9x5ylfh2vjn3h8xmjc0000gn/T/ipykernel_28163/3114244641.py:3: SettingWithCopyWarning: \n",
      "A value is trying to be set on a copy of a slice from a DataFrame.\n",
      "Try using .loc[row_indexer,col_indexer] = value instead\n",
      "\n",
      "See the caveats in the documentation: https://pandas.pydata.org/pandas-docs/stable/user_guide/indexing.html#returning-a-view-versus-a-copy\n",
      "  df_bank['year'] = df_bank['date'].dt.year\n",
      "/var/folders/ff/kw20mg9x5ylfh2vjn3h8xmjc0000gn/T/ipykernel_28163/3114244641.py:4: SettingWithCopyWarning: \n",
      "A value is trying to be set on a copy of a slice from a DataFrame.\n",
      "Try using .loc[row_indexer,col_indexer] = value instead\n",
      "\n",
      "See the caveats in the documentation: https://pandas.pydata.org/pandas-docs/stable/user_guide/indexing.html#returning-a-view-versus-a-copy\n",
      "  df_bank['month'] = df_bank['date'].dt.month\n"
     ]
    }
   ],
   "source": [
    "#Ahora vamos a estudiar cuantos años hay por mes:\n",
    "# Creamos año y mes como nuevas columnas\n",
    "df_bank['year'] = df_bank['date'].dt.year\n",
    "df_bank['month'] = df_bank['date'].dt.month\n",
    "\n",
    "# Por año\n",
    "print(df_bank['year'].value_counts().sort_index())\n",
    "\n",
    "# Por mes (todos los años juntos)\n",
    "print(df_bank['month'].value_counts().sort_index())\n",
    "\n",
    "#Ponemos el print para que nos salga el resultado de ambas salidas\n"
   ]
  },
  {
   "cell_type": "markdown",
   "id": "0ef9b117",
   "metadata": {},
   "source": [
    "### ANÁLISIS DESCRIPTIVO Y VISUALIZACIÓN DE DATOS"
   ]
  },
  {
   "cell_type": "code",
   "execution_count": 41,
   "id": "82f33a8a",
   "metadata": {},
   "outputs": [
    {
     "name": "stdout",
     "output_type": "stream",
     "text": [
      "Requirement already satisfied: seaborn in /Library/Frameworks/Python.framework/Versions/3.13/lib/python3.13/site-packages (0.13.2)\n",
      "Requirement already satisfied: numpy!=1.24.0,>=1.20 in /Library/Frameworks/Python.framework/Versions/3.13/lib/python3.13/site-packages (from seaborn) (2.2.2)\n",
      "Requirement already satisfied: pandas>=1.2 in /Library/Frameworks/Python.framework/Versions/3.13/lib/python3.13/site-packages (from seaborn) (2.2.3)\n",
      "Requirement already satisfied: matplotlib!=3.6.1,>=3.4 in /Library/Frameworks/Python.framework/Versions/3.13/lib/python3.13/site-packages (from seaborn) (3.10.6)\n",
      "Requirement already satisfied: contourpy>=1.0.1 in /Library/Frameworks/Python.framework/Versions/3.13/lib/python3.13/site-packages (from matplotlib!=3.6.1,>=3.4->seaborn) (1.3.3)\n",
      "Requirement already satisfied: cycler>=0.10 in /Library/Frameworks/Python.framework/Versions/3.13/lib/python3.13/site-packages (from matplotlib!=3.6.1,>=3.4->seaborn) (0.12.1)\n",
      "Requirement already satisfied: fonttools>=4.22.0 in /Library/Frameworks/Python.framework/Versions/3.13/lib/python3.13/site-packages (from matplotlib!=3.6.1,>=3.4->seaborn) (4.60.0)\n",
      "Requirement already satisfied: kiwisolver>=1.3.1 in /Library/Frameworks/Python.framework/Versions/3.13/lib/python3.13/site-packages (from matplotlib!=3.6.1,>=3.4->seaborn) (1.4.9)\n",
      "Requirement already satisfied: packaging>=20.0 in /Users/sofiaoliva/Library/Python/3.13/lib/python/site-packages (from matplotlib!=3.6.1,>=3.4->seaborn) (24.2)\n",
      "Requirement already satisfied: pillow>=8 in /Library/Frameworks/Python.framework/Versions/3.13/lib/python3.13/site-packages (from matplotlib!=3.6.1,>=3.4->seaborn) (11.3.0)\n",
      "Requirement already satisfied: pyparsing>=2.3.1 in /Library/Frameworks/Python.framework/Versions/3.13/lib/python3.13/site-packages (from matplotlib!=3.6.1,>=3.4->seaborn) (3.2.5)\n",
      "Requirement already satisfied: python-dateutil>=2.7 in /Users/sofiaoliva/Library/Python/3.13/lib/python/site-packages (from matplotlib!=3.6.1,>=3.4->seaborn) (2.9.0.post0)\n",
      "Requirement already satisfied: pytz>=2020.1 in /Library/Frameworks/Python.framework/Versions/3.13/lib/python3.13/site-packages (from pandas>=1.2->seaborn) (2024.2)\n",
      "Requirement already satisfied: tzdata>=2022.7 in /Library/Frameworks/Python.framework/Versions/3.13/lib/python3.13/site-packages (from pandas>=1.2->seaborn) (2025.1)\n",
      "Requirement already satisfied: six>=1.5 in /Users/sofiaoliva/Library/Python/3.13/lib/python/site-packages (from python-dateutil>=2.7->matplotlib!=3.6.1,>=3.4->seaborn) (1.17.0)\n",
      "\n",
      "\u001b[1m[\u001b[0m\u001b[34;49mnotice\u001b[0m\u001b[1;39;49m]\u001b[0m\u001b[39;49m A new release of pip is available: \u001b[0m\u001b[31;49m24.2\u001b[0m\u001b[39;49m -> \u001b[0m\u001b[32;49m25.2\u001b[0m\n",
      "\u001b[1m[\u001b[0m\u001b[34;49mnotice\u001b[0m\u001b[1;39;49m]\u001b[0m\u001b[39;49m To update, run: \u001b[0m\u001b[32;49mpip3 install --upgrade pip\u001b[0m\n",
      "Note: you may need to restart the kernel to use updated packages.\n"
     ]
    }
   ],
   "source": [
    "pip install seaborn"
   ]
  },
  {
   "cell_type": "markdown",
   "id": "6752cae0",
   "metadata": {},
   "source": [
    "##### Variables numéricas"
   ]
  },
  {
   "cell_type": "code",
   "execution_count": 42,
   "id": "bdac24d7",
   "metadata": {},
   "outputs": [],
   "source": [
    "# importamos las extensiones necesarias\n",
    "import seaborn as sns\n",
    "import matplotlib.pyplot as plt"
   ]
  },
  {
   "cell_type": "code",
   "execution_count": 43,
   "id": "cb1211c2",
   "metadata": {},
   "outputs": [
    {
     "data": {
      "text/plain": [
       "count    42752.000000\n",
       "mean        39.745018\n",
       "std          9.822489\n",
       "min         17.000000\n",
       "25%         33.000000\n",
       "50%         38.000000\n",
       "75%         46.000000\n",
       "max         98.000000\n",
       "Name: age, dtype: float64"
      ]
     },
     "execution_count": 43,
     "metadata": {},
     "output_type": "execute_result"
    }
   ],
   "source": [
    "# Vamos a estudiar la variable age para ver como se distribuyen los valores\n",
    "df_bank['age'].describe()"
   ]
  },
  {
   "cell_type": "code",
   "execution_count": 44,
   "id": "c042cb28",
   "metadata": {},
   "outputs": [
    {
     "data": {
      "image/png": "[encoded data removed]",
      "text/plain": [
       "<Figure size 700x400 with 1 Axes>"
      ]
     },
     "metadata": {},
     "output_type": "display_data"
    }
   ],
   "source": [
    "# Realizamos el histograma, para ver los datos de manera visual\n",
    "\n",
    "plt.figure(figsize=(7,4))\n",
    "sns.histplot(df_bank['age'], bins=30)\n",
    "plt.title(\"Distribución de la edad de los clientes\")\n",
    "plt.xlabel(\"Edad\")\n",
    "plt.ylabel(\"Frecuencia\")\n",
    "plt.show()\n"
   ]
  },
  {
   "cell_type": "code",
   "execution_count": 45,
   "id": "13659d1d",
   "metadata": {},
   "outputs": [
    {
     "data": {
      "image/png": "[encoded data removed]",
      "text/plain": [
       "<Figure size 600x200 with 1 Axes>"
      ]
     },
     "metadata": {},
     "output_type": "display_data"
    }
   ],
   "source": [
    "# A continuación estudiamos los outliers con un boxplot\n",
    "plt.figure(figsize=(6,2))\n",
    "sns.boxplot(x=df_bank['age'])\n",
    "plt.title(\"Boxplot de la edad de los clientes\")\n",
    "plt.show()\n"
   ]
  },
  {
   "cell_type": "markdown",
   "id": "2100a5c9",
   "metadata": {},
   "source": [
    "Como conclusión del análisis de la columna age, la mayoria de los clientes se concentran en la edad de 39 años (sobre todo entre 30 y 50 años). Como se ve en el gráfico Boxplot, existen outliers que se muetsran como circulos, sin embargo no parecen datos erroneos, simplemente clientes fuera del rango común."
   ]
  },
  {
   "cell_type": "code",
   "execution_count": 46,
   "id": "f4ea5f14",
   "metadata": {},
   "outputs": [
    {
     "data": {
      "text/plain": [
       "count    42752.000000\n",
       "mean       257.766186\n",
       "std        258.778698\n",
       "min          0.000000\n",
       "25%        102.000000\n",
       "50%        179.000000\n",
       "75%        319.000000\n",
       "max       4918.000000\n",
       "Name: duration, dtype: float64"
      ]
     },
     "execution_count": 46,
     "metadata": {},
     "output_type": "execute_result"
    }
   ],
   "source": [
    "# A continuación estudio la variable duration\n",
    "df_bank['duration'].describe()"
   ]
  },
  {
   "cell_type": "code",
   "execution_count": 47,
   "id": "a87603d0",
   "metadata": {},
   "outputs": [
    {
     "data": {
      "image/png": "[encoded data removed]",
      "text/plain": [
       "<Figure size 600x400 with 1 Axes>"
      ]
     },
     "metadata": {},
     "output_type": "display_data"
    }
   ],
   "source": [
    "# Dibujamos el histograma\n",
    "plt.figure(figsize=(6,4))\n",
    "sns.histplot(df_bank['duration'], bins=60)\n",
    "plt.title(\"Distribución de la duración de las llamadas\")\n",
    "plt.xlabel(\"Duración (segundos)\")\n",
    "plt.ylabel(\"Frecuencia\")\n",
    "plt.show()\n"
   ]
  },
  {
   "cell_type": "code",
   "execution_count": 48,
   "id": "f7d3822e",
   "metadata": {},
   "outputs": [
    {
     "data": {
      "image/png": "[encoded data removed]",
      "text/plain": [
       "<Figure size 600x200 with 1 Axes>"
      ]
     },
     "metadata": {},
     "output_type": "display_data"
    }
   ],
   "source": [
    "# Realizamos el gráfico Boxplot para ver los outliers\n",
    "plt.figure(figsize=(6,2))\n",
    "sns.boxplot(x=df_bank['duration'])\n",
    "plt.title(\"Boxplot de la duración de las llamadas\")\n",
    "plt.show()"
   ]
  },
  {
   "cell_type": "markdown",
   "id": "1ddd1231",
   "metadata": {},
   "source": [
    "La mayoria de llamadas son cortas, solo hay casos puntuales de llamadas más largas.\n",
    "Teniendo en cuenta que los datos que estamos tratando son de una campaña de marketin, habria que tener en cuenta que a mayor duración de la llamada, más posible es la posibilidad de conversión en ella."
   ]
  },
  {
   "cell_type": "code",
   "execution_count": 49,
   "id": "350645cf",
   "metadata": {},
   "outputs": [
    {
     "data": {
      "text/plain": [
       "count    42752.000000\n",
       "mean         2.566383\n",
       "std          2.770606\n",
       "min          1.000000\n",
       "25%          1.000000\n",
       "50%          2.000000\n",
       "75%          3.000000\n",
       "max         56.000000\n",
       "Name: campaign, dtype: float64"
      ]
     },
     "execution_count": 49,
     "metadata": {},
     "output_type": "execute_result"
    }
   ],
   "source": [
    "# A continuación estudiamos otra variable numérica: variable campaign\n",
    "df_bank['campaign'].describe()"
   ]
  },
  {
   "cell_type": "code",
   "execution_count": 50,
   "id": "457ffb09",
   "metadata": {},
   "outputs": [
    {
     "data": {
      "image/png": "[encoded data removed]",
      "text/plain": [
       "<Figure size 800x400 with 1 Axes>"
      ]
     },
     "metadata": {},
     "output_type": "display_data"
    }
   ],
   "source": [
    "# Dibujamos el histograma\n",
    "plt.figure(figsize=(8,4))\n",
    "sns.histplot(df_bank['campaign'], bins=40)\n",
    "plt.title(\"Distribución del número de contactos (campaign)\")\n",
    "plt.xlabel(\"Número de contactos en la campaña\")\n",
    "plt.ylabel(\"Frecuencia\")\n",
    "plt.show()\n"
   ]
  },
  {
   "cell_type": "code",
   "execution_count": 51,
   "id": "c6023c90",
   "metadata": {},
   "outputs": [
    {
     "data": {
      "image/png": "[encoded data removed]",
      "text/plain": [
       "<Figure size 600x200 with 1 Axes>"
      ]
     },
     "metadata": {},
     "output_type": "display_data"
    }
   ],
   "source": [
    "# Realizamos el gráfico Boxplot para ver los outliers\n",
    "plt.figure(figsize=(6,2))\n",
    "sns.boxplot(x=df_bank['campaign'])\n",
    "plt.title(\"Boxplot del número de contactos (campaign)\")\n",
    "plt.show()"
   ]
  },
  {
   "cell_type": "markdown",
   "id": "77fdd809",
   "metadata": {},
   "source": [
    "La campaña suele tener pocos intentos de contacto por cliente. Sin embargo, algunos clientes fueron contactados demasiadas veces, lo que podría distorsionar el análisis o indicar prácticas poco eficientes o outliers que hay que eliminar.Por ello vamos a tratar los valores altos como outliers y tratarlos."
   ]
  },
  {
   "cell_type": "code",
   "execution_count": 52,
   "id": "89b7a71a",
   "metadata": {},
   "outputs": [
    {
     "name": "stderr",
     "output_type": "stream",
     "text": [
      "/var/folders/ff/kw20mg9x5ylfh2vjn3h8xmjc0000gn/T/ipykernel_28163/1475079413.py:2: SettingWithCopyWarning: \n",
      "A value is trying to be set on a copy of a slice from a DataFrame.\n",
      "Try using .loc[row_indexer,col_indexer] = value instead\n",
      "\n",
      "See the caveats in the documentation: https://pandas.pydata.org/pandas-docs/stable/user_guide/indexing.html#returning-a-view-versus-a-copy\n",
      "  df_bank['campaign_edit'] = df_bank['campaign'].clip(upper=10)\n"
     ]
    },
    {
     "data": {
      "image/png": "[encoded data removed]",
      "text/plain": [
       "<Figure size 1000x400 with 1 Axes>"
      ]
     },
     "metadata": {},
     "output_type": "display_data"
    }
   ],
   "source": [
    "# Ponemos un límite máximo de 10 en la variable campaign\n",
    "df_bank['campaign_edit'] = df_bank['campaign'].clip(upper=10)\n",
    "\n",
    "# Comparamos ambas distribuciones\n",
    "plt.figure(figsize=(10,4))\n",
    "sns.histplot(df_bank['campaign'], bins=30, color=\"pink\", alpha=0.5, label=\"Original\")\n",
    "sns.histplot(df_bank['campaign_edit'], bins=30, color=\"blue\", alpha=0.5, label=\"Máx=10\")\n",
    "plt.legend()\n",
    "plt.show()\n"
   ]
  },
  {
   "cell_type": "markdown",
   "id": "07b433e3",
   "metadata": {},
   "source": [
    "##### Variables categóricas"
   ]
  },
  {
   "cell_type": "code",
   "execution_count": 53,
   "id": "631c4265",
   "metadata": {},
   "outputs": [
    {
     "name": "stdout",
     "output_type": "stream",
     "text": [
      "job\n",
      "admin.           10802\n",
      "blue-collar       9605\n",
      "technician        6984\n",
      "services          4135\n",
      "management        3036\n",
      "retired           1782\n",
      "entrepreneur      1509\n",
      "self-employed     1483\n",
      "housemaid         1117\n",
      "unemployed        1059\n",
      "student            896\n",
      "unknown            344\n",
      "Name: count, dtype: int64\n",
      "marital\n",
      "MARRIED     25840\n",
      "SINGLE      12043\n",
      "DIVORCED     4784\n",
      "unknown        85\n",
      "Name: count, dtype: int64\n",
      "education\n",
      "university.degree      12642\n",
      "high.school             9872\n",
      "basic.9y                6281\n",
      "professional.course     5440\n",
      "basic.4y                4331\n",
      "basic.6y                2374\n",
      "unknown                 1794\n",
      "illiterate                18\n",
      "Name: count, dtype: int64\n"
     ]
    }
   ],
   "source": [
    "# Profesiones más frecuentes\n",
    "print(df_bank['job'].value_counts())\n",
    "\n",
    "# Estado civil\n",
    "print(df_bank['marital'].value_counts())\n",
    "\n",
    "# Educación\n",
    "print(df_bank['education'].value_counts())\n"
   ]
  },
  {
   "cell_type": "code",
   "execution_count": 54,
   "id": "b1f0794a",
   "metadata": {},
   "outputs": [
    {
     "data": {
      "image/png": "[encoded data removed]",
      "text/plain": [
       "<Figure size 1000x500 with 1 Axes>"
      ]
     },
     "metadata": {},
     "output_type": "display_data"
    },
    {
     "data": {
      "image/png": "[encoded data removed]",
      "text/plain": [
       "<Figure size 600x400 with 1 Axes>"
      ]
     },
     "metadata": {},
     "output_type": "display_data"
    },
    {
     "data": {
      "image/png": "[encoded data removed]",
      "text/plain": [
       "<Figure size 800x500 with 1 Axes>"
      ]
     },
     "metadata": {},
     "output_type": "display_data"
    }
   ],
   "source": [
    "# Profesión\n",
    "plt.figure(figsize=(10,5))\n",
    "sns.countplot(data=df_bank, x='job', order=df_bank['job'].value_counts().index)\n",
    "plt.xticks(rotation=45)\n",
    "plt.title(\"Distribución de clientes por profesión\")\n",
    "plt.show()\n",
    "\n",
    "# Estado civil\n",
    "plt.figure(figsize=(6,4))\n",
    "sns.countplot(data=df_bank, x='marital', order=df_bank['marital'].value_counts().index)\n",
    "plt.title(\"Distribución de clientes por estado civil\")\n",
    "plt.show()\n",
    "\n",
    "# Educación\n",
    "plt.figure(figsize=(8,5))\n",
    "sns.countplot(data=df_bank, x='education', order=df_bank['education'].value_counts().index)\n",
    "plt.xticks(rotation=45)\n",
    "plt.title(\"Distribución de clientes por nivel educativo\")\n",
    "plt.show()\n"
   ]
  },
  {
   "cell_type": "markdown",
   "id": "b427b84c",
   "metadata": {},
   "source": [
    "Las profesiones más comunes son:\n",
    "- admin. (~11.000 clientes)\n",
    "- blue-collar (~9.500)\n",
    "- technician (~7.000)\n",
    "\n",
    "Estado civil (marital):\n",
    "- Mayoría married (~26.000, más de la mitad)\n",
    "- Bastantes single (~12.000)\n",
    "- Menor proporción de divorced (~5.000)\n",
    "\n",
    "Nivel educativo (education):\n",
    "- Predominan university degree (~12.500) y high school (~10.000)\n",
    "- Con menor peso: basic 9y / 4y / 6y (nivel básico)\n",
    "- Muy pocos illiterate (casi despreciable)"
   ]
  }
 ],
 "metadata": {
  "kernelspec": {
   "display_name": "Python 3",
   "language": "python",
   "name": "python3"
  },
  "language_info": {
   "codemirror_mode": {
    "name": "ipython",
    "version": 3
   },
   "file_extension": ".py",
   "mimetype": "text/x-python",
   "name": "python",
   "nbconvert_exporter": "python",
   "pygments_lexer": "ipython3",
   "version": "3.13.0"
  }
 },
 "nbformat": 4,
 "nbformat_minor": 5
}
